{
 "cells": [
  {
   "cell_type": "code",
   "execution_count": 1,
   "id": "18ea4d99",
   "metadata": {},
   "outputs": [],
   "source": [
    "import math\n",
    "from random import random, randrange, choice\n",
    "import sys\n",
    "import os\n",
    "import datetime\n",
    "import time\n",
    "from urllib import request\n",
    "from bs4 import BeautifulSoup\n",
    "\n"
   ]
  },
  {
   "cell_type": "code",
   "execution_count": 14,
   "id": "fc760b81",
   "metadata": {},
   "outputs": [
    {
     "name": "stdout",
     "output_type": "stream",
     "text": [
      "os.listdir(): ['.git', '.gitignore', '.ipynb_checkpoints', '.vscode', 'Modul.ipynb', 'pandas.ipynb', 'README.md', 'scratchpad.ipynb', 'scratchpad.py', 'Untitled.ipynb', 'work_list.csv']\n",
      "\n",
      "#폴더와 파일 구분하기\n",
      "폴더: .git\n",
      "파일: .gitignore\n",
      "폴더: .ipynb_checkpoints\n",
      "폴더: .vscode\n",
      "파일: Modul.ipynb\n",
      "파일: pandas.ipynb\n",
      "파일: README.md\n",
      "파일: scratchpad.ipynb\n",
      "파일: scratchpad.py\n",
      "파일: Untitled.ipynb\n",
      "파일: work_list.csv\n"
     ]
    }
   ],
   "source": [
    "output = os.listdir(\".\")\n",
    "print(\"os.listdir():\",output)\n",
    "print()\n",
    "\n",
    "print(\"#폴더와 파일 구분하기\")\n",
    "for path in output:\n",
    "    if os.path.isdir(path):\n",
    "        print(\"폴더:\",path)\n",
    "    else:\n",
    "        print(\"파일:\",path)"
   ]
  },
  {
   "cell_type": "code",
   "execution_count": 15,
   "id": "1e7b560d",
   "metadata": {},
   "outputs": [
    {
     "name": "stdout",
     "output_type": "stream",
     "text": [
      "파일: .COMMIT_EDITMSG.swp\n",
      "파일: COMMIT_EDITMSG\n",
      "파일: config\n",
      "파일: description\n",
      "파일: FETCH_HEAD\n",
      "파일: HEAD\n",
      "파일: hooks\n",
      "파일: index\n",
      "파일: info\n",
      "파일: logs\n",
      "파일: objects\n",
      "파일: ORIG_HEAD\n",
      "파일: packed-refs\n",
      "파일: refs\n",
      "파일: .gitignore\n",
      "파일: Untitled-checkpoint.ipynb\n",
      "파일: settings.json\n",
      "파일: Modul.ipynb\n",
      "파일: pandas.ipynb\n",
      "파일: README.md\n",
      "파일: scratchpad.ipynb\n",
      "파일: scratchpad.py\n",
      "파일: Untitled.ipynb\n",
      "파일: work_list.csv\n"
     ]
    }
   ],
   "source": [
    "def read_folder(path):\n",
    "    output = os.listdir(path)\n",
    "\n",
    "    for item in output:\n",
    "        if os.path.isdir(item):\n",
    "            read_folder(item)\n",
    "        else:\n",
    "            print(\"파일:\",item)\n",
    "read_folder(\".\")"
   ]
  },
  {
   "cell_type": "code",
   "execution_count": 4,
   "id": "444f267e",
   "metadata": {},
   "outputs": [],
   "source": [
    "url = \"https://www.weather.go.kr/weather/forecast/mid-term-rss3.jsp?stnId=109\"\n",
    "response = request.urlopen(url)\n",
    "soup = BeautifulSoup(response, \"html.parser\")\n",
    "\n",
    "locations = soup.find_all(\"location\")\n",
    "\n",
    "for loc in locations:\n",
    "        print(\"도시:\", loc.find(\"city\").text)\n",
    "        print(\"날씨:\", loc.find(\"wf\").text)\n",
    "        print(\"최저기온:\", loc.find(\"tmn\").text)\n",
    "        print(\"최고기온:\", loc.find(\"tmx\").text)\n",
    "        print(\"---\")"
   ]
  },
  {
   "cell_type": "code",
   "execution_count": null,
   "id": "61555704",
   "metadata": {},
   "outputs": [],
   "source": []
  }
 ],
 "metadata": {
  "kernelspec": {
   "display_name": "pyt310",
   "language": "python",
   "name": "python3"
  },
  "language_info": {
   "codemirror_mode": {
    "name": "ipython",
    "version": 3
   },
   "file_extension": ".py",
   "mimetype": "text/x-python",
   "name": "python",
   "nbconvert_exporter": "python",
   "pygments_lexer": "ipython3",
   "version": "3.10.18"
  }
 },
 "nbformat": 4,
 "nbformat_minor": 5
}
