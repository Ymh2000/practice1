{
 "cells": [
  {
   "cell_type": "code",
   "execution_count": 1,
   "id": "d9951c83",
   "metadata": {},
   "outputs": [],
   "source": [
    "from tkinter import *"
   ]
  },
  {
   "cell_type": "code",
   "execution_count": 19,
   "id": "941aa05c",
   "metadata": {},
   "outputs": [],
   "source": [
    "from datetime import datetime"
   ]
  },
  {
   "cell_type": "code",
   "execution_count": 22,
   "id": "7423fd51",
   "metadata": {},
   "outputs": [
    {
     "data": {
      "text/plain": [
       "<bound method Misc.mainloop of <tkinter.Tk object .>>"
      ]
     },
     "execution_count": 22,
     "metadata": {},
     "output_type": "execute_result"
    }
   ],
   "source": [
    "def what_time():\n",
    "    print(datetime.now())\n",
    "\n",
    "win = Tk()\n",
    "win.geometry(\"300x100\")\n",
    "win.title(\"Chobo_Coding\")\n",
    "\n",
    "btn = Button(win, text = \"Time\")\n",
    "btn.pack()\n",
    "btn.config(width=10,height=3)\n",
    "btn.config(command = what_time)\n",
    "\n",
    "win.mainloop"
   ]
  },
  {
   "cell_type": "code",
   "execution_count": 20,
   "id": "136ce4a2",
   "metadata": {},
   "outputs": [
    {
     "name": "stdout",
     "output_type": "stream",
     "text": [
      "2025-06-16 15:11:06.929560\n"
     ]
    }
   ],
   "source": [
    "print(datetime.now())"
   ]
  },
  {
   "cell_type": "code",
   "execution_count": null,
   "id": "840a92d1",
   "metadata": {},
   "outputs": [],
   "source": []
  }
 ],
 "metadata": {
  "kernelspec": {
   "display_name": "pyt310",
   "language": "python",
   "name": "python3"
  },
  "language_info": {
   "codemirror_mode": {
    "name": "ipython",
    "version": 3
   },
   "file_extension": ".py",
   "mimetype": "text/x-python",
   "name": "python",
   "nbconvert_exporter": "python",
   "pygments_lexer": "ipython3",
   "version": "3.10.18"
  }
 },
 "nbformat": 4,
 "nbformat_minor": 5
}
