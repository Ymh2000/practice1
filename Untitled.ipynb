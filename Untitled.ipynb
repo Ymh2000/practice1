{
 "cells": [
  {
   "cell_type": "code",
   "execution_count": 59,
   "id": "1b0271c8-8168-491c-b068-f110376ba27f",
   "metadata": {},
   "outputs": [
    {
     "name": "stdout",
     "output_type": "stream",
     "text": [
      "hell\n"
     ]
    }
   ],
   "source": [
    "print(\"hell\")"
   ]
  },
  {
   "cell_type": "code",
   "execution_count": 60,
   "id": "02a0325c-7dbe-4c5e-98d6-8cd54c52f1c9",
   "metadata": {},
   "outputs": [
    {
     "ename": "ValueError",
     "evalue": "could not convert string to float: ''",
     "output_type": "error",
     "traceback": [
      "\u001b[1;31m---------------------------------------------------------------------------\u001b[0m",
      "\u001b[1;31mValueError\u001b[0m                                Traceback (most recent call last)",
      "Cell \u001b[1;32mIn[60], line 1\u001b[0m\n\u001b[1;32m----> 1\u001b[0m a\u001b[38;5;241m=\u001b[39m\u001b[38;5;28;43mfloat\u001b[39;49m\u001b[43m(\u001b[49m\u001b[38;5;28;43minput\u001b[39;49m\u001b[43m(\u001b[49m\u001b[38;5;124;43m\"\u001b[39;49m\u001b[38;5;124;43m실수>\u001b[39;49m\u001b[38;5;124;43m\"\u001b[39;49m\u001b[43m)\u001b[49m\u001b[43m)\u001b[49m\n",
      "\u001b[1;31mValueError\u001b[0m: could not convert string to float: ''"
     ]
    }
   ],
   "source": [
    "a=float(input(\"실수>\"))"
   ]
  },
  {
   "cell_type": "code",
   "execution_count": null,
   "id": "a9206f11-be61-4ede-9670-a86fd13dc933",
   "metadata": {},
   "outputs": [
    {
     "name": "stdout",
     "output_type": "stream",
     "text": [
      "양수\n"
     ]
    }
   ],
   "source": [
    "if a > 0:\n",
    "    print(\"양수\")\n",
    "elif a < 0:\n",
    "    print(\"음수\")\n",
    "else:\n",
    "    print(\"0\")"
   ]
  },
  {
   "cell_type": "code",
   "execution_count": null,
   "id": "30e6d3ec-45a6-4b3f-834c-1ea7dbd24e6b",
   "metadata": {},
   "outputs": [
    {
     "name": "stdout",
     "output_type": "stream",
     "text": [
      "d\n"
     ]
    }
   ],
   "source": [
    "print(\"d\")"
   ]
  },
  {
   "cell_type": "code",
   "execution_count": null,
   "id": "bca5d59e",
   "metadata": {},
   "outputs": [
    {
     "name": "stdout",
     "output_type": "stream",
     "text": [
      "Collecting numpy\n",
      "  Downloading numpy-2.2.6-cp310-cp310-win_amd64.whl.metadata (60 kB)\n",
      "Downloading numpy-2.2.6-cp310-cp310-win_amd64.whl (12.9 MB)\n",
      "   ---------------------------------------- 0.0/12.9 MB ? eta -:--:--\n",
      "   ----- ---------------------------------- 1.8/12.9 MB 9.1 MB/s eta 0:00:02\n",
      "   ------------- -------------------------- 4.2/12.9 MB 10.1 MB/s eta 0:00:01\n",
      "   -------------------- ------------------- 6.6/12.9 MB 10.3 MB/s eta 0:00:01\n",
      "   --------------------------- ------------ 8.9/12.9 MB 10.4 MB/s eta 0:00:01\n",
      "   ---------------------------------- ----- 11.0/12.9 MB 10.6 MB/s eta 0:00:01\n",
      "   ---------------------------------------- 12.9/12.9 MB 10.5 MB/s eta 0:00:00\n",
      "Installing collected packages: numpy\n",
      "Successfully installed numpy-2.2.6\n"
     ]
    }
   ],
   "source": [
    "!pip install numpy"
   ]
  },
  {
   "cell_type": "code",
   "execution_count": null,
   "id": "269fd914",
   "metadata": {},
   "outputs": [],
   "source": [
    "import numpy as np"
   ]
  },
  {
   "cell_type": "code",
   "execution_count": null,
   "id": "3b3589d7",
   "metadata": {},
   "outputs": [],
   "source": [
    "x = np.array([[1, 2, 3],\n",
    "              [4, 5, 6],\n",
    "              [7, 8, 9]])"
   ]
  },
  {
   "cell_type": "code",
   "execution_count": null,
   "id": "74f00fb7",
   "metadata": {},
   "outputs": [
    {
     "data": {
      "text/plain": [
       "array([[9, 8, 7],\n",
       "       [6, 5, 4],\n",
       "       [3, 2, 1]])"
      ]
     },
     "execution_count": 5,
     "metadata": {},
     "output_type": "execute_result"
    }
   ],
   "source": [
    "np.flip(x)"
   ]
  },
  {
   "cell_type": "code",
   "execution_count": null,
   "id": "356d36be",
   "metadata": {},
   "outputs": [],
   "source": [
    "a=int(input(\"정수를 입력하시오.\"))"
   ]
  },
  {
   "cell_type": "code",
   "execution_count": null,
   "id": "44341fff",
   "metadata": {},
   "outputs": [
    {
     "name": "stdout",
     "output_type": "stream",
     "text": [
      "홀수입니다.\n"
     ]
    }
   ],
   "source": [
    "if a%2 == 1:\n",
    "    print(\"홀수입니다.\")\n",
    "else:\n",
    "    print(\"짝수입니다.\")"
   ]
  },
  {
   "cell_type": "code",
   "execution_count": null,
   "id": "f2d0ca88",
   "metadata": {},
   "outputs": [],
   "source": [
    "list_a=[273, 32, 103, \"문자열\", True, False]"
   ]
  },
  {
   "cell_type": "code",
   "execution_count": null,
   "id": "33a8b748",
   "metadata": {},
   "outputs": [
    {
     "data": {
      "text/plain": [
       "'문자열'"
      ]
     },
     "execution_count": 11,
     "metadata": {},
     "output_type": "execute_result"
    }
   ],
   "source": [
    "list_a[3]"
   ]
  },
  {
   "cell_type": "code",
   "execution_count": null,
   "id": "a58b9f2e",
   "metadata": {},
   "outputs": [
    {
     "data": {
      "text/plain": [
       "False"
      ]
     },
     "execution_count": 12,
     "metadata": {},
     "output_type": "execute_result"
    }
   ],
   "source": [
    "list_a[-1]"
   ]
  },
  {
   "cell_type": "code",
   "execution_count": null,
   "id": "26ce4ad7",
   "metadata": {},
   "outputs": [
    {
     "data": {
      "text/plain": [
       "[273, 32, 103, '문자열']"
      ]
     },
     "execution_count": 13,
     "metadata": {},
     "output_type": "execute_result"
    }
   ],
   "source": [
    "list_a[:4]"
   ]
  },
  {
   "cell_type": "code",
   "execution_count": null,
   "id": "b1a24847",
   "metadata": {},
   "outputs": [
    {
     "name": "stdout",
     "output_type": "stream",
     "text": [
      "6\n"
     ]
    }
   ],
   "source": [
    "print(len(list_a))"
   ]
  },
  {
   "cell_type": "code",
   "execution_count": null,
   "id": "1dba6aa6",
   "metadata": {},
   "outputs": [],
   "source": [
    "list_a[1]=199"
   ]
  },
  {
   "cell_type": "code",
   "execution_count": null,
   "id": "7391c9b4",
   "metadata": {},
   "outputs": [
    {
     "name": "stdout",
     "output_type": "stream",
     "text": [
      "[273, 199, 103, '문자열', True, False]\n"
     ]
    }
   ],
   "source": [
    "print(list_a)"
   ]
  },
  {
   "cell_type": "code",
   "execution_count": null,
   "id": "48aac70e",
   "metadata": {},
   "outputs": [
    {
     "data": {
      "text/plain": [
       "[273, 199, 103, '문자열', True, False]"
      ]
     },
     "execution_count": 17,
     "metadata": {},
     "output_type": "execute_result"
    }
   ],
   "source": [
    "list_a"
   ]
  },
  {
   "cell_type": "code",
   "execution_count": null,
   "id": "542f8a6d",
   "metadata": {},
   "outputs": [
    {
     "data": {
      "text/plain": [
       "5"
      ]
     },
     "execution_count": 18,
     "metadata": {},
     "output_type": "execute_result"
    }
   ],
   "source": [
    "a"
   ]
  },
  {
   "cell_type": "code",
   "execution_count": null,
   "id": "05e8dc3c",
   "metadata": {},
   "outputs": [
    {
     "ename": "TypeError",
     "evalue": "'bool' object is not subscriptable",
     "output_type": "error",
     "traceback": [
      "\u001b[1;31m---------------------------------------------------------------------------\u001b[0m",
      "\u001b[1;31mTypeError\u001b[0m                                 Traceback (most recent call last)",
      "Cell \u001b[1;32mIn[19], line 1\u001b[0m\n\u001b[1;32m----> 1\u001b[0m \u001b[43mlist_a\u001b[49m\u001b[43m[\u001b[49m\u001b[38;5;241;43m4\u001b[39;49m\u001b[43m]\u001b[49m\u001b[43m[\u001b[49m\u001b[38;5;241;43m3\u001b[39;49m\u001b[43m]\u001b[49m\n",
      "\u001b[1;31mTypeError\u001b[0m: 'bool' object is not subscriptable"
     ]
    }
   ],
   "source": [
    "list_a[4][3]"
   ]
  },
  {
   "cell_type": "code",
   "execution_count": null,
   "id": "cb2a7074",
   "metadata": {},
   "outputs": [
    {
     "data": {
      "text/plain": [
       "'자'"
      ]
     },
     "execution_count": 20,
     "metadata": {},
     "output_type": "execute_result"
    }
   ],
   "source": [
    "list_a[3][1]"
   ]
  },
  {
   "cell_type": "code",
   "execution_count": null,
   "id": "d42220a0",
   "metadata": {},
   "outputs": [
    {
     "name": "stdout",
     "output_type": "stream",
     "text": [
      "#리스트\n"
     ]
    }
   ],
   "source": [
    "print('#리스트')"
   ]
  },
  {
   "cell_type": "code",
   "execution_count": null,
   "id": "bc160c7e",
   "metadata": {},
   "outputs": [
    {
     "name": "stdout",
     "output_type": "stream",
     "text": [
      "list_a= [273, 199, 103, '문자열', True, False]\n"
     ]
    }
   ],
   "source": [
    "print(\"list_a=\",list_a)"
   ]
  },
  {
   "cell_type": "code",
   "execution_count": null,
   "id": "038f8448",
   "metadata": {},
   "outputs": [],
   "source": [
    "list_b=[1,2,3,'자료형',False,True]"
   ]
  },
  {
   "cell_type": "code",
   "execution_count": null,
   "id": "7dac8191",
   "metadata": {},
   "outputs": [
    {
     "name": "stdout",
     "output_type": "stream",
     "text": [
      "list_a+list_b= [273, 199, 103, '문자열', True, False, 1, 2, 3, '자료형', False, True]\n"
     ]
    }
   ],
   "source": [
    "print(\"list_a+list_b=\",list_a+list_b)"
   ]
  },
  {
   "cell_type": "code",
   "execution_count": null,
   "id": "d0602b81",
   "metadata": {},
   "outputs": [
    {
     "name": "stdout",
     "output_type": "stream",
     "text": [
      "[1, 2, 3, '자료형', False, True, 1, 2, 3, '자료형', False, True]\n"
     ]
    }
   ],
   "source": [
    "print(list_b*2)"
   ]
  },
  {
   "cell_type": "code",
   "execution_count": null,
   "id": "0c6b064c",
   "metadata": {},
   "outputs": [
    {
     "name": "stdout",
     "output_type": "stream",
     "text": [
      "6\n"
     ]
    }
   ],
   "source": [
    "print(len(list_b))"
   ]
  },
  {
   "cell_type": "code",
   "execution_count": null,
   "id": "b068a5b6",
   "metadata": {},
   "outputs": [
    {
     "ename": "TypeError",
     "evalue": "list indices must be integers or slices, not tuple",
     "output_type": "error",
     "traceback": [
      "\u001b[1;31m---------------------------------------------------------------------------\u001b[0m",
      "\u001b[1;31mTypeError\u001b[0m                                 Traceback (most recent call last)",
      "Cell \u001b[1;32mIn[27], line 1\u001b[0m\n\u001b[1;32m----> 1\u001b[0m \u001b[43mlist_a\u001b[49m\u001b[43m[\u001b[49m\u001b[38;5;241;43m1\u001b[39;49m\u001b[43m,\u001b[49m\u001b[38;5;241;43m2\u001b[39;49m\u001b[43m,\u001b[49m\u001b[38;5;241;43m3\u001b[39;49m\u001b[43m]\u001b[49m\n",
      "\u001b[1;31mTypeError\u001b[0m: list indices must be integers or slices, not tuple"
     ]
    }
   ],
   "source": [
    "list_a[1,2,3]"
   ]
  },
  {
   "cell_type": "code",
   "execution_count": null,
   "id": "2531ea63",
   "metadata": {},
   "outputs": [],
   "source": [
    "list_a=[1,2,3]"
   ]
  },
  {
   "cell_type": "code",
   "execution_count": null,
   "id": "a133e992",
   "metadata": {},
   "outputs": [],
   "source": [
    "list_a.append(4)"
   ]
  },
  {
   "cell_type": "code",
   "execution_count": null,
   "id": "48a801ff",
   "metadata": {},
   "outputs": [
    {
     "data": {
      "text/plain": [
       "[1, 2, 3, 4]"
      ]
     },
     "execution_count": 44,
     "metadata": {},
     "output_type": "execute_result"
    }
   ],
   "source": [
    "list_a"
   ]
  },
  {
   "cell_type": "code",
   "execution_count": null,
   "id": "e6ff2429",
   "metadata": {},
   "outputs": [],
   "source": [
    "list_a.insert(4,5)"
   ]
  },
  {
   "cell_type": "code",
   "execution_count": null,
   "id": "c6735791",
   "metadata": {},
   "outputs": [],
   "source": [
    "list_a.extend([6,7,8])"
   ]
  },
  {
   "cell_type": "code",
   "execution_count": null,
   "id": "cd401f89",
   "metadata": {},
   "outputs": [
    {
     "data": {
      "text/plain": [
       "[1, 2, 3, 4, 5, 6, 7, 8]"
      ]
     },
     "execution_count": 48,
     "metadata": {},
     "output_type": "execute_result"
    }
   ],
   "source": [
    "list_a"
   ]
  },
  {
   "cell_type": "code",
   "execution_count": null,
   "id": "78712f2c",
   "metadata": {},
   "outputs": [
    {
     "data": {
      "text/plain": [
       "[1, 2, 3, '자료형', False, True]"
      ]
     },
     "execution_count": 49,
     "metadata": {},
     "output_type": "execute_result"
    }
   ],
   "source": [
    "list_b"
   ]
  },
  {
   "cell_type": "code",
   "execution_count": null,
   "id": "53743c4d",
   "metadata": {},
   "outputs": [],
   "source": [
    "del list_b[0:7]"
   ]
  },
  {
   "cell_type": "code",
   "execution_count": null,
   "id": "fb7af6a7",
   "metadata": {},
   "outputs": [
    {
     "data": {
      "text/plain": [
       "[]"
      ]
     },
     "execution_count": 51,
     "metadata": {},
     "output_type": "execute_result"
    }
   ],
   "source": [
    "list_b"
   ]
  },
  {
   "cell_type": "code",
   "execution_count": 68,
   "id": "6ad8f6ab",
   "metadata": {},
   "outputs": [],
   "source": [
    "list_b.append([10,11,12,13,14])"
   ]
  },
  {
   "cell_type": "code",
   "execution_count": null,
   "id": "fd484178",
   "metadata": {},
   "outputs": [
    {
     "data": {
      "text/plain": [
       "[[10, 11, 12, 13, 14]]"
      ]
     },
     "execution_count": 53,
     "metadata": {},
     "output_type": "execute_result"
    }
   ],
   "source": [
    "list_b"
   ]
  },
  {
   "cell_type": "code",
   "execution_count": null,
   "id": "c3647282",
   "metadata": {},
   "outputs": [],
   "source": [
    "del list_b[0]"
   ]
  },
  {
   "cell_type": "code",
   "execution_count": 74,
   "id": "ed37857e",
   "metadata": {},
   "outputs": [
    {
     "data": {
      "text/plain": [
       "[10, 11]"
      ]
     },
     "execution_count": 74,
     "metadata": {},
     "output_type": "execute_result"
    }
   ],
   "source": [
    "list_b"
   ]
  },
  {
   "cell_type": "code",
   "execution_count": null,
   "id": "20a908fc",
   "metadata": {},
   "outputs": [
    {
     "ename": "TypeError",
     "evalue": "list.append() takes exactly one argument (5 given)",
     "output_type": "error",
     "traceback": [
      "\u001b[1;31m---------------------------------------------------------------------------\u001b[0m",
      "\u001b[1;31mTypeError\u001b[0m                                 Traceback (most recent call last)",
      "Cell \u001b[1;32mIn[56], line 1\u001b[0m\n\u001b[1;32m----> 1\u001b[0m \u001b[43mlist_b\u001b[49m\u001b[38;5;241;43m.\u001b[39;49m\u001b[43mappend\u001b[49m\u001b[43m(\u001b[49m\u001b[38;5;241;43m10\u001b[39;49m\u001b[43m,\u001b[49m\u001b[38;5;241;43m11\u001b[39;49m\u001b[43m,\u001b[49m\u001b[38;5;241;43m12\u001b[39;49m\u001b[43m,\u001b[49m\u001b[38;5;241;43m13\u001b[39;49m\u001b[43m,\u001b[49m\u001b[38;5;241;43m14\u001b[39;49m\u001b[43m)\u001b[49m\n",
      "\u001b[1;31mTypeError\u001b[0m: list.append() takes exactly one argument (5 given)"
     ]
    }
   ],
   "source": [
    "list_b.append(10,11,12,13,14)"
   ]
  },
  {
   "cell_type": "code",
   "execution_count": null,
   "id": "bf26c780",
   "metadata": {},
   "outputs": [],
   "source": [
    "list_b.extend([10,11,12,13])"
   ]
  },
  {
   "cell_type": "code",
   "execution_count": 61,
   "id": "f5b83dcd",
   "metadata": {},
   "outputs": [
    {
     "data": {
      "text/plain": [
       "[10, 11, 12, 13]"
      ]
     },
     "execution_count": 61,
     "metadata": {},
     "output_type": "execute_result"
    }
   ],
   "source": [
    "list_b"
   ]
  },
  {
   "cell_type": "code",
   "execution_count": 64,
   "id": "b212dbcd",
   "metadata": {},
   "outputs": [
    {
     "data": {
      "text/plain": [
       "[1, 2, 3, 4, 5, 6, 7, 8, 9, 10, 11, 12, 13]"
      ]
     },
     "execution_count": 64,
     "metadata": {},
     "output_type": "execute_result"
    }
   ],
   "source": [
    "list_a+list_b"
   ]
  },
  {
   "cell_type": "code",
   "execution_count": 63,
   "id": "39062602",
   "metadata": {},
   "outputs": [],
   "source": [
    "list_a.append(9)"
   ]
  },
  {
   "cell_type": "code",
   "execution_count": 70,
   "id": "818f788d",
   "metadata": {},
   "outputs": [],
   "source": [
    "del list_b[3]"
   ]
  },
  {
   "cell_type": "code",
   "execution_count": 73,
   "id": "8d30d42a",
   "metadata": {},
   "outputs": [
    {
     "data": {
      "text/plain": [
       "12"
      ]
     },
     "execution_count": 73,
     "metadata": {},
     "output_type": "execute_result"
    }
   ],
   "source": [
    "list_b.pop(2)"
   ]
  },
  {
   "cell_type": "code",
   "execution_count": 75,
   "id": "7fa5a826",
   "metadata": {},
   "outputs": [],
   "source": [
    "list_b.extend([12,13,14,15])"
   ]
  },
  {
   "cell_type": "code",
   "execution_count": 85,
   "id": "5061de88",
   "metadata": {},
   "outputs": [
    {
     "data": {
      "text/plain": [
       "[]"
      ]
     },
     "execution_count": 85,
     "metadata": {},
     "output_type": "execute_result"
    }
   ],
   "source": [
    "list_b"
   ]
  },
  {
   "cell_type": "code",
   "execution_count": 77,
   "id": "b2edb7e9",
   "metadata": {},
   "outputs": [],
   "source": [
    "list_b.remove(14)"
   ]
  },
  {
   "cell_type": "code",
   "execution_count": 79,
   "id": "f780e361",
   "metadata": {},
   "outputs": [],
   "source": [
    "list_b.insert(4,14)"
   ]
  },
  {
   "cell_type": "code",
   "execution_count": 84,
   "id": "98bedfae",
   "metadata": {},
   "outputs": [],
   "source": [
    "list_b.clear()"
   ]
  },
  {
   "cell_type": "code",
   "execution_count": 87,
   "id": "b793a6a7",
   "metadata": {},
   "outputs": [
    {
     "name": "stdout",
     "output_type": "stream",
     "text": [
      "[]\n",
      "[]\n",
      "[]\n",
      "[]\n",
      "[]\n",
      "[]\n",
      "[]\n",
      "[]\n",
      "[]\n",
      "[]\n"
     ]
    }
   ],
   "source": [
    "for i in range(10):\n",
    "    print(list_b)"
   ]
  },
  {
   "cell_type": "code",
   "execution_count": 88,
   "id": "d3d565cd",
   "metadata": {},
   "outputs": [],
   "source": [
    "array=[1,2,3,4,5]"
   ]
  },
  {
   "cell_type": "code",
   "execution_count": 89,
   "id": "3475717d",
   "metadata": {},
   "outputs": [
    {
     "name": "stdout",
     "output_type": "stream",
     "text": [
      "1\n",
      "2\n",
      "3\n",
      "4\n",
      "5\n"
     ]
    }
   ],
   "source": [
    "for element in array:\n",
    "    print(element)"
   ]
  },
  {
   "cell_type": "code",
   "execution_count": 91,
   "id": "fc1ed836",
   "metadata": {},
   "outputs": [
    {
     "name": "stdout",
     "output_type": "stream",
     "text": [
      "- 반\n",
      "- 갑\n",
      "- 습\n",
      "- 니\n",
      "- 다\n"
     ]
    }
   ],
   "source": [
    "for character in \"반갑습니다\":\n",
    "    print(\"-\",character)"
   ]
  },
  {
   "cell_type": "code",
   "execution_count": 92,
   "id": "21b14ecc",
   "metadata": {},
   "outputs": [
    {
     "name": "stdout",
     "output_type": "stream",
     "text": [
      "- 1\n",
      "- 2\n",
      "- 3\n",
      "- 4\n",
      "- 5\n"
     ]
    }
   ],
   "source": [
    "for element in array:\n",
    "    print(\"-\",element)"
   ]
  },
  {
   "cell_type": "code",
   "execution_count": 124,
   "id": "da8b30b2",
   "metadata": {},
   "outputs": [
    {
     "data": {
      "text/plain": [
       "[]"
      ]
     },
     "execution_count": 124,
     "metadata": {},
     "output_type": "execute_result"
    }
   ],
   "source": [
    "list_a"
   ]
  },
  {
   "cell_type": "code",
   "execution_count": 125,
   "id": "205aff7d",
   "metadata": {},
   "outputs": [],
   "source": [
    "list_a=[7,6,5,4,3,2,1,0]"
   ]
  },
  {
   "cell_type": "code",
   "execution_count": 94,
   "id": "df735d76",
   "metadata": {},
   "outputs": [],
   "source": [
    "list_a.extend(list_a)"
   ]
  },
  {
   "cell_type": "code",
   "execution_count": 100,
   "id": "b99f6794",
   "metadata": {},
   "outputs": [],
   "source": [
    "list_a.append(10)"
   ]
  },
  {
   "cell_type": "code",
   "execution_count": 104,
   "id": "2e99697a",
   "metadata": {},
   "outputs": [],
   "source": [
    "list_a.insert(3,0)"
   ]
  },
  {
   "cell_type": "code",
   "execution_count": 120,
   "id": "e7cb74d9",
   "metadata": {},
   "outputs": [],
   "source": [
    "list_a.remove(3)"
   ]
  },
  {
   "cell_type": "code",
   "execution_count": 117,
   "id": "c6616772",
   "metadata": {},
   "outputs": [
    {
     "data": {
      "text/plain": [
       "4"
      ]
     },
     "execution_count": 117,
     "metadata": {},
     "output_type": "execute_result"
    }
   ],
   "source": [
    "list_a.pop(3)"
   ]
  },
  {
   "cell_type": "code",
   "execution_count": 123,
   "id": "85c32a5d",
   "metadata": {},
   "outputs": [],
   "source": [
    "list_a.clear()"
   ]
  },
  {
   "cell_type": "code",
   "execution_count": 126,
   "id": "eca7de18",
   "metadata": {},
   "outputs": [],
   "source": [
    "numbers=[1,5,9,17,32,64,81,99,130,150,190,320,500,666,798,999]"
   ]
  },
  {
   "cell_type": "code",
   "execution_count": 128,
   "id": "1628471a",
   "metadata": {},
   "outputs": [
    {
     "name": "stdout",
     "output_type": "stream",
     "text": [
      "130\n",
      "150\n",
      "190\n",
      "320\n",
      "500\n",
      "666\n",
      "798\n",
      "999\n"
     ]
    }
   ],
   "source": [
    "for number in numbers:\n",
    "    if number >= 100:\n",
    "        print(number)"
   ]
  },
  {
   "cell_type": "code",
   "execution_count": 129,
   "id": "d1975f56",
   "metadata": {},
   "outputs": [
    {
     "name": "stdout",
     "output_type": "stream",
     "text": [
      "130\n",
      "150\n",
      "190\n",
      "320\n",
      "500\n",
      "666\n",
      "798\n",
      "999\n"
     ]
    }
   ],
   "source": [
    "for plan_a in numbers:\n",
    "    if plan_a >= 100:\n",
    "        print(plan_a)"
   ]
  },
  {
   "cell_type": "code",
   "execution_count": 130,
   "id": "5288bfb1",
   "metadata": {},
   "outputs": [
    {
     "name": "stdout",
     "output_type": "stream",
     "text": [
      "1 은 홀수입니다.\n",
      "5 은 홀수입니다.\n",
      "9 은 홀수입니다.\n",
      "17 은 홀수입니다.\n",
      "32 은 짝수입니다.\n",
      "64 은 짝수입니다.\n",
      "81 은 홀수입니다.\n",
      "99 은 홀수입니다.\n",
      "130 은 짝수입니다.\n",
      "150 은 짝수입니다.\n",
      "190 은 짝수입니다.\n",
      "320 은 짝수입니다.\n",
      "500 은 짝수입니다.\n",
      "666 은 짝수입니다.\n",
      "798 은 짝수입니다.\n",
      "999 은 홀수입니다.\n"
     ]
    }
   ],
   "source": [
    "for number in numbers:\n",
    "    if number%2 == 0:\n",
    "        print(number,\"은 짝수입니다.\")\n",
    "    else:\n",
    "        print(number,\"은 홀수입니다.\")"
   ]
  },
  {
   "cell_type": "code",
   "execution_count": 134,
   "id": "f47d8fe4",
   "metadata": {},
   "outputs": [
    {
     "name": "stdout",
     "output_type": "stream",
     "text": [
      "1 는 1 자릿수입니다.\n",
      "5 는 1 자릿수입니다.\n",
      "9 는 1 자릿수입니다.\n",
      "17 는 2자릿수입니다.\n",
      "32 는 2자릿수입니다.\n",
      "64 는 2자릿수입니다.\n",
      "81 는 2자릿수입니다.\n",
      "99 는 2자릿수입니다.\n",
      "130 는 3자릿수입니다.\n",
      "150 는 3자릿수입니다.\n",
      "190 는 3자릿수입니다.\n",
      "320 는 3자릿수입니다.\n",
      "500 는 3자릿수입니다.\n",
      "666 는 3자릿수입니다.\n",
      "798 는 3자릿수입니다.\n",
      "999 는 3자릿수입니다.\n"
     ]
    }
   ],
   "source": [
    "for number in numbers:\n",
    "    if number < 10:\n",
    "        print(number,\"는 1 자릿수입니다.\")\n",
    "    elif number < 100:\n",
    "        print(number,\"는 2자릿수입니다.\")\n",
    "    elif number < 1000:\n",
    "        print(number,\"는 3자릿수입니다.\")"
   ]
  },
  {
   "cell_type": "code",
   "execution_count": 135,
   "id": "cfbb6d45",
   "metadata": {},
   "outputs": [],
   "source": [
    "list_of_list=[[1,2,3],[4,5,6,7],[8,9]]"
   ]
  },
  {
   "cell_type": "code",
   "execution_count": 137,
   "id": "655bbc52",
   "metadata": {},
   "outputs": [
    {
     "name": "stdout",
     "output_type": "stream",
     "text": [
      "> [1, 2, 3]\n",
      "> [4, 5, 6, 7]\n",
      "> [8, 9]\n"
     ]
    }
   ],
   "source": [
    "for list in list_of_list:\n",
    "    print(\">\",list)"
   ]
  },
  {
   "cell_type": "code",
   "execution_count": 16,
   "id": "e348159c",
   "metadata": {},
   "outputs": [],
   "source": [
    "numbers=[1,2,3,4,5,6,7,8,9]"
   ]
  },
  {
   "cell_type": "code",
   "execution_count": 17,
   "id": "6afa0a47",
   "metadata": {},
   "outputs": [],
   "source": [
    "output=[[],[],[]]"
   ]
  },
  {
   "cell_type": "code",
   "execution_count": 18,
   "id": "c6a1c3b2",
   "metadata": {},
   "outputs": [
    {
     "ename": "IndexError",
     "evalue": "list index out of range",
     "output_type": "error",
     "traceback": [
      "\u001b[1;31m---------------------------------------------------------------------------\u001b[0m",
      "\u001b[1;31mIndexError\u001b[0m                                Traceback (most recent call last)",
      "Cell \u001b[1;32mIn[18], line 2\u001b[0m\n\u001b[0;32m      1\u001b[0m \u001b[38;5;28;01mfor\u001b[39;00m number \u001b[38;5;129;01min\u001b[39;00m numbers:\n\u001b[1;32m----> 2\u001b[0m     \u001b[43moutput\u001b[49m\u001b[43m[\u001b[49m\u001b[38;5;241;43m1\u001b[39;49m\u001b[38;5;241;43m+\u001b[39;49m\u001b[38;5;241;43m2\u001b[39;49m\u001b[43m]\u001b[49m\u001b[38;5;241m.\u001b[39mappend(number)\n",
      "\u001b[1;31mIndexError\u001b[0m: list index out of range"
     ]
    }
   ],
   "source": [
    "for number in numbers:\n",
    "    output[1+2].append(number)"
   ]
  },
  {
   "cell_type": "code",
   "execution_count": 19,
   "id": "516ddda9",
   "metadata": {},
   "outputs": [],
   "source": [
    "list_of_list=[[1,2,3],[4,5,6,7],[8,9]]"
   ]
  },
  {
   "cell_type": "code",
   "execution_count": 20,
   "id": "b06dbaae",
   "metadata": {},
   "outputs": [
    {
     "name": "stdout",
     "output_type": "stream",
     "text": [
      "1\n",
      "2\n",
      "3\n",
      "4\n",
      "5\n",
      "6\n",
      "7\n",
      "8\n",
      "9\n"
     ]
    }
   ],
   "source": [
    "for line in list_of_list:\n",
    "    for item in line:\n",
    "        print(item)"
   ]
  },
  {
   "cell_type": "code",
   "execution_count": 21,
   "id": "b6c91017",
   "metadata": {},
   "outputs": [
    {
     "name": "stdout",
     "output_type": "stream",
     "text": [
      "[1, 2, 3]\n",
      "[4, 5, 6, 7]\n",
      "[8, 9]\n"
     ]
    }
   ],
   "source": [
    "for line in list_of_list:\n",
    "    print(line)"
   ]
  },
  {
   "cell_type": "code",
   "execution_count": 22,
   "id": "f295ed93",
   "metadata": {},
   "outputs": [
    {
     "name": "stdout",
     "output_type": "stream",
     "text": [
      "[[1], [], []]\n",
      "[[1], [2], []]\n",
      "[[1], [2], [3]]\n",
      "[[1, 4], [2], [3]]\n",
      "[[1, 4], [2, 5], [3]]\n",
      "[[1, 4], [2, 5], [3, 6]]\n",
      "[[1, 4, 7], [2, 5], [3, 6]]\n",
      "[[1, 4, 7], [2, 5, 8], [3, 6]]\n",
      "[[1, 4, 7], [2, 5, 8], [3, 6, 9]]\n"
     ]
    }
   ],
   "source": [
    "for number in numbers:\n",
    "    output[(number+2)%3].append(number)\n",
    "    print(output)"
   ]
  },
  {
   "cell_type": "code",
   "execution_count": 68,
   "id": "0bf88b3e",
   "metadata": {},
   "outputs": [
    {
     "name": "stdout",
     "output_type": "stream",
     "text": [
      "[[], [1], []]\n",
      "[[], [1], [2]]\n",
      "[[3], [1], [2]]\n",
      "[[3], [1, 4], [2]]\n",
      "[[3], [1, 4], [2, 5]]\n",
      "[[3, 6], [1, 4], [2, 5]]\n",
      "[[3, 6], [1, 4, 7], [2, 5]]\n",
      "[[3, 6], [1, 4, 7], [2, 5, 8]]\n",
      "[[3, 6, 9], [1, 4, 7], [2, 5, 8]]\n"
     ]
    }
   ],
   "source": [
    "numbers=[1,2,3,4,5,6,7,8,9,]\n",
    "output=[[],[],[]]\n",
    "\n",
    "for num in numbers:\n",
    "    output[num%3].append(num)\n",
    "    print(output)"
   ]
  },
  {
   "cell_type": "code",
   "execution_count": 26,
   "id": "630f40c1",
   "metadata": {},
   "outputs": [],
   "source": [
    "dict_a={\"name\":\"Avengers endgame\",\"type\":\"hero movie\"}"
   ]
  },
  {
   "cell_type": "code",
   "execution_count": 32,
   "id": "42b0b76d",
   "metadata": {},
   "outputs": [
    {
     "data": {
      "text/plain": [
       "'Avengers endgame'"
      ]
     },
     "execution_count": 32,
     "metadata": {},
     "output_type": "execute_result"
    }
   ],
   "source": [
    "dict_a[\"name\"]"
   ]
  },
  {
   "cell_type": "code",
   "execution_count": 33,
   "id": "6055d3c9",
   "metadata": {},
   "outputs": [
    {
     "data": {
      "text/plain": [
       "'hero movie'"
      ]
     },
     "execution_count": 33,
     "metadata": {},
     "output_type": "execute_result"
    }
   ],
   "source": [
    "dict_a[\"type\"]"
   ]
  },
  {
   "cell_type": "code",
   "execution_count": null,
   "id": "5345f650",
   "metadata": {},
   "outputs": [
    {
     "name": "stdout",
     "output_type": "stream",
     "text": [
      "name: 7D dry mango\n",
      "type: dry food\n",
      "ingredient: mango,sugar,Na,color\n",
      "origin: Philippines\n",
      "\n",
      "name: 8D dry mango\n"
     ]
    }
   ],
   "source": [
    "dictionary={\"name\":\"7D dry mango\",\"type\":\"dry food\",\"ingredient\":\"mango,sugar,Na,color\",\"origin\":\"Philippines\"}\n",
    "\n",
    "print(\"name:\",dictionary[\"name\"])\n",
    "print(\"type:\",dictionary[\"type\"])\n",
    "print(\"ingredient:\",dictionary[\"ingredient\"])\n",
    "print(\"origin:\",dictionary[\"origin\"])\n",
    "print()\n",
    "\n",
    "#값을 변경합니다.\n",
    "dictionary[\"name\"]=\"8D dry mango\"\n",
    "print(\"name:\",dictionary[\"name\"])"
   ]
  },
  {
   "cell_type": "code",
   "execution_count": 37,
   "id": "9635a40a",
   "metadata": {},
   "outputs": [
    {
     "data": {
      "text/plain": [
       "'a'"
      ]
     },
     "execution_count": 37,
     "metadata": {},
     "output_type": "execute_result"
    }
   ],
   "source": [
    "dictionary[\"ingredient\"][1]"
   ]
  },
  {
   "cell_type": "code",
   "execution_count": 38,
   "id": "fd5878dc",
   "metadata": {},
   "outputs": [],
   "source": [
    "dictionary[\"price\"]=5000"
   ]
  },
  {
   "cell_type": "code",
   "execution_count": 39,
   "id": "d11ff8f4",
   "metadata": {},
   "outputs": [
    {
     "data": {
      "text/plain": [
       "{'name': '8D dry mango',\n",
       " 'type': 'dry food',\n",
       " 'ingredient': 'mango,sugar,Na,color',\n",
       " 'origin': 'Philippines',\n",
       " 'price': 5000}"
      ]
     },
     "execution_count": 39,
     "metadata": {},
     "output_type": "execute_result"
    }
   ],
   "source": [
    "dictionary"
   ]
  },
  {
   "cell_type": "code",
   "execution_count": 41,
   "id": "39e813d2",
   "metadata": {},
   "outputs": [
    {
     "name": "stdout",
     "output_type": "stream",
     "text": [
      "KeyError:not have key\n"
     ]
    }
   ],
   "source": [
    "key=input(\">you want Key:\")\n",
    "if key in dictionary:\n",
    "    print(dictionary[key])\n",
    "else:\n",
    "    print(\"KeyError:not have key\")"
   ]
  },
  {
   "cell_type": "code",
   "execution_count": 42,
   "id": "edb5a0a1",
   "metadata": {},
   "outputs": [
    {
     "name": "stdout",
     "output_type": "stream",
     "text": [
      "name : 8D dry mango\n",
      "type : dry food\n",
      "ingredient : mango,sugar,Na,color\n",
      "origin : Philippines\n",
      "price : 5000\n"
     ]
    }
   ],
   "source": [
    "for key in dictionary:\n",
    "    print(key,\":\",dictionary[key])"
   ]
  },
  {
   "cell_type": "code",
   "execution_count": 53,
   "id": "698acf07",
   "metadata": {},
   "outputs": [
    {
     "data": {
      "text/plain": [
       "{'name': 'cloud'}"
      ]
     },
     "execution_count": 53,
     "metadata": {},
     "output_type": "execute_result"
    }
   ],
   "source": [
    "dict_a={}\n",
    "dict_a[\"name\"]=\"cloud\"\n",
    "dict_a"
   ]
  },
  {
   "cell_type": "code",
   "execution_count": 54,
   "id": "5ed16d57",
   "metadata": {},
   "outputs": [
    {
     "data": {
      "text/plain": [
       "{}"
      ]
     },
     "execution_count": 54,
     "metadata": {},
     "output_type": "execute_result"
    }
   ],
   "source": [
    "del dict_a[\"name\"]\n",
    "dict_a"
   ]
  },
  {
   "cell_type": "code",
   "execution_count": 67,
   "id": "9e02bbfd",
   "metadata": {},
   "outputs": [
    {
     "name": "stdout",
     "output_type": "stream",
     "text": [
      "our pets\n",
      "gulum 5살\n",
      "choko 3살\n",
      "agi 1살\n",
      "holang 1살\n"
     ]
    }
   ],
   "source": [
    "pets=[{\"name\":\"gulum\",\"age\":5},{\"name\":\"choko\",\"age\":3},{\"name\":\"agi\",\"age\":1},{\"name\":\"holang\",\"age\":1}]\n",
    "print(\"our pets\")\n",
    "for pet in pets:\n",
    "    print(pet[\"name\"],str(pet[\"age\"])+\"살\")"
   ]
  },
  {
   "cell_type": "code",
   "execution_count": 71,
   "id": "61f2c271",
   "metadata": {},
   "outputs": [
    {
     "name": "stdout",
     "output_type": "stream",
     "text": [
      "[[1, 4, 7], [2, 5, 8], [3, 6, 9]]\n"
     ]
    }
   ],
   "source": [
    "numbers = [1, 2, 3, 4, 5, 6, 7, 8, 9]\n",
    "output = [[], [], []]\n",
    "\n",
    "for idx, num in enumerate(numbers):\n",
    "    output[idx % 3].append(num)\n",
    "\n",
    "print(output)"
   ]
  },
  {
   "cell_type": "code",
   "execution_count": 72,
   "id": "6d7d2b9f",
   "metadata": {},
   "outputs": [
    {
     "name": "stdout",
     "output_type": "stream",
     "text": [
      "{1: 3, 2: 4, 6: 1, 8: 2, 4: 2, 3: 3, 9: 2, 7: 2, 5: 1}\n"
     ]
    }
   ],
   "source": [
    "numbers=[1,2,6,8,4,3,2,1,9,7,2,1,3,5,4,8,9,7,2,3]\n",
    "counter={}\n",
    "\n",
    "for num in numbers:\n",
    "    if num in counter:\n",
    "        counter[num]=counter[num] + 1\n",
    "    else:\n",
    "        counter[num] = 1\n",
    "\n",
    "print(counter)"
   ]
  },
  {
   "cell_type": "code",
   "execution_count": 77,
   "id": "1a8b09b8",
   "metadata": {},
   "outputs": [
    {
     "name": "stdout",
     "output_type": "stream",
     "text": [
      "name : knight\n",
      "level : 12\n",
      "sword : +12Sword\n",
      "armor : +12Armor\n",
      "skill : ['cut off', 'cut off x 2', 'cut off x 3']\n"
     ]
    }
   ],
   "source": [
    "character={\"name\":\"knight\",\"level\":12,\"items\":{\"sword\":\"+12Sword\",\"armor\":\"+12Armor\"},\"skill\":[\"cut off\",\"cut off x 2\",\"cut off x 3\"]}\n",
    "\n",
    "for key in character:\n",
    "    if type(character[key]) is dict:\n",
    "        for small_key in character[key]:\n",
    "            print(small_key,\":\",character[key][small_key])\n",
    "    elif type(character[key]) is list:\n",
    "        for item in character[key]:\n",
    "            print(key,\":\",item)\n",
    "    else:\n",
    "        print(key,\":\",character[key])"
   ]
  },
  {
   "cell_type": "code",
   "execution_count": 79,
   "id": "6cb01f68",
   "metadata": {},
   "outputs": [
    {
     "name": "stdout",
     "output_type": "stream",
     "text": [
      "0=반복 변수\n",
      "1=반복 변수\n",
      "2=반복 변수\n",
      "3=반복 변수\n",
      "4=반복 변수\n",
      "\n",
      "5=반복 변수\n",
      "6=반복 변수\n",
      "7=반복 변수\n",
      "8=반복 변수\n",
      "9=반복 변수\n",
      "\n",
      "0=반복 변수\n",
      "3=반복 변수\n",
      "6=반복 변수\n",
      "9=반복 변수\n",
      "\n"
     ]
    }
   ],
   "source": [
    "for i in range(5):\n",
    "    print(str(i)+\"=반복 변수\")\n",
    "print()\n",
    "\n",
    "for i in range(5,10):\n",
    "    print(str(i)+\"=반복 변수\")\n",
    "print()\n",
    "\n",
    "for i in range(0,10,3):\n",
    "    print(str(i)+\"=반복 변수\")\n",
    "print()"
   ]
  },
  {
   "cell_type": "code",
   "execution_count": 81,
   "id": "14b6ea6e",
   "metadata": {},
   "outputs": [
    {
     "name": "stdout",
     "output_type": "stream",
     "text": [
      "0 = 반복 변수\n",
      "1 = 반복 변수\n",
      "2 = 반복 변수\n",
      "3 = 반복 변수\n",
      "4 = 반복 변수\n",
      "\n",
      "5=반복 변수\n",
      "6=반복 변수\n",
      "7=반복 변수\n",
      "8=반복 변수\n",
      "9=반복 변수\n",
      "\n",
      "0=반복 변수\n",
      "3=반복 변수\n",
      "6=반복 변수\n",
      "9=반복 변수\n",
      "\n"
     ]
    }
   ],
   "source": [
    "for i in range(5):\n",
    "    print(i,\"= 반복 변수\")\n",
    "print()\n",
    "\n",
    "for i in range(5,10):\n",
    "    print(str(i)+\"=반복 변수\")\n",
    "print()\n",
    "\n",
    "for i in range(0,10,3):\n",
    "    print(str(i)+\"=반복 변수\")\n",
    "print()"
   ]
  },
  {
   "cell_type": "code",
   "execution_count": 85,
   "id": "89dacad1",
   "metadata": {},
   "outputs": [
    {
     "name": "stdout",
     "output_type": "stream",
     "text": [
      "1번째 반복:273\n",
      "2번째 반복:32\n",
      "3번째 반복:103\n",
      "4번째 반복:57\n",
      "5번째 반복:52\n"
     ]
    }
   ],
   "source": [
    "array=[273,32,103,57,52]\n",
    "\n",
    "for i in range(len(array)):\n",
    "    print(\"{}번째 반복:{}\".format(i+1,array[i]))"
   ]
  },
  {
   "cell_type": "code",
   "execution_count": 94,
   "id": "ec91600a",
   "metadata": {},
   "outputs": [
    {
     "ename": "TypeError",
     "evalue": "'dict' object is not callable",
     "output_type": "error",
     "traceback": [
      "\u001b[1;31m---------------------------------------------------------------------------\u001b[0m",
      "\u001b[1;31mTypeError\u001b[0m                                 Traceback (most recent call last)",
      "Cell \u001b[1;32mIn[94], line 2\u001b[0m\n\u001b[0;32m      1\u001b[0m a\u001b[38;5;241m=\u001b[39m\u001b[38;5;28mrange\u001b[39m(\u001b[38;5;241m4\u001b[39m,\u001b[38;5;241m0\u001b[39m\u001b[38;5;241m-\u001b[39m\u001b[38;5;241m1\u001b[39m,\u001b[38;5;241m-\u001b[39m\u001b[38;5;241m1\u001b[39m)\n\u001b[1;32m----> 2\u001b[0m \u001b[38;5;28;43mlist\u001b[39;49m\u001b[43m(\u001b[49m\u001b[43ma\u001b[49m\u001b[43m)\u001b[49m\n",
      "\u001b[1;31mTypeError\u001b[0m: 'dict' object is not callable"
     ]
    }
   ],
   "source": [
    "a=range(4,0-1,-1)\n",
    "list(a)\n"
   ]
  },
  {
   "cell_type": "code",
   "execution_count": null,
   "id": "79dfb367",
   "metadata": {},
   "outputs": [],
   "source": []
  }
 ],
 "metadata": {
  "kernelspec": {
   "display_name": "pyt1",
   "language": "python",
   "name": "python3"
  },
  "language_info": {
   "codemirror_mode": {
    "name": "ipython",
    "version": 3
   },
   "file_extension": ".py",
   "mimetype": "text/x-python",
   "name": "python",
   "nbconvert_exporter": "python",
   "pygments_lexer": "ipython3",
   "version": "3.10.18"
  }
 },
 "nbformat": 4,
 "nbformat_minor": 5
}
