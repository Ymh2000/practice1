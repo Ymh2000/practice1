{
 "cells": [
  {
   "cell_type": "code",
   "execution_count": 59,
   "id": "1b0271c8-8168-491c-b068-f110376ba27f",
   "metadata": {},
   "outputs": [
    {
     "name": "stdout",
     "output_type": "stream",
     "text": [
      "hell\n"
     ]
    }
   ],
   "source": [
    "print(\"hell\")"
   ]
  },
  {
   "cell_type": "code",
   "execution_count": 13,
   "id": "02a0325c-7dbe-4c5e-98d6-8cd54c52f1c9",
   "metadata": {},
   "outputs": [],
   "source": [
    "a=float(input(\"실수>\"))"
   ]
  },
  {
   "cell_type": "code",
   "execution_count": 14,
   "id": "a9206f11-be61-4ede-9670-a86fd13dc933",
   "metadata": {},
   "outputs": [
    {
     "name": "stdout",
     "output_type": "stream",
     "text": [
      "0\n"
     ]
    }
   ],
   "source": [
    "if a > 0:\n",
    "    print(\"양수\")\n",
    "elif a < 0:\n",
    "    print(\"음수\")\n",
    "else:\n",
    "    print(\"0\")"
   ]
  },
  {
   "cell_type": "code",
   "execution_count": 15,
   "id": "30e6d3ec-45a6-4b3f-834c-1ea7dbd24e6b",
   "metadata": {},
   "outputs": [
    {
     "name": "stdout",
     "output_type": "stream",
     "text": [
      "d\n"
     ]
    }
   ],
   "source": [
    "print(\"d\")"
   ]
  },
  {
   "cell_type": "code",
   "execution_count": null,
   "id": "bca5d59e",
   "metadata": {},
   "outputs": [
    {
     "name": "stdout",
     "output_type": "stream",
     "text": [
      "Collecting numpy\n",
      "  Downloading numpy-2.2.6-cp310-cp310-win_amd64.whl.metadata (60 kB)\n",
      "Downloading numpy-2.2.6-cp310-cp310-win_amd64.whl (12.9 MB)\n",
      "   ---------------------------------------- 0.0/12.9 MB ? eta -:--:--\n",
      "   ----- ---------------------------------- 1.8/12.9 MB 9.1 MB/s eta 0:00:02\n",
      "   ------------- -------------------------- 4.2/12.9 MB 10.1 MB/s eta 0:00:01\n",
      "   -------------------- ------------------- 6.6/12.9 MB 10.3 MB/s eta 0:00:01\n",
      "   --------------------------- ------------ 8.9/12.9 MB 10.4 MB/s eta 0:00:01\n",
      "   ---------------------------------- ----- 11.0/12.9 MB 10.6 MB/s eta 0:00:01\n",
      "   ---------------------------------------- 12.9/12.9 MB 10.5 MB/s eta 0:00:00\n",
      "Installing collected packages: numpy\n",
      "Successfully installed numpy-2.2.6\n"
     ]
    }
   ],
   "source": [
    "!pip install numpy"
   ]
  },
  {
   "cell_type": "code",
   "execution_count": null,
   "id": "269fd914",
   "metadata": {},
   "outputs": [],
   "source": [
    "import numpy as np"
   ]
  },
  {
   "cell_type": "code",
   "execution_count": null,
   "id": "3b3589d7",
   "metadata": {},
   "outputs": [],
   "source": [
    "x = np.array([[1, 2, 3],\n",
    "              [4, 5, 6],\n",
    "              [7, 8, 9]])"
   ]
  },
  {
   "cell_type": "code",
   "execution_count": null,
   "id": "74f00fb7",
   "metadata": {},
   "outputs": [
    {
     "data": {
      "text/plain": [
       "array([[9, 8, 7],\n",
       "       [6, 5, 4],\n",
       "       [3, 2, 1]])"
      ]
     },
     "execution_count": 5,
     "metadata": {},
     "output_type": "execute_result"
    }
   ],
   "source": [
    "np.flip(x)"
   ]
  },
  {
   "cell_type": "code",
   "execution_count": 18,
   "id": "356d36be",
   "metadata": {},
   "outputs": [],
   "source": [
    "a=int(input(\"정수를 입력하시오.\"))"
   ]
  },
  {
   "cell_type": "code",
   "execution_count": 19,
   "id": "44341fff",
   "metadata": {},
   "outputs": [
    {
     "name": "stdout",
     "output_type": "stream",
     "text": [
      "짝수입니다.\n"
     ]
    }
   ],
   "source": [
    "if a%2 == 1:\n",
    "    print(\"홀수입니다.\")\n",
    "else:\n",
    "    print(\"짝수입니다.\")"
   ]
  },
  {
   "cell_type": "code",
   "execution_count": null,
   "id": "f2d0ca88",
   "metadata": {},
   "outputs": [],
   "source": [
    "list_a=[273, 32, 103, \"문자열\", True, False]"
   ]
  },
  {
   "cell_type": "code",
   "execution_count": null,
   "id": "33a8b748",
   "metadata": {},
   "outputs": [
    {
     "data": {
      "text/plain": [
       "'문자열'"
      ]
     },
     "execution_count": 11,
     "metadata": {},
     "output_type": "execute_result"
    }
   ],
   "source": [
    "list_a[3]"
   ]
  },
  {
   "cell_type": "code",
   "execution_count": null,
   "id": "a58b9f2e",
   "metadata": {},
   "outputs": [
    {
     "data": {
      "text/plain": [
       "False"
      ]
     },
     "execution_count": 12,
     "metadata": {},
     "output_type": "execute_result"
    }
   ],
   "source": [
    "list_a[-1]"
   ]
  },
  {
   "cell_type": "code",
   "execution_count": null,
   "id": "26ce4ad7",
   "metadata": {},
   "outputs": [
    {
     "data": {
      "text/plain": [
       "[273, 32, 103, '문자열']"
      ]
     },
     "execution_count": 13,
     "metadata": {},
     "output_type": "execute_result"
    }
   ],
   "source": [
    "list_a[:4]"
   ]
  },
  {
   "cell_type": "code",
   "execution_count": null,
   "id": "b1a24847",
   "metadata": {},
   "outputs": [
    {
     "name": "stdout",
     "output_type": "stream",
     "text": [
      "6\n"
     ]
    }
   ],
   "source": [
    "print(len(list_a))"
   ]
  },
  {
   "cell_type": "code",
   "execution_count": null,
   "id": "1dba6aa6",
   "metadata": {},
   "outputs": [],
   "source": [
    "list_a[1]=199"
   ]
  },
  {
   "cell_type": "code",
   "execution_count": null,
   "id": "7391c9b4",
   "metadata": {},
   "outputs": [
    {
     "name": "stdout",
     "output_type": "stream",
     "text": [
      "[273, 199, 103, '문자열', True, False]\n"
     ]
    }
   ],
   "source": [
    "print(list_a)"
   ]
  },
  {
   "cell_type": "code",
   "execution_count": null,
   "id": "48aac70e",
   "metadata": {},
   "outputs": [
    {
     "data": {
      "text/plain": [
       "[273, 199, 103, '문자열', True, False]"
      ]
     },
     "execution_count": 17,
     "metadata": {},
     "output_type": "execute_result"
    }
   ],
   "source": [
    "list_a"
   ]
  },
  {
   "cell_type": "code",
   "execution_count": null,
   "id": "542f8a6d",
   "metadata": {},
   "outputs": [
    {
     "data": {
      "text/plain": [
       "5"
      ]
     },
     "execution_count": 18,
     "metadata": {},
     "output_type": "execute_result"
    }
   ],
   "source": [
    "a"
   ]
  },
  {
   "cell_type": "code",
   "execution_count": 20,
   "id": "05e8dc3c",
   "metadata": {},
   "outputs": [
    {
     "ename": "NameError",
     "evalue": "name 'list_a' is not defined",
     "output_type": "error",
     "traceback": [
      "\u001b[1;31m---------------------------------------------------------------------------\u001b[0m",
      "\u001b[1;31mNameError\u001b[0m                                 Traceback (most recent call last)",
      "Cell \u001b[1;32mIn[20], line 1\u001b[0m\n\u001b[1;32m----> 1\u001b[0m \u001b[43mlist_a\u001b[49m[\u001b[38;5;241m4\u001b[39m][\u001b[38;5;241m3\u001b[39m]\n",
      "\u001b[1;31mNameError\u001b[0m: name 'list_a' is not defined"
     ]
    }
   ],
   "source": [
    "list_a[4][3]"
   ]
  },
  {
   "cell_type": "code",
   "execution_count": null,
   "id": "cb2a7074",
   "metadata": {},
   "outputs": [
    {
     "data": {
      "text/plain": [
       "'자'"
      ]
     },
     "execution_count": 20,
     "metadata": {},
     "output_type": "execute_result"
    }
   ],
   "source": [
    "list_a[3][1]"
   ]
  },
  {
   "cell_type": "code",
   "execution_count": null,
   "id": "d42220a0",
   "metadata": {},
   "outputs": [
    {
     "name": "stdout",
     "output_type": "stream",
     "text": [
      "#리스트\n"
     ]
    }
   ],
   "source": [
    "print('#리스트')"
   ]
  },
  {
   "cell_type": "code",
   "execution_count": null,
   "id": "bc160c7e",
   "metadata": {},
   "outputs": [
    {
     "name": "stdout",
     "output_type": "stream",
     "text": [
      "list_a= [273, 199, 103, '문자열', True, False]\n"
     ]
    }
   ],
   "source": [
    "print(\"list_a=\",list_a)"
   ]
  },
  {
   "cell_type": "code",
   "execution_count": null,
   "id": "038f8448",
   "metadata": {},
   "outputs": [],
   "source": [
    "list_b=[1,2,3,'자료형',False,True]"
   ]
  },
  {
   "cell_type": "code",
   "execution_count": null,
   "id": "7dac8191",
   "metadata": {},
   "outputs": [
    {
     "name": "stdout",
     "output_type": "stream",
     "text": [
      "list_a+list_b= [273, 199, 103, '문자열', True, False, 1, 2, 3, '자료형', False, True]\n"
     ]
    }
   ],
   "source": [
    "print(\"list_a+list_b=\",list_a+list_b)"
   ]
  },
  {
   "cell_type": "code",
   "execution_count": null,
   "id": "d0602b81",
   "metadata": {},
   "outputs": [
    {
     "name": "stdout",
     "output_type": "stream",
     "text": [
      "[1, 2, 3, '자료형', False, True, 1, 2, 3, '자료형', False, True]\n"
     ]
    }
   ],
   "source": [
    "print(list_b*2)"
   ]
  },
  {
   "cell_type": "code",
   "execution_count": null,
   "id": "0c6b064c",
   "metadata": {},
   "outputs": [
    {
     "name": "stdout",
     "output_type": "stream",
     "text": [
      "6\n"
     ]
    }
   ],
   "source": [
    "print(len(list_b))"
   ]
  },
  {
   "cell_type": "code",
   "execution_count": null,
   "id": "b068a5b6",
   "metadata": {},
   "outputs": [
    {
     "ename": "TypeError",
     "evalue": "list indices must be integers or slices, not tuple",
     "output_type": "error",
     "traceback": [
      "\u001b[1;31m---------------------------------------------------------------------------\u001b[0m",
      "\u001b[1;31mTypeError\u001b[0m                                 Traceback (most recent call last)",
      "Cell \u001b[1;32mIn[27], line 1\u001b[0m\n\u001b[1;32m----> 1\u001b[0m \u001b[43mlist_a\u001b[49m\u001b[43m[\u001b[49m\u001b[38;5;241;43m1\u001b[39;49m\u001b[43m,\u001b[49m\u001b[38;5;241;43m2\u001b[39;49m\u001b[43m,\u001b[49m\u001b[38;5;241;43m3\u001b[39;49m\u001b[43m]\u001b[49m\n",
      "\u001b[1;31mTypeError\u001b[0m: list indices must be integers or slices, not tuple"
     ]
    }
   ],
   "source": [
    "list_a[1,2,3]"
   ]
  },
  {
   "cell_type": "code",
   "execution_count": null,
   "id": "2531ea63",
   "metadata": {},
   "outputs": [],
   "source": [
    "list_a=[1,2,3]"
   ]
  },
  {
   "cell_type": "code",
   "execution_count": null,
   "id": "a133e992",
   "metadata": {},
   "outputs": [],
   "source": [
    "list_a.append(4)"
   ]
  },
  {
   "cell_type": "code",
   "execution_count": null,
   "id": "48a801ff",
   "metadata": {},
   "outputs": [
    {
     "data": {
      "text/plain": [
       "[1, 2, 3, 4]"
      ]
     },
     "execution_count": 44,
     "metadata": {},
     "output_type": "execute_result"
    }
   ],
   "source": [
    "list_a"
   ]
  },
  {
   "cell_type": "code",
   "execution_count": null,
   "id": "e6ff2429",
   "metadata": {},
   "outputs": [],
   "source": [
    "list_a.insert(4,5)"
   ]
  },
  {
   "cell_type": "code",
   "execution_count": null,
   "id": "c6735791",
   "metadata": {},
   "outputs": [],
   "source": [
    "list_a.extend([6,7,8])"
   ]
  },
  {
   "cell_type": "code",
   "execution_count": null,
   "id": "cd401f89",
   "metadata": {},
   "outputs": [
    {
     "data": {
      "text/plain": [
       "[1, 2, 3, 4, 5, 6, 7, 8]"
      ]
     },
     "execution_count": 48,
     "metadata": {},
     "output_type": "execute_result"
    }
   ],
   "source": [
    "list_a"
   ]
  },
  {
   "cell_type": "code",
   "execution_count": null,
   "id": "78712f2c",
   "metadata": {},
   "outputs": [
    {
     "data": {
      "text/plain": [
       "[1, 2, 3, '자료형', False, True]"
      ]
     },
     "execution_count": 49,
     "metadata": {},
     "output_type": "execute_result"
    }
   ],
   "source": [
    "list_b"
   ]
  },
  {
   "cell_type": "code",
   "execution_count": null,
   "id": "53743c4d",
   "metadata": {},
   "outputs": [],
   "source": [
    "del list_b[0:7]"
   ]
  },
  {
   "cell_type": "code",
   "execution_count": null,
   "id": "fb7af6a7",
   "metadata": {},
   "outputs": [
    {
     "data": {
      "text/plain": [
       "[]"
      ]
     },
     "execution_count": 51,
     "metadata": {},
     "output_type": "execute_result"
    }
   ],
   "source": [
    "list_b"
   ]
  },
  {
   "cell_type": "code",
   "execution_count": 68,
   "id": "6ad8f6ab",
   "metadata": {},
   "outputs": [],
   "source": [
    "list_b.append([10,11,12,13,14])"
   ]
  },
  {
   "cell_type": "code",
   "execution_count": null,
   "id": "fd484178",
   "metadata": {},
   "outputs": [
    {
     "data": {
      "text/plain": [
       "[[10, 11, 12, 13, 14]]"
      ]
     },
     "execution_count": 53,
     "metadata": {},
     "output_type": "execute_result"
    }
   ],
   "source": [
    "list_b"
   ]
  },
  {
   "cell_type": "code",
   "execution_count": null,
   "id": "c3647282",
   "metadata": {},
   "outputs": [],
   "source": [
    "del list_b[0]"
   ]
  },
  {
   "cell_type": "code",
   "execution_count": 74,
   "id": "ed37857e",
   "metadata": {},
   "outputs": [
    {
     "data": {
      "text/plain": [
       "[10, 11]"
      ]
     },
     "execution_count": 74,
     "metadata": {},
     "output_type": "execute_result"
    }
   ],
   "source": [
    "list_b"
   ]
  },
  {
   "cell_type": "code",
   "execution_count": 21,
   "id": "20a908fc",
   "metadata": {},
   "outputs": [
    {
     "ename": "NameError",
     "evalue": "name 'list_b' is not defined",
     "output_type": "error",
     "traceback": [
      "\u001b[1;31m---------------------------------------------------------------------------\u001b[0m",
      "\u001b[1;31mNameError\u001b[0m                                 Traceback (most recent call last)",
      "Cell \u001b[1;32mIn[21], line 1\u001b[0m\n\u001b[1;32m----> 1\u001b[0m \u001b[43mlist_b\u001b[49m\u001b[38;5;241m.\u001b[39mappend(\u001b[38;5;241m10\u001b[39m,\u001b[38;5;241m11\u001b[39m,\u001b[38;5;241m12\u001b[39m,\u001b[38;5;241m13\u001b[39m,\u001b[38;5;241m14\u001b[39m)\n",
      "\u001b[1;31mNameError\u001b[0m: name 'list_b' is not defined"
     ]
    }
   ],
   "source": [
    "list_b.append(10,11,12,13,14)"
   ]
  },
  {
   "cell_type": "code",
   "execution_count": null,
   "id": "bf26c780",
   "metadata": {},
   "outputs": [],
   "source": [
    "list_b.extend([10,11,12,13])"
   ]
  },
  {
   "cell_type": "code",
   "execution_count": 61,
   "id": "f5b83dcd",
   "metadata": {},
   "outputs": [
    {
     "data": {
      "text/plain": [
       "[10, 11, 12, 13]"
      ]
     },
     "execution_count": 61,
     "metadata": {},
     "output_type": "execute_result"
    }
   ],
   "source": [
    "list_b"
   ]
  },
  {
   "cell_type": "code",
   "execution_count": 64,
   "id": "b212dbcd",
   "metadata": {},
   "outputs": [
    {
     "data": {
      "text/plain": [
       "[1, 2, 3, 4, 5, 6, 7, 8, 9, 10, 11, 12, 13]"
      ]
     },
     "execution_count": 64,
     "metadata": {},
     "output_type": "execute_result"
    }
   ],
   "source": [
    "list_a+list_b"
   ]
  },
  {
   "cell_type": "code",
   "execution_count": 63,
   "id": "39062602",
   "metadata": {},
   "outputs": [],
   "source": [
    "list_a.append(9)"
   ]
  },
  {
   "cell_type": "code",
   "execution_count": 70,
   "id": "818f788d",
   "metadata": {},
   "outputs": [],
   "source": [
    "del list_b[3]"
   ]
  },
  {
   "cell_type": "code",
   "execution_count": 73,
   "id": "8d30d42a",
   "metadata": {},
   "outputs": [
    {
     "data": {
      "text/plain": [
       "12"
      ]
     },
     "execution_count": 73,
     "metadata": {},
     "output_type": "execute_result"
    }
   ],
   "source": [
    "list_b.pop(2)"
   ]
  },
  {
   "cell_type": "code",
   "execution_count": 75,
   "id": "7fa5a826",
   "metadata": {},
   "outputs": [],
   "source": [
    "list_b.extend([12,13,14,15])"
   ]
  },
  {
   "cell_type": "code",
   "execution_count": 85,
   "id": "5061de88",
   "metadata": {},
   "outputs": [
    {
     "data": {
      "text/plain": [
       "[]"
      ]
     },
     "execution_count": 85,
     "metadata": {},
     "output_type": "execute_result"
    }
   ],
   "source": [
    "list_b"
   ]
  },
  {
   "cell_type": "code",
   "execution_count": 77,
   "id": "b2edb7e9",
   "metadata": {},
   "outputs": [],
   "source": [
    "list_b.remove(14)"
   ]
  },
  {
   "cell_type": "code",
   "execution_count": 79,
   "id": "f780e361",
   "metadata": {},
   "outputs": [],
   "source": [
    "list_b.insert(4,14)"
   ]
  },
  {
   "cell_type": "code",
   "execution_count": 84,
   "id": "98bedfae",
   "metadata": {},
   "outputs": [],
   "source": [
    "list_b.clear()"
   ]
  },
  {
   "cell_type": "code",
   "execution_count": 87,
   "id": "b793a6a7",
   "metadata": {},
   "outputs": [
    {
     "name": "stdout",
     "output_type": "stream",
     "text": [
      "[]\n",
      "[]\n",
      "[]\n",
      "[]\n",
      "[]\n",
      "[]\n",
      "[]\n",
      "[]\n",
      "[]\n",
      "[]\n"
     ]
    }
   ],
   "source": [
    "for i in range(10):\n",
    "    print(list_b)"
   ]
  },
  {
   "cell_type": "code",
   "execution_count": 88,
   "id": "d3d565cd",
   "metadata": {},
   "outputs": [],
   "source": [
    "array=[1,2,3,4,5]"
   ]
  },
  {
   "cell_type": "code",
   "execution_count": 89,
   "id": "3475717d",
   "metadata": {},
   "outputs": [
    {
     "name": "stdout",
     "output_type": "stream",
     "text": [
      "1\n",
      "2\n",
      "3\n",
      "4\n",
      "5\n"
     ]
    }
   ],
   "source": [
    "for element in array:\n",
    "    print(element)"
   ]
  },
  {
   "cell_type": "code",
   "execution_count": 91,
   "id": "fc1ed836",
   "metadata": {},
   "outputs": [
    {
     "name": "stdout",
     "output_type": "stream",
     "text": [
      "- 반\n",
      "- 갑\n",
      "- 습\n",
      "- 니\n",
      "- 다\n"
     ]
    }
   ],
   "source": [
    "for character in \"반갑습니다\":\n",
    "    print(\"-\",character)"
   ]
  },
  {
   "cell_type": "code",
   "execution_count": 92,
   "id": "21b14ecc",
   "metadata": {},
   "outputs": [
    {
     "name": "stdout",
     "output_type": "stream",
     "text": [
      "- 1\n",
      "- 2\n",
      "- 3\n",
      "- 4\n",
      "- 5\n"
     ]
    }
   ],
   "source": [
    "for element in array:\n",
    "    print(\"-\",element)"
   ]
  },
  {
   "cell_type": "code",
   "execution_count": 124,
   "id": "da8b30b2",
   "metadata": {},
   "outputs": [
    {
     "data": {
      "text/plain": [
       "[]"
      ]
     },
     "execution_count": 124,
     "metadata": {},
     "output_type": "execute_result"
    }
   ],
   "source": [
    "list_a"
   ]
  },
  {
   "cell_type": "code",
   "execution_count": 125,
   "id": "205aff7d",
   "metadata": {},
   "outputs": [],
   "source": [
    "list_a=[7,6,5,4,3,2,1,0]"
   ]
  },
  {
   "cell_type": "code",
   "execution_count": 94,
   "id": "df735d76",
   "metadata": {},
   "outputs": [],
   "source": [
    "list_a.extend(list_a)"
   ]
  },
  {
   "cell_type": "code",
   "execution_count": 100,
   "id": "b99f6794",
   "metadata": {},
   "outputs": [],
   "source": [
    "list_a.append(10)"
   ]
  },
  {
   "cell_type": "code",
   "execution_count": 104,
   "id": "2e99697a",
   "metadata": {},
   "outputs": [],
   "source": [
    "list_a.insert(3,0)"
   ]
  },
  {
   "cell_type": "code",
   "execution_count": 120,
   "id": "e7cb74d9",
   "metadata": {},
   "outputs": [],
   "source": [
    "list_a.remove(3)"
   ]
  },
  {
   "cell_type": "code",
   "execution_count": 117,
   "id": "c6616772",
   "metadata": {},
   "outputs": [
    {
     "data": {
      "text/plain": [
       "4"
      ]
     },
     "execution_count": 117,
     "metadata": {},
     "output_type": "execute_result"
    }
   ],
   "source": [
    "list_a.pop(3)"
   ]
  },
  {
   "cell_type": "code",
   "execution_count": 123,
   "id": "85c32a5d",
   "metadata": {},
   "outputs": [],
   "source": [
    "list_a.clear()"
   ]
  },
  {
   "cell_type": "code",
   "execution_count": 126,
   "id": "eca7de18",
   "metadata": {},
   "outputs": [],
   "source": [
    "numbers=[1,5,9,17,32,64,81,99,130,150,190,320,500,666,798,999]"
   ]
  },
  {
   "cell_type": "code",
   "execution_count": 128,
   "id": "1628471a",
   "metadata": {},
   "outputs": [
    {
     "name": "stdout",
     "output_type": "stream",
     "text": [
      "130\n",
      "150\n",
      "190\n",
      "320\n",
      "500\n",
      "666\n",
      "798\n",
      "999\n"
     ]
    }
   ],
   "source": [
    "for number in numbers:\n",
    "    if number >= 100:\n",
    "        print(number)"
   ]
  },
  {
   "cell_type": "code",
   "execution_count": 129,
   "id": "d1975f56",
   "metadata": {},
   "outputs": [
    {
     "name": "stdout",
     "output_type": "stream",
     "text": [
      "130\n",
      "150\n",
      "190\n",
      "320\n",
      "500\n",
      "666\n",
      "798\n",
      "999\n"
     ]
    }
   ],
   "source": [
    "for plan_a in numbers:\n",
    "    if plan_a >= 100:\n",
    "        print(plan_a)"
   ]
  },
  {
   "cell_type": "code",
   "execution_count": 130,
   "id": "5288bfb1",
   "metadata": {},
   "outputs": [
    {
     "name": "stdout",
     "output_type": "stream",
     "text": [
      "1 은 홀수입니다.\n",
      "5 은 홀수입니다.\n",
      "9 은 홀수입니다.\n",
      "17 은 홀수입니다.\n",
      "32 은 짝수입니다.\n",
      "64 은 짝수입니다.\n",
      "81 은 홀수입니다.\n",
      "99 은 홀수입니다.\n",
      "130 은 짝수입니다.\n",
      "150 은 짝수입니다.\n",
      "190 은 짝수입니다.\n",
      "320 은 짝수입니다.\n",
      "500 은 짝수입니다.\n",
      "666 은 짝수입니다.\n",
      "798 은 짝수입니다.\n",
      "999 은 홀수입니다.\n"
     ]
    }
   ],
   "source": [
    "for number in numbers:\n",
    "    if number%2 == 0:\n",
    "        print(number,\"은 짝수입니다.\")\n",
    "    else:\n",
    "        print(number,\"은 홀수입니다.\")"
   ]
  },
  {
   "cell_type": "code",
   "execution_count": 134,
   "id": "f47d8fe4",
   "metadata": {},
   "outputs": [
    {
     "name": "stdout",
     "output_type": "stream",
     "text": [
      "1 는 1 자릿수입니다.\n",
      "5 는 1 자릿수입니다.\n",
      "9 는 1 자릿수입니다.\n",
      "17 는 2자릿수입니다.\n",
      "32 는 2자릿수입니다.\n",
      "64 는 2자릿수입니다.\n",
      "81 는 2자릿수입니다.\n",
      "99 는 2자릿수입니다.\n",
      "130 는 3자릿수입니다.\n",
      "150 는 3자릿수입니다.\n",
      "190 는 3자릿수입니다.\n",
      "320 는 3자릿수입니다.\n",
      "500 는 3자릿수입니다.\n",
      "666 는 3자릿수입니다.\n",
      "798 는 3자릿수입니다.\n",
      "999 는 3자릿수입니다.\n"
     ]
    }
   ],
   "source": [
    "for number in numbers:\n",
    "    if number < 10:\n",
    "        print(number,\"는 1 자릿수입니다.\")\n",
    "    elif number < 100:\n",
    "        print(number,\"는 2자릿수입니다.\")\n",
    "    elif number < 1000:\n",
    "        print(number,\"는 3자릿수입니다.\")"
   ]
  },
  {
   "cell_type": "code",
   "execution_count": 135,
   "id": "cfbb6d45",
   "metadata": {},
   "outputs": [],
   "source": [
    "list_of_list=[[1,2,3],[4,5,6,7],[8,9]]"
   ]
  },
  {
   "cell_type": "code",
   "execution_count": 137,
   "id": "655bbc52",
   "metadata": {},
   "outputs": [
    {
     "name": "stdout",
     "output_type": "stream",
     "text": [
      "> [1, 2, 3]\n",
      "> [4, 5, 6, 7]\n",
      "> [8, 9]\n"
     ]
    }
   ],
   "source": [
    "for list in list_of_list:\n",
    "    print(\">\",list)"
   ]
  },
  {
   "cell_type": "code",
   "execution_count": 31,
   "id": "e348159c",
   "metadata": {},
   "outputs": [],
   "source": [
    "numbers=[1,2,3,4,5,6,7,8,9]"
   ]
  },
  {
   "cell_type": "code",
   "execution_count": 38,
   "id": "6afa0a47",
   "metadata": {},
   "outputs": [],
   "source": [
    "output=[[],[],[]]"
   ]
  },
  {
   "cell_type": "code",
   "execution_count": 39,
   "id": "c6a1c3b2",
   "metadata": {},
   "outputs": [
    {
     "name": "stdout",
     "output_type": "stream",
     "text": [
      "[[1, 4, 7], [2, 5, 8], [3, 6, 9]]\n"
     ]
    }
   ],
   "source": [
    "for number in numbers:\n",
    "    output[(number+2)%3].append(number)\n",
    "\n",
    "print(output)"
   ]
  },
  {
   "cell_type": "code",
   "execution_count": 19,
   "id": "516ddda9",
   "metadata": {},
   "outputs": [],
   "source": [
    "list_of_list=[[1,2,3],[4,5,6,7],[8,9]]"
   ]
  },
  {
   "cell_type": "code",
   "execution_count": 20,
   "id": "b06dbaae",
   "metadata": {},
   "outputs": [
    {
     "name": "stdout",
     "output_type": "stream",
     "text": [
      "1\n",
      "2\n",
      "3\n",
      "4\n",
      "5\n",
      "6\n",
      "7\n",
      "8\n",
      "9\n"
     ]
    }
   ],
   "source": [
    "for line in list_of_list:\n",
    "    for item in line:\n",
    "        print(item)"
   ]
  },
  {
   "cell_type": "code",
   "execution_count": 21,
   "id": "b6c91017",
   "metadata": {},
   "outputs": [
    {
     "name": "stdout",
     "output_type": "stream",
     "text": [
      "[1, 2, 3]\n",
      "[4, 5, 6, 7]\n",
      "[8, 9]\n"
     ]
    }
   ],
   "source": [
    "for line in list_of_list:\n",
    "    print(line)"
   ]
  },
  {
   "cell_type": "code",
   "execution_count": 42,
   "id": "f295ed93",
   "metadata": {},
   "outputs": [
    {
     "name": "stdout",
     "output_type": "stream",
     "text": [
      "[[1, 4, 7], [2, 5, 8], [3, 6, 9]]\n"
     ]
    }
   ],
   "source": [
    "numbers=[1,2,3,4,5,6,7,8,9]\n",
    "output=[[],[],[]]\n",
    "\n",
    "for number in numbers:\n",
    "    output[(number+2)%3].append(number)\n",
    "    \n",
    "print(output)"
   ]
  },
  {
   "cell_type": "code",
   "execution_count": 30,
   "id": "0bf88b3e",
   "metadata": {},
   "outputs": [
    {
     "name": "stdout",
     "output_type": "stream",
     "text": [
      "[[3, 6, 9], [1, 4, 7], [2, 5, 8]]\n"
     ]
    }
   ],
   "source": [
    "numbers=[1,2,3,4,5,6,7,8,9]\n",
    "output=[[],[],[]]\n",
    "\n",
    "for num in numbers:\n",
    "    output[num%3].append(num)\n",
    "\n",
    "print(output)"
   ]
  },
  {
   "cell_type": "code",
   "execution_count": 26,
   "id": "630f40c1",
   "metadata": {},
   "outputs": [],
   "source": [
    "dict_a={\"name\":\"Avengers endgame\",\"type\":\"hero movie\"}"
   ]
  },
  {
   "cell_type": "code",
   "execution_count": 32,
   "id": "42b0b76d",
   "metadata": {},
   "outputs": [
    {
     "data": {
      "text/plain": [
       "'Avengers endgame'"
      ]
     },
     "execution_count": 32,
     "metadata": {},
     "output_type": "execute_result"
    }
   ],
   "source": [
    "dict_a[\"name\"]"
   ]
  },
  {
   "cell_type": "code",
   "execution_count": 33,
   "id": "6055d3c9",
   "metadata": {},
   "outputs": [
    {
     "data": {
      "text/plain": [
       "'hero movie'"
      ]
     },
     "execution_count": 33,
     "metadata": {},
     "output_type": "execute_result"
    }
   ],
   "source": [
    "dict_a[\"type\"]"
   ]
  },
  {
   "cell_type": "code",
   "execution_count": null,
   "id": "5345f650",
   "metadata": {},
   "outputs": [
    {
     "name": "stdout",
     "output_type": "stream",
     "text": [
      "name: 7D dry mango\n",
      "type: dry food\n",
      "ingredient: mango,sugar,Na,color\n",
      "origin: Philippines\n",
      "\n",
      "name: 8D dry mango\n"
     ]
    }
   ],
   "source": [
    "dictionary={\"name\":\"7D dry mango\",\"type\":\"dry food\",\"ingredient\":\"mango,sugar,Na,color\",\"origin\":\"Philippines\"}\n",
    "\n",
    "print(\"name:\",dictionary[\"name\"])\n",
    "print(\"type:\",dictionary[\"type\"])\n",
    "print(\"ingredient:\",dictionary[\"ingredient\"])\n",
    "print(\"origin:\",dictionary[\"origin\"])\n",
    "print()\n",
    "\n",
    "#값을 변경합니다.\n",
    "dictionary[\"name\"]=\"8D dry mango\"\n",
    "print(\"name:\",dictionary[\"name\"])"
   ]
  },
  {
   "cell_type": "code",
   "execution_count": 37,
   "id": "9635a40a",
   "metadata": {},
   "outputs": [
    {
     "data": {
      "text/plain": [
       "'a'"
      ]
     },
     "execution_count": 37,
     "metadata": {},
     "output_type": "execute_result"
    }
   ],
   "source": [
    "dictionary[\"ingredient\"][1]"
   ]
  },
  {
   "cell_type": "code",
   "execution_count": 38,
   "id": "fd5878dc",
   "metadata": {},
   "outputs": [],
   "source": [
    "dictionary[\"price\"]=5000"
   ]
  },
  {
   "cell_type": "code",
   "execution_count": 39,
   "id": "d11ff8f4",
   "metadata": {},
   "outputs": [
    {
     "data": {
      "text/plain": [
       "{'name': '8D dry mango',\n",
       " 'type': 'dry food',\n",
       " 'ingredient': 'mango,sugar,Na,color',\n",
       " 'origin': 'Philippines',\n",
       " 'price': 5000}"
      ]
     },
     "execution_count": 39,
     "metadata": {},
     "output_type": "execute_result"
    }
   ],
   "source": [
    "dictionary"
   ]
  },
  {
   "cell_type": "code",
   "execution_count": 41,
   "id": "39e813d2",
   "metadata": {},
   "outputs": [
    {
     "name": "stdout",
     "output_type": "stream",
     "text": [
      "KeyError:not have key\n"
     ]
    }
   ],
   "source": [
    "key=input(\">you want Key:\")\n",
    "if key in dictionary:\n",
    "    print(dictionary[key])\n",
    "else:\n",
    "    print(\"KeyError:not have key\")"
   ]
  },
  {
   "cell_type": "code",
   "execution_count": 42,
   "id": "edb5a0a1",
   "metadata": {},
   "outputs": [
    {
     "name": "stdout",
     "output_type": "stream",
     "text": [
      "name : 8D dry mango\n",
      "type : dry food\n",
      "ingredient : mango,sugar,Na,color\n",
      "origin : Philippines\n",
      "price : 5000\n"
     ]
    }
   ],
   "source": [
    "for key in dictionary:\n",
    "    print(key,\":\",dictionary[key])"
   ]
  },
  {
   "cell_type": "code",
   "execution_count": 53,
   "id": "698acf07",
   "metadata": {},
   "outputs": [
    {
     "data": {
      "text/plain": [
       "{'name': 'cloud'}"
      ]
     },
     "execution_count": 53,
     "metadata": {},
     "output_type": "execute_result"
    }
   ],
   "source": [
    "dict_a={}\n",
    "dict_a[\"name\"]=\"cloud\"\n",
    "dict_a"
   ]
  },
  {
   "cell_type": "code",
   "execution_count": 54,
   "id": "5ed16d57",
   "metadata": {},
   "outputs": [
    {
     "data": {
      "text/plain": [
       "{}"
      ]
     },
     "execution_count": 54,
     "metadata": {},
     "output_type": "execute_result"
    }
   ],
   "source": [
    "del dict_a[\"name\"]\n",
    "dict_a"
   ]
  },
  {
   "cell_type": "code",
   "execution_count": 67,
   "id": "9e02bbfd",
   "metadata": {},
   "outputs": [
    {
     "name": "stdout",
     "output_type": "stream",
     "text": [
      "our pets\n",
      "gulum 5살\n",
      "choko 3살\n",
      "agi 1살\n",
      "holang 1살\n"
     ]
    }
   ],
   "source": [
    "pets=[{\"name\":\"gulum\",\"age\":5},{\"name\":\"choko\",\"age\":3},{\"name\":\"agi\",\"age\":1},{\"name\":\"holang\",\"age\":1}]\n",
    "print(\"our pets\")\n",
    "for pet in pets:\n",
    "    print(pet[\"name\"],str(pet[\"age\"])+\"살\")"
   ]
  },
  {
   "cell_type": "code",
   "execution_count": 71,
   "id": "61f2c271",
   "metadata": {},
   "outputs": [
    {
     "name": "stdout",
     "output_type": "stream",
     "text": [
      "[[1, 4, 7], [2, 5, 8], [3, 6, 9]]\n"
     ]
    }
   ],
   "source": [
    "numbers = [1, 2, 3, 4, 5, 6, 7, 8, 9]\n",
    "output = [[], [], []]\n",
    "\n",
    "for idx, num in enumerate(numbers):\n",
    "    output[idx % 3].append(num)\n",
    "\n",
    "print(output)"
   ]
  },
  {
   "cell_type": "code",
   "execution_count": 72,
   "id": "6d7d2b9f",
   "metadata": {},
   "outputs": [
    {
     "name": "stdout",
     "output_type": "stream",
     "text": [
      "{1: 3, 2: 4, 6: 1, 8: 2, 4: 2, 3: 3, 9: 2, 7: 2, 5: 1}\n"
     ]
    }
   ],
   "source": [
    "numbers=[1,2,6,8,4,3,2,1,9,7,2,1,3,5,4,8,9,7,2,3]\n",
    "counter={}\n",
    "\n",
    "for num in numbers:\n",
    "    if num in counter:\n",
    "        counter[num]=counter[num] + 1\n",
    "    else:\n",
    "        counter[num] = 1\n",
    "\n",
    "print(counter)"
   ]
  },
  {
   "cell_type": "code",
   "execution_count": 77,
   "id": "1a8b09b8",
   "metadata": {},
   "outputs": [
    {
     "name": "stdout",
     "output_type": "stream",
     "text": [
      "name : knight\n",
      "level : 12\n",
      "sword : +12Sword\n",
      "armor : +12Armor\n",
      "skill : ['cut off', 'cut off x 2', 'cut off x 3']\n"
     ]
    }
   ],
   "source": [
    "character={\"name\":\"knight\",\"level\":12,\"items\":{\"sword\":\"+12Sword\",\"armor\":\"+12Armor\"},\"skill\":[\"cut off\",\"cut off x 2\",\"cut off x 3\"]}\n",
    "\n",
    "for key in character:\n",
    "    if type(character[key]) is dict:\n",
    "        for small_key in character[key]:\n",
    "            print(small_key,\":\",character[key][small_key])\n",
    "    elif type(character[key]) is list:\n",
    "        for item in character[key]:\n",
    "            print(key,\":\",item)\n",
    "    else:\n",
    "        print(key,\":\",character[key])"
   ]
  },
  {
   "cell_type": "code",
   "execution_count": 79,
   "id": "6cb01f68",
   "metadata": {},
   "outputs": [
    {
     "name": "stdout",
     "output_type": "stream",
     "text": [
      "0=반복 변수\n",
      "1=반복 변수\n",
      "2=반복 변수\n",
      "3=반복 변수\n",
      "4=반복 변수\n",
      "\n",
      "5=반복 변수\n",
      "6=반복 변수\n",
      "7=반복 변수\n",
      "8=반복 변수\n",
      "9=반복 변수\n",
      "\n",
      "0=반복 변수\n",
      "3=반복 변수\n",
      "6=반복 변수\n",
      "9=반복 변수\n",
      "\n"
     ]
    }
   ],
   "source": [
    "for i in range(5):\n",
    "    print(str(i)+\"=반복 변수\")\n",
    "print()\n",
    "\n",
    "for i in range(5,10):\n",
    "    print(str(i)+\"=반복 변수\")\n",
    "print()\n",
    "\n",
    "for i in range(0,10,3):\n",
    "    print(str(i)+\"=반복 변수\")\n",
    "print()"
   ]
  },
  {
   "cell_type": "code",
   "execution_count": 81,
   "id": "14b6ea6e",
   "metadata": {},
   "outputs": [
    {
     "name": "stdout",
     "output_type": "stream",
     "text": [
      "0 = 반복 변수\n",
      "1 = 반복 변수\n",
      "2 = 반복 변수\n",
      "3 = 반복 변수\n",
      "4 = 반복 변수\n",
      "\n",
      "5=반복 변수\n",
      "6=반복 변수\n",
      "7=반복 변수\n",
      "8=반복 변수\n",
      "9=반복 변수\n",
      "\n",
      "0=반복 변수\n",
      "3=반복 변수\n",
      "6=반복 변수\n",
      "9=반복 변수\n",
      "\n"
     ]
    }
   ],
   "source": [
    "for i in range(5):\n",
    "    print(i,\"= 반복 변수\")\n",
    "print()\n",
    "\n",
    "for i in range(5,10):\n",
    "    print(str(i)+\"=반복 변수\")\n",
    "print()\n",
    "\n",
    "for i in range(0,10,3):\n",
    "    print(str(i)+\"=반복 변수\")\n",
    "print()"
   ]
  },
  {
   "cell_type": "code",
   "execution_count": 85,
   "id": "89dacad1",
   "metadata": {},
   "outputs": [
    {
     "name": "stdout",
     "output_type": "stream",
     "text": [
      "1번째 반복:273\n",
      "2번째 반복:32\n",
      "3번째 반복:103\n",
      "4번째 반복:57\n",
      "5번째 반복:52\n"
     ]
    }
   ],
   "source": [
    "array=[273,32,103,57,52]\n",
    "\n",
    "for i in range(len(array)):\n",
    "    print(\"{}번째 반복:{}\".format(i+1,array[i]))"
   ]
  },
  {
   "cell_type": "code",
   "execution_count": 1,
   "id": "ec91600a",
   "metadata": {},
   "outputs": [
    {
     "data": {
      "text/plain": [
       "[4, 3, 2, 1, 0]"
      ]
     },
     "execution_count": 1,
     "metadata": {},
     "output_type": "execute_result"
    }
   ],
   "source": [
    "a=range(4,0-1,-1)\n",
    "list(a)\n"
   ]
  },
  {
   "cell_type": "code",
   "execution_count": 5,
   "id": "79dfb367",
   "metadata": {},
   "outputs": [
    {
     "name": "stdout",
     "output_type": "stream",
     "text": [
      "현재 반복 변수:4\n",
      "현재 반복 변수:3\n",
      "현재 반복 변수:2\n",
      "현재 반복 변수:1\n",
      "현재 반복 변수:0\n"
     ]
    }
   ],
   "source": [
    "for i in reversed(range(5)):\n",
    "    print(\"현재 반복 변수:{}\".format(i))"
   ]
  },
  {
   "cell_type": "code",
   "execution_count": 8,
   "id": "68da9ac0",
   "metadata": {},
   "outputs": [
    {
     "name": "stdout",
     "output_type": "stream",
     "text": [
      "0번째 반복입니다.\n",
      "1번째 반복입니다.\n",
      "2번째 반복입니다.\n",
      "3번째 반복입니다.\n",
      "4번째 반복입니다.\n",
      "5번째 반복입니다.\n",
      "6번째 반복입니다.\n",
      "7번째 반복입니다.\n",
      "8번째 반복입니다.\n",
      "9번째 반복입니다.\n"
     ]
    }
   ],
   "source": [
    "i=0\n",
    "while i < 10:\n",
    "    print(\"{}번째 반복입니다.\".format(i))\n",
    "    i += 1"
   ]
  },
  {
   "cell_type": "code",
   "execution_count": 9,
   "id": "80d7915c",
   "metadata": {},
   "outputs": [
    {
     "name": "stdout",
     "output_type": "stream",
     "text": [
      "[1, 1]\n"
     ]
    }
   ],
   "source": [
    "list_test = [1,2,1,2]\n",
    "value = 2\n",
    "\n",
    "while value in list_test:\n",
    "    list_test.remove(value)\n",
    "    \n",
    "print(list_test)"
   ]
  },
  {
   "cell_type": "code",
   "execution_count": 10,
   "id": "a364e529",
   "metadata": {},
   "outputs": [],
   "source": [
    "import time"
   ]
  },
  {
   "cell_type": "code",
   "execution_count": 11,
   "id": "36699bdf",
   "metadata": {},
   "outputs": [
    {
     "data": {
      "text/plain": [
       "1750037659.965782"
      ]
     },
     "execution_count": 11,
     "metadata": {},
     "output_type": "execute_result"
    }
   ],
   "source": [
    "time.time()"
   ]
  },
  {
   "cell_type": "code",
   "execution_count": 12,
   "id": "fa91a3aa",
   "metadata": {},
   "outputs": [
    {
     "name": "stdout",
     "output_type": "stream",
     "text": [
      "5sec 51911435repetition\n"
     ]
    }
   ],
   "source": [
    "number = 0\n",
    "target_tick = time.time() + 5\n",
    "while time.time() < target_tick:\n",
    "    number += 1\n",
    "    \n",
    "print(\"5sec {}repetition\".format(number))"
   ]
  },
  {
   "cell_type": "code",
   "execution_count": 17,
   "id": "9323e525",
   "metadata": {},
   "outputs": [
    {
     "name": "stdout",
     "output_type": "stream",
     "text": [
      "{'0 Repetition'}\n",
      "{'1 Repetition'}\n",
      "{'2 Repetition'}\n",
      "{'3 Repetition'}\n",
      "{'4 Repetition'}\n",
      "{'5 Repetition'}\n",
      "Repetition end\n"
     ]
    }
   ],
   "source": [
    "i = 0\n",
    "while True:\n",
    "    print({\"{} Repetition\".format(i)})\n",
    "    i = i + 1\n",
    "    input_text = input(\">End?(y/n):\")\n",
    "    if input_text in[\"y\",\"Y\"]:\n",
    "        print(\"Repetition end\")\n",
    "        break"
   ]
  },
  {
   "cell_type": "code",
   "execution_count": 18,
   "id": "c6552794",
   "metadata": {},
   "outputs": [
    {
     "name": "stdout",
     "output_type": "stream",
     "text": [
      "15\n",
      "20\n",
      "25\n"
     ]
    }
   ],
   "source": [
    "numbers = [5,15,6,20,7,25]\n",
    "for number in numbers:\n",
    "    if number < 10:\n",
    "        continue\n",
    "    print(number)"
   ]
  },
  {
   "cell_type": "code",
   "execution_count": 24,
   "id": "8569f36f",
   "metadata": {},
   "outputs": [
    {
     "data": {
      "text/plain": [
       "[7, 6, 5, 4, 3, 2, 1]"
      ]
     },
     "execution_count": 24,
     "metadata": {},
     "output_type": "execute_result"
    }
   ],
   "source": [
    "a=range(7,0,-1)\n",
    "list(a)"
   ]
  },
  {
   "cell_type": "code",
   "execution_count": 28,
   "id": "0e3668bf",
   "metadata": {},
   "outputs": [
    {
     "name": "stdout",
     "output_type": "stream",
     "text": [
      "{'name': 'knight', 'hp': 200, 'mp': 30, 'level': 5}\n"
     ]
    }
   ],
   "source": [
    "key_list = [\"name\",\"hp\",\"mp\",\"level\"]\n",
    "value_list = [\"knight\",200,30,5]\n",
    "character = {}\n",
    "\n",
    "for i in range(0,len(key_list)):\n",
    "    character[key_list[i]] = value_list[i]\n",
    "\n",
    "print(character)\n"
   ]
  },
  {
   "cell_type": "code",
   "execution_count": 30,
   "id": "0b9bedce",
   "metadata": {},
   "outputs": [
    {
     "name": "stdout",
     "output_type": "stream",
     "text": [
      "{'name': 'knight', 'hp': 200, 'mp': 30, 'level': 5}\n"
     ]
    }
   ],
   "source": [
    "key_list = [\"name\", \"hp\", \"mp\", \"level\"]\n",
    "value_list = [\"knight\", 200, 30, 5]\n",
    "character = dict(zip(key_list, value_list))\n",
    "print(character)"
   ]
  },
  {
   "cell_type": "code",
   "execution_count": 39,
   "id": "29110257",
   "metadata": {},
   "outputs": [
    {
     "name": "stdout",
     "output_type": "stream",
     "text": [
      "46를 더할 때 1000을 넘으며 그 때의 값은 1035입니다.\n"
     ]
    }
   ],
   "source": [
    "limit = 1000\n",
    "i = 1\n",
    "sum_value = 0\n",
    "while sum_value < limit:\n",
    "    sum_value += i\n",
    "    i += 1\n",
    "print(\"{}를 더할 때 {}을 넘으며 그 때의 값은 {}입니다.\".format(i,limit,sum_value))"
   ]
  },
  {
   "cell_type": "code",
   "execution_count": 41,
   "id": "ce4c0456",
   "metadata": {},
   "outputs": [
    {
     "name": "stdout",
     "output_type": "stream",
     "text": [
      "최대가 되는 경우:50*50=2500\n"
     ]
    }
   ],
   "source": [
    "max_value = 0\n",
    "a = 0\n",
    "b = 0\n",
    "for i in range(1,100//2+1):\n",
    "    j = 100 - i\n",
    "    current = i * j\n",
    "    if max_value < current:\n",
    "        a = i\n",
    "        b = j\n",
    "        max_value = current\n",
    "print(\"최대가 되는 경우:{}*{}={}\".format(a,b,max_value))"
   ]
  },
  {
   "cell_type": "code",
   "execution_count": 46,
   "id": "814f9988",
   "metadata": {},
   "outputs": [
    {
     "name": "stdout",
     "output_type": "stream",
     "text": [
      "#딕셔너리의 item() 함수\n",
      "items(): dict_items([('키A', '값A'), ('키B', '값B'), ('키C', '값C')])\n",
      "#딕셔너리의 item()함수와 반복문 조합하기\n",
      "dictionary[키A] = 값A\n",
      "dictionary[키B] = 값B\n",
      "dictionary[키C] = 값C\n"
     ]
    }
   ],
   "source": [
    "example_dictionary = {\"키A\":\"값A\",\"키B\":\"값B\",\"키C\":\"값C\"}\n",
    "\n",
    "print(\"#딕셔너리의 item() 함수\")\n",
    "print(\"items():\",example_dictionary.items())\n",
    "\n",
    "print(\"#딕셔너리의 item()함수와 반복문 조합하기\")\n",
    "for key,element in example_dictionary.items():\n",
    "    print(\"dictionary[{}] = {}\".format(key,element))"
   ]
  },
  {
   "cell_type": "code",
   "execution_count": 47,
   "id": "c2ab26f9",
   "metadata": {},
   "outputs": [
    {
     "name": "stdout",
     "output_type": "stream",
     "text": [
      "[0, 4, 16, 36, 64, 100, 144, 196, 256, 324]\n"
     ]
    }
   ],
   "source": [
    "array = []\n",
    "\n",
    "for i in range(0,20,2):\n",
    "    array.append(i*i)\n",
    "\n",
    "print(array)"
   ]
  },
  {
   "cell_type": "code",
   "execution_count": 48,
   "id": "e4ca4b95",
   "metadata": {},
   "outputs": [
    {
     "name": "stdout",
     "output_type": "stream",
     "text": [
      "[0, 4, 16, 36, 64, 100, 144, 196, 256, 324]\n"
     ]
    }
   ],
   "source": [
    "array = [i * i for i in range(0,20,2)]\n",
    "print(array)"
   ]
  },
  {
   "cell_type": "code",
   "execution_count": 49,
   "id": "c8f79b7f",
   "metadata": {},
   "outputs": [
    {
     "name": "stdout",
     "output_type": "stream",
     "text": [
      "['사과', '자두', '바나나', '체리']\n"
     ]
    }
   ],
   "source": [
    "array = [\"사과\",\"자두\",\"초콜릿\",\"바나나\",\"체리\"]\n",
    "output = [fruit for fruit in array if fruit != \"초콜릿\"]\n",
    "\n",
    "print(output)"
   ]
  },
  {
   "cell_type": "code",
   "execution_count": 50,
   "id": "653bfff3",
   "metadata": {},
   "outputs": [
    {
     "name": "stdout",
     "output_type": "stream",
     "text": [
      "          입력한 문자열은 5입니다.\n",
      "          5는 홀수입니다.\n"
     ]
    }
   ],
   "source": [
    "number = int(input(\"정수 입력>\"))\n",
    "\n",
    "if number % 2 == 0:\n",
    "    print(\"\"\"\\\n",
    "          입력한 문자열은 {}입니다.\n",
    "          {}는 짝수입니다.\"\"\".format(number,number))\n",
    "else:\n",
    "    print(\"\"\"\\\n",
    "          입력한 문자열은 {}입니다.\n",
    "          {}는 홀수입니다.\"\"\".format(number,number))"
   ]
  },
  {
   "cell_type": "code",
   "execution_count": 52,
   "id": "9e826233",
   "metadata": {},
   "outputs": [
    {
     "name": "stdout",
     "output_type": "stream",
     "text": [
      "2:10\n",
      "5:101\n",
      "6:110\n",
      "11:1011\n",
      "13:1101\n",
      "14:1110\n",
      "23:10111\n",
      "27:11011\n",
      "29:11101\n",
      "30:11110\n",
      "47:101111\n",
      "55:110111\n",
      "59:111011\n",
      "61:111101\n",
      "62:111110\n",
      "95:1011111\n",
      "합계: 539\n"
     ]
    }
   ],
   "source": [
    "output = [i for i in range(1,100+1)\n",
    "          if \"{:b}\".format(i).count(\"0\") == 1]\n",
    "\n",
    "for i in output:\n",
    "    print(\"{}:{}\".format(i,\"{:b}\".format(i)))\n",
    "print(\"합계:\",sum(output))"
   ]
  },
  {
   "cell_type": "code",
   "execution_count": null,
   "id": "4ef93816",
   "metadata": {},
   "outputs": [
    {
     "name": "stdout",
     "output_type": "stream",
     "text": [
      "Hello\n",
      "Happy\n",
      "Python\n",
      "Programming\n",
      "Hello\n",
      "Happy\n",
      "Python\n",
      "Programming\n",
      "Hello\n",
      "Happy\n",
      "Python\n",
      "Programming\n"
     ]
    }
   ],
   "source": [
    "def print_n_times(n,*values):\n",
    "    for i in range(n):\n",
    "        for value in values:\n",
    "            print(value)\n",
    "            \n",
    "print_n_times(3,\"Hello\",\"Happy\",\"Python\",\"Programming\")"
   ]
  },
  {
   "cell_type": "code",
   "execution_count": 59,
   "id": "46c04096",
   "metadata": {},
   "outputs": [
    {
     "name": "stdout",
     "output_type": "stream",
     "text": [
      "Hello\n",
      "My\n",
      "name\n",
      "is\n",
      "Oing\n",
      "\n",
      "Hello\n",
      "My\n",
      "name\n",
      "is\n",
      "Oing\n",
      "\n",
      "Hello\n",
      "My\n",
      "name\n",
      "is\n",
      "Oing\n",
      "\n"
     ]
    }
   ],
   "source": [
    "def print_a(*values,n=2):\n",
    "    for i in range(n):\n",
    "        for value in values:\n",
    "            print(value)\n",
    "            \n",
    "        print()\n",
    "\n",
    "print_a(\"Hello\",\"My\",\"name\",\"is\",\"Oing\",n=3)"
   ]
  },
  {
   "cell_type": "code",
   "execution_count": 67,
   "id": "cf8c9932",
   "metadata": {},
   "outputs": [
    {
     "name": "stdout",
     "output_type": "stream",
     "text": [
      "최대가 되는 경우:50*50=2500\n"
     ]
    }
   ],
   "source": [
    "for i in range(1,50+1):\n",
    "    j = 100 - i\n",
    "    current = i * j\n",
    "    if max_value < current:\n",
    "        max_value = current\n",
    "\n",
    "print(\"최대가 되는 경우:{}*{}={}\".format(i, j, max_value))\n"
   ]
  },
  {
   "cell_type": "code",
   "execution_count": 61,
   "id": "e86e5634",
   "metadata": {},
   "outputs": [],
   "source": [
    "del i"
   ]
  },
  {
   "cell_type": "code",
   "execution_count": 62,
   "id": "a7034c38",
   "metadata": {},
   "outputs": [],
   "source": [
    "del a\n",
    "del b"
   ]
  },
  {
   "cell_type": "code",
   "execution_count": 63,
   "id": "ea6a9ab7",
   "metadata": {},
   "outputs": [],
   "source": [
    "del j"
   ]
  },
  {
   "cell_type": "code",
   "execution_count": 68,
   "id": "38adbb1f",
   "metadata": {},
   "outputs": [
    {
     "name": "stdout",
     "output_type": "stream",
     "text": [
      "60\n"
     ]
    }
   ],
   "source": [
    "def test(a,b=10,c=100):\n",
    "    print(a+b+c)\n",
    "\n",
    "test(10,20,30)"
   ]
  },
  {
   "cell_type": "code",
   "execution_count": 1,
   "id": "11f963e9",
   "metadata": {},
   "outputs": [
    {
     "name": "stdout",
     "output_type": "stream",
     "text": [
      "0 to 100 : 5050\n",
      "0 to 1000 : 500500\n",
      "50 to 100 : 3825\n",
      "50 to 1000 : 499275\n"
     ]
    }
   ],
   "source": [
    "def sum_all(start, end):\n",
    "    output = 0\n",
    "    for i in range(start, end + 1):\n",
    "        output += i\n",
    "    return output\n",
    "\n",
    "print(\"0 to 100 :\",sum_all(1,100))\n",
    "print(\"0 to 1000 :\",sum_all(1,1000))\n",
    "print(\"50 to 100 :\",sum_all(50,100))\n",
    "print(\"50 to 1000 :\",sum_all(50,1000))\n",
    "\n"
   ]
  },
  {
   "cell_type": "code",
   "execution_count": 72,
   "id": "0d819846",
   "metadata": {},
   "outputs": [
    {
     "data": {
      "text/plain": [
       "4999"
      ]
     },
     "execution_count": 72,
     "metadata": {},
     "output_type": "execute_result"
    }
   ],
   "source": [
    "49*101+50"
   ]
  },
  {
   "cell_type": "code",
   "execution_count": 76,
   "id": "b9f66fe5",
   "metadata": {},
   "outputs": [
    {
     "name": "stdout",
     "output_type": "stream",
     "text": [
      "5050\n"
     ]
    }
   ],
   "source": [
    "def sum_bll(start, end):\n",
    "    return sum(range(start, end + 1))\n",
    "print(sum_bll(1,100))"
   ]
  },
  {
   "cell_type": "code",
   "execution_count": 6,
   "id": "00980898",
   "metadata": {},
   "outputs": [
    {
     "name": "stdout",
     "output_type": "stream",
     "text": [
      "121\n"
     ]
    }
   ],
   "source": [
    "def f(x):\n",
    "    return x ** 2 + 2 * x + 1\n",
    "print(f(10))"
   ]
  },
  {
   "cell_type": "code",
   "execution_count": 10,
   "id": "b8d39605",
   "metadata": {},
   "outputs": [
    {
     "name": "stdout",
     "output_type": "stream",
     "text": [
      "3150\n"
     ]
    }
   ],
   "source": [
    "def mul(*values):\n",
    "    output = 1\n",
    "    for value in values:\n",
    "        output *= value\n",
    "    return output\n",
    "\n",
    "print(mul(5,7,9,10))\n",
    "\n",
    "                "
   ]
  },
  {
   "cell_type": "code",
   "execution_count": 3,
   "id": "55653e9b",
   "metadata": {},
   "outputs": [
    {
     "name": "stdout",
     "output_type": "stream",
     "text": [
      "120\n"
     ]
    }
   ],
   "source": [
    "def factorial(n):\n",
    "    #곱셉의 항등수\n",
    "    output = 1\n",
    "    #반복문으로 팩토리얼 구하기\n",
    "    for i in range(1,n + 1):\n",
    "        output *= i\n",
    "    return output\n",
    "\n",
    "print(factorial(5))"
   ]
  },
  {
   "cell_type": "code",
   "execution_count": 21,
   "id": "538c1b5e",
   "metadata": {},
   "outputs": [
    {
     "name": "stdout",
     "output_type": "stream",
     "text": [
      "1\n"
     ]
    }
   ],
   "source": [
    "def factorial(n):\n",
    "    if n == 0:\n",
    "        return 1\n",
    "    else:\n",
    "        return n * factorial(n-1)\n",
    "    \n",
    "print(factorial(0))"
   ]
  },
  {
   "cell_type": "code",
   "execution_count": 4,
   "id": "d93e688b",
   "metadata": {},
   "outputs": [
    {
     "name": "stdout",
     "output_type": "stream",
     "text": [
      "12586269025\n"
     ]
    }
   ],
   "source": [
    "def fibonacci(n):\n",
    "    if n == 1:\n",
    "        return 1\n",
    "    if n == 2:\n",
    "        return 1\n",
    "    else:\n",
    "        return fibonacci(n-1) + fibonacci(n-2)\n",
    "print(fibonacci(50))"
   ]
  },
  {
   "cell_type": "code",
   "execution_count": 1,
   "id": "17ccb37f",
   "metadata": {},
   "outputs": [
    {
     "name": "stdout",
     "output_type": "stream",
     "text": [
      "fibonacci(0)를 구합니다.\n",
      "fibonacci(-1)를 구합니다.\n",
      "fibonacci(-2)를 구합니다.\n",
      "fibonacci(-3)를 구합니다.\n",
      "fibonacci(-4)를 구합니다.\n",
      "fibonacci(-5)를 구합니다.\n",
      "fibonacci(-6)를 구합니다.\n",
      "fibonacci(-7)를 구합니다.\n",
      "fibonacci(-8)를 구합니다.\n",
      "fibonacci(-9)를 구합니다.\n",
      "fibonacci(-10)를 구합니다.\n",
      "fibonacci(-11)를 구합니다.\n",
      "fibonacci(-12)를 구합니다.\n",
      "fibonacci(-13)를 구합니다.\n",
      "fibonacci(-14)를 구합니다.\n",
      "fibonacci(-15)를 구합니다.\n",
      "fibonacci(-16)를 구합니다.\n",
      "fibonacci(-17)를 구합니다.\n",
      "fibonacci(-18)를 구합니다.\n",
      "fibonacci(-19)를 구합니다.\n",
      "fibonacci(-20)를 구합니다.\n",
      "fibonacci(-21)를 구합니다.\n",
      "fibonacci(-22)를 구합니다.\n",
      "fibonacci(-23)를 구합니다.\n",
      "fibonacci(-24)를 구합니다.\n",
      "fibonacci(-25)를 구합니다.\n",
      "fibonacci(-26)를 구합니다.\n",
      "fibonacci(-27)를 구합니다.\n",
      "fibonacci(-28)를 구합니다.\n",
      "fibonacci(-29)를 구합니다.\n",
      "fibonacci(-30)를 구합니다.\n",
      "fibonacci(-31)를 구합니다.\n",
      "fibonacci(-32)를 구합니다.\n",
      "fibonacci(-33)를 구합니다.\n",
      "fibonacci(-34)를 구합니다.\n",
      "fibonacci(-35)를 구합니다.\n",
      "fibonacci(-36)를 구합니다.\n",
      "fibonacci(-37)를 구합니다.\n",
      "fibonacci(-38)를 구합니다.\n",
      "fibonacci(-39)를 구합니다.\n",
      "fibonacci(-40)를 구합니다.\n",
      "fibonacci(-41)를 구합니다.\n",
      "fibonacci(-42)를 구합니다.\n",
      "fibonacci(-43)를 구합니다.\n",
      "fibonacci(-44)를 구합니다.\n",
      "fibonacci(-45)를 구합니다.\n",
      "fibonacci(-46)를 구합니다.\n",
      "fibonacci(-47)를 구합니다.\n",
      "fibonacci(-48)를 구합니다.\n",
      "fibonacci(-49)를 구합니다.\n",
      "fibonacci(-50)를 구합니다.\n",
      "fibonacci(-51)를 구합니다.\n",
      "fibonacci(-52)를 구합니다.\n",
      "fibonacci(-53)를 구합니다.\n",
      "fibonacci(-54)를 구합니다.\n",
      "fibonacci(-55)를 구합니다.\n",
      "fibonacci(-56)를 구합니다.\n",
      "fibonacci(-57)를 구합니다.\n",
      "fibonacci(-58)를 구합니다.\n",
      "fibonacci(-59)를 구합니다.\n",
      "fibonacci(-60)를 구합니다.\n",
      "fibonacci(-61)를 구합니다.\n",
      "fibonacci(-62)를 구합니다.\n",
      "fibonacci(-63)를 구합니다.\n",
      "fibonacci(-64)를 구합니다.\n",
      "fibonacci(-65)를 구합니다.\n",
      "fibonacci(-66)를 구합니다.\n",
      "fibonacci(-67)를 구합니다.\n",
      "fibonacci(-68)를 구합니다.\n",
      "fibonacci(-69)를 구합니다.\n",
      "fibonacci(-70)를 구합니다.\n",
      "fibonacci(-71)를 구합니다.\n",
      "fibonacci(-72)를 구합니다.\n",
      "fibonacci(-73)를 구합니다.\n",
      "fibonacci(-74)를 구합니다.\n",
      "fibonacci(-75)를 구합니다.\n",
      "fibonacci(-76)를 구합니다.\n",
      "fibonacci(-77)를 구합니다.\n",
      "fibonacci(-78)를 구합니다.\n",
      "fibonacci(-79)를 구합니다.\n",
      "fibonacci(-80)를 구합니다.\n",
      "fibonacci(-81)를 구합니다.\n",
      "fibonacci(-82)를 구합니다.\n",
      "fibonacci(-83)를 구합니다.\n",
      "fibonacci(-84)를 구합니다.\n",
      "fibonacci(-85)를 구합니다.\n",
      "fibonacci(-86)를 구합니다.\n",
      "fibonacci(-87)를 구합니다.\n",
      "fibonacci(-88)를 구합니다.\n",
      "fibonacci(-89)를 구합니다.\n",
      "fibonacci(-90)를 구합니다.\n",
      "fibonacci(-91)를 구합니다.\n",
      "fibonacci(-92)를 구합니다.\n",
      "fibonacci(-93)를 구합니다.\n",
      "fibonacci(-94)를 구합니다.\n",
      "fibonacci(-95)를 구합니다.\n",
      "fibonacci(-96)를 구합니다.\n",
      "fibonacci(-97)를 구합니다.\n",
      "fibonacci(-98)를 구합니다.\n",
      "fibonacci(-99)를 구합니다.\n",
      "fibonacci(-100)를 구합니다.\n",
      "fibonacci(-101)를 구합니다.\n",
      "fibonacci(-102)를 구합니다.\n",
      "fibonacci(-103)를 구합니다.\n",
      "fibonacci(-104)를 구합니다.\n",
      "fibonacci(-105)를 구합니다.\n",
      "fibonacci(-106)를 구합니다.\n",
      "fibonacci(-107)를 구합니다.\n",
      "fibonacci(-108)를 구합니다.\n",
      "fibonacci(-109)를 구합니다.\n",
      "fibonacci(-110)를 구합니다.\n",
      "fibonacci(-111)를 구합니다.\n",
      "fibonacci(-112)를 구합니다.\n",
      "fibonacci(-113)를 구합니다.\n",
      "fibonacci(-114)를 구합니다.\n",
      "fibonacci(-115)를 구합니다.\n",
      "fibonacci(-116)를 구합니다.\n",
      "fibonacci(-117)를 구합니다.\n",
      "fibonacci(-118)를 구합니다.\n",
      "fibonacci(-119)를 구합니다.\n",
      "fibonacci(-120)를 구합니다.\n",
      "fibonacci(-121)를 구합니다.\n",
      "fibonacci(-122)를 구합니다.\n",
      "fibonacci(-123)를 구합니다.\n",
      "fibonacci(-124)를 구합니다.\n",
      "fibonacci(-125)를 구합니다.\n",
      "fibonacci(-126)를 구합니다.\n",
      "fibonacci(-127)를 구합니다.\n",
      "fibonacci(-128)를 구합니다.\n",
      "fibonacci(-129)를 구합니다.\n",
      "fibonacci(-130)를 구합니다.\n",
      "fibonacci(-131)를 구합니다.\n",
      "fibonacci(-132)를 구합니다.\n",
      "fibonacci(-133)를 구합니다.\n",
      "fibonacci(-134)를 구합니다.\n",
      "fibonacci(-135)를 구합니다.\n",
      "fibonacci(-136)를 구합니다.\n",
      "fibonacci(-137)를 구합니다.\n",
      "fibonacci(-138)를 구합니다.\n",
      "fibonacci(-139)를 구합니다.\n",
      "fibonacci(-140)를 구합니다.\n",
      "fibonacci(-141)를 구합니다.\n",
      "fibonacci(-142)를 구합니다.\n",
      "fibonacci(-143)를 구합니다.\n",
      "fibonacci(-144)를 구합니다.\n",
      "fibonacci(-145)를 구합니다.\n",
      "fibonacci(-146)를 구합니다.\n",
      "fibonacci(-147)를 구합니다.\n",
      "fibonacci(-148)를 구합니다.\n",
      "fibonacci(-149)를 구합니다.\n",
      "fibonacci(-150)를 구합니다.\n",
      "fibonacci(-151)를 구합니다.\n",
      "fibonacci(-152)를 구합니다.\n",
      "fibonacci(-153)를 구합니다.\n",
      "fibonacci(-154)를 구합니다.\n",
      "fibonacci(-155)를 구합니다.\n",
      "fibonacci(-156)를 구합니다.\n",
      "fibonacci(-157)를 구합니다.\n",
      "fibonacci(-158)를 구합니다.\n",
      "fibonacci(-159)를 구합니다.\n",
      "fibonacci(-160)를 구합니다.\n",
      "fibonacci(-161)를 구합니다.\n",
      "fibonacci(-162)를 구합니다.\n",
      "fibonacci(-163)를 구합니다.\n",
      "fibonacci(-164)를 구합니다.\n",
      "fibonacci(-165)를 구합니다.\n",
      "fibonacci(-166)를 구합니다.\n",
      "fibonacci(-167)를 구합니다.\n",
      "fibonacci(-168)를 구합니다.\n",
      "fibonacci(-169)를 구합니다.\n",
      "fibonacci(-170)를 구합니다.\n",
      "fibonacci(-171)를 구합니다.\n",
      "fibonacci(-172)를 구합니다.\n",
      "fibonacci(-173)를 구합니다.\n",
      "fibonacci(-174)를 구합니다.\n",
      "fibonacci(-175)를 구합니다.\n",
      "fibonacci(-176)를 구합니다.\n",
      "fibonacci(-177)를 구합니다.\n",
      "fibonacci(-178)를 구합니다.\n",
      "fibonacci(-179)를 구합니다.\n",
      "fibonacci(-180)를 구합니다.\n",
      "fibonacci(-181)를 구합니다.\n",
      "fibonacci(-182)를 구합니다.\n",
      "fibonacci(-183)를 구합니다.\n",
      "fibonacci(-184)를 구합니다.\n",
      "fibonacci(-185)를 구합니다.\n",
      "fibonacci(-186)를 구합니다.\n",
      "fibonacci(-187)를 구합니다.\n",
      "fibonacci(-188)를 구합니다.\n",
      "fibonacci(-189)를 구합니다.\n",
      "fibonacci(-190)를 구합니다.\n",
      "fibonacci(-191)를 구합니다.\n",
      "fibonacci(-192)를 구합니다.\n",
      "fibonacci(-193)를 구합니다.\n",
      "fibonacci(-194)를 구합니다.\n",
      "fibonacci(-195)를 구합니다.\n",
      "fibonacci(-196)를 구합니다.\n",
      "fibonacci(-197)를 구합니다.\n",
      "fibonacci(-198)를 구합니다.\n",
      "fibonacci(-199)를 구합니다.\n",
      "fibonacci(-200)를 구합니다.\n",
      "fibonacci(-201)를 구합니다.\n",
      "fibonacci(-202)를 구합니다.\n",
      "fibonacci(-203)를 구합니다.\n",
      "fibonacci(-204)를 구합니다.\n",
      "fibonacci(-205)를 구합니다.\n",
      "fibonacci(-206)를 구합니다.\n",
      "fibonacci(-207)를 구합니다.\n",
      "fibonacci(-208)를 구합니다.\n",
      "fibonacci(-209)를 구합니다.\n",
      "fibonacci(-210)를 구합니다.\n",
      "fibonacci(-211)를 구합니다.\n",
      "fibonacci(-212)를 구합니다.\n",
      "fibonacci(-213)를 구합니다.\n",
      "fibonacci(-214)를 구합니다.\n",
      "fibonacci(-215)를 구합니다.\n",
      "fibonacci(-216)를 구합니다.\n",
      "fibonacci(-217)를 구합니다.\n",
      "fibonacci(-218)를 구합니다.\n",
      "fibonacci(-219)를 구합니다.\n",
      "fibonacci(-220)를 구합니다.\n",
      "fibonacci(-221)를 구합니다.\n",
      "fibonacci(-222)를 구합니다.\n",
      "fibonacci(-223)를 구합니다.\n",
      "fibonacci(-224)를 구합니다.\n",
      "fibonacci(-225)를 구합니다.\n",
      "fibonacci(-226)를 구합니다.\n",
      "fibonacci(-227)를 구합니다.\n",
      "fibonacci(-228)를 구합니다.\n",
      "fibonacci(-229)를 구합니다.\n",
      "fibonacci(-230)를 구합니다.\n",
      "fibonacci(-231)를 구합니다.\n",
      "fibonacci(-232)를 구합니다.\n",
      "fibonacci(-233)를 구합니다.\n",
      "fibonacci(-234)를 구합니다.\n",
      "fibonacci(-235)를 구합니다.\n",
      "fibonacci(-236)를 구합니다.\n",
      "fibonacci(-237)를 구합니다.\n",
      "fibonacci(-238)를 구합니다.\n",
      "fibonacci(-239)를 구합니다.\n",
      "fibonacci(-240)를 구합니다.\n",
      "fibonacci(-241)를 구합니다.\n",
      "fibonacci(-242)를 구합니다.\n",
      "fibonacci(-243)를 구합니다.\n",
      "fibonacci(-244)를 구합니다.\n",
      "fibonacci(-245)를 구합니다.\n",
      "fibonacci(-246)를 구합니다.\n",
      "fibonacci(-247)를 구합니다.\n",
      "fibonacci(-248)를 구합니다.\n",
      "fibonacci(-249)를 구합니다.\n",
      "fibonacci(-250)를 구합니다.\n",
      "fibonacci(-251)를 구합니다.\n",
      "fibonacci(-252)를 구합니다.\n",
      "fibonacci(-253)를 구합니다.\n",
      "fibonacci(-254)를 구합니다.\n",
      "fibonacci(-255)를 구합니다.\n",
      "fibonacci(-256)를 구합니다.\n",
      "fibonacci(-257)를 구합니다.\n",
      "fibonacci(-258)를 구합니다.\n",
      "fibonacci(-259)를 구합니다.\n",
      "fibonacci(-260)를 구합니다.\n",
      "fibonacci(-261)를 구합니다.\n",
      "fibonacci(-262)를 구합니다.\n",
      "fibonacci(-263)를 구합니다.\n",
      "fibonacci(-264)를 구합니다.\n",
      "fibonacci(-265)를 구합니다.\n",
      "fibonacci(-266)를 구합니다.\n",
      "fibonacci(-267)를 구합니다.\n",
      "fibonacci(-268)를 구합니다.\n",
      "fibonacci(-269)를 구합니다.\n",
      "fibonacci(-270)를 구합니다.\n",
      "fibonacci(-271)를 구합니다.\n",
      "fibonacci(-272)를 구합니다.\n",
      "fibonacci(-273)를 구합니다.\n",
      "fibonacci(-274)를 구합니다.\n",
      "fibonacci(-275)를 구합니다.\n",
      "fibonacci(-276)를 구합니다.\n",
      "fibonacci(-277)를 구합니다.\n",
      "fibonacci(-278)를 구합니다.\n",
      "fibonacci(-279)를 구합니다.\n",
      "fibonacci(-280)를 구합니다.\n",
      "fibonacci(-281)를 구합니다.\n",
      "fibonacci(-282)를 구합니다.\n",
      "fibonacci(-283)를 구합니다.\n",
      "fibonacci(-284)를 구합니다.\n",
      "fibonacci(-285)를 구합니다.\n",
      "fibonacci(-286)를 구합니다.\n",
      "fibonacci(-287)를 구합니다.\n",
      "fibonacci(-288)를 구합니다.\n",
      "fibonacci(-289)를 구합니다.\n",
      "fibonacci(-290)를 구합니다.\n",
      "fibonacci(-291)를 구합니다.\n",
      "fibonacci(-292)를 구합니다.\n",
      "fibonacci(-293)를 구합니다.\n",
      "fibonacci(-294)를 구합니다.\n",
      "fibonacci(-295)를 구합니다.\n",
      "fibonacci(-296)를 구합니다.\n",
      "fibonacci(-297)를 구합니다.\n",
      "fibonacci(-298)를 구합니다.\n",
      "fibonacci(-299)를 구합니다.\n",
      "fibonacci(-300)를 구합니다.\n",
      "fibonacci(-301)를 구합니다.\n",
      "fibonacci(-302)를 구합니다.\n",
      "fibonacci(-303)를 구합니다.\n",
      "fibonacci(-304)를 구합니다.\n",
      "fibonacci(-305)를 구합니다.\n",
      "fibonacci(-306)를 구합니다.\n",
      "fibonacci(-307)를 구합니다.\n",
      "fibonacci(-308)를 구합니다.\n",
      "fibonacci(-309)를 구합니다.\n",
      "fibonacci(-310)를 구합니다.\n",
      "fibonacci(-311)를 구합니다.\n",
      "fibonacci(-312)를 구합니다.\n",
      "fibonacci(-313)를 구합니다.\n",
      "fibonacci(-314)를 구합니다.\n",
      "fibonacci(-315)를 구합니다.\n",
      "fibonacci(-316)를 구합니다.\n",
      "fibonacci(-317)를 구합니다.\n",
      "fibonacci(-318)를 구합니다.\n",
      "fibonacci(-319)를 구합니다.\n",
      "fibonacci(-320)를 구합니다.\n",
      "fibonacci(-321)를 구합니다.\n",
      "fibonacci(-322)를 구합니다.\n",
      "fibonacci(-323)를 구합니다.\n",
      "fibonacci(-324)를 구합니다.\n",
      "fibonacci(-325)를 구합니다.\n",
      "fibonacci(-326)를 구합니다.\n",
      "fibonacci(-327)를 구합니다.\n",
      "fibonacci(-328)를 구합니다.\n",
      "fibonacci(-329)를 구합니다.\n",
      "fibonacci(-330)를 구합니다.\n",
      "fibonacci(-331)를 구합니다.\n",
      "fibonacci(-332)를 구합니다.\n",
      "fibonacci(-333)를 구합니다.\n",
      "fibonacci(-334)를 구합니다.\n",
      "fibonacci(-335)를 구합니다.\n",
      "fibonacci(-336)를 구합니다.\n",
      "fibonacci(-337)를 구합니다.\n",
      "fibonacci(-338)를 구합니다.\n",
      "fibonacci(-339)를 구합니다.\n",
      "fibonacci(-340)를 구합니다.\n",
      "fibonacci(-341)를 구합니다.\n",
      "fibonacci(-342)를 구합니다.\n",
      "fibonacci(-343)를 구합니다.\n",
      "fibonacci(-344)를 구합니다.\n",
      "fibonacci(-345)를 구합니다.\n",
      "fibonacci(-346)를 구합니다.\n",
      "fibonacci(-347)를 구합니다.\n",
      "fibonacci(-348)를 구합니다.\n",
      "fibonacci(-349)를 구합니다.\n",
      "fibonacci(-350)를 구합니다.\n",
      "fibonacci(-351)를 구합니다.\n",
      "fibonacci(-352)를 구합니다.\n",
      "fibonacci(-353)를 구합니다.\n",
      "fibonacci(-354)를 구합니다.\n",
      "fibonacci(-355)를 구합니다.\n",
      "fibonacci(-356)를 구합니다.\n",
      "fibonacci(-357)를 구합니다.\n",
      "fibonacci(-358)를 구합니다.\n",
      "fibonacci(-359)를 구합니다.\n",
      "fibonacci(-360)를 구합니다.\n",
      "fibonacci(-361)를 구합니다.\n",
      "fibonacci(-362)를 구합니다.\n",
      "fibonacci(-363)를 구합니다.\n",
      "fibonacci(-364)를 구합니다.\n",
      "fibonacci(-365)를 구합니다.\n",
      "fibonacci(-366)를 구합니다.\n",
      "fibonacci(-367)를 구합니다.\n",
      "fibonacci(-368)를 구합니다.\n",
      "fibonacci(-369)를 구합니다.\n",
      "fibonacci(-370)를 구합니다.\n",
      "fibonacci(-371)를 구합니다.\n",
      "fibonacci(-372)를 구합니다.\n",
      "fibonacci(-373)를 구합니다.\n",
      "fibonacci(-374)를 구합니다.\n",
      "fibonacci(-375)를 구합니다.\n",
      "fibonacci(-376)를 구합니다.\n",
      "fibonacci(-377)를 구합니다.\n",
      "fibonacci(-378)를 구합니다.\n",
      "fibonacci(-379)를 구합니다.\n",
      "fibonacci(-380)를 구합니다.\n",
      "fibonacci(-381)를 구합니다.\n",
      "fibonacci(-382)를 구합니다.\n",
      "fibonacci(-383)를 구합니다.\n",
      "fibonacci(-384)를 구합니다.\n",
      "fibonacci(-385)를 구합니다.\n",
      "fibonacci(-386)를 구합니다.\n",
      "fibonacci(-387)를 구합니다.\n",
      "fibonacci(-388)를 구합니다.\n",
      "fibonacci(-389)를 구합니다.\n",
      "fibonacci(-390)를 구합니다.\n",
      "fibonacci(-391)를 구합니다.\n",
      "fibonacci(-392)를 구합니다.\n",
      "fibonacci(-393)를 구합니다.\n",
      "fibonacci(-394)를 구합니다.\n",
      "fibonacci(-395)를 구합니다.\n",
      "fibonacci(-396)를 구합니다.\n",
      "fibonacci(-397)를 구합니다.\n",
      "fibonacci(-398)를 구합니다.\n",
      "fibonacci(-399)를 구합니다.\n",
      "fibonacci(-400)를 구합니다.\n",
      "fibonacci(-401)를 구합니다.\n",
      "fibonacci(-402)를 구합니다.\n",
      "fibonacci(-403)를 구합니다.\n",
      "fibonacci(-404)를 구합니다.\n",
      "fibonacci(-405)를 구합니다.\n",
      "fibonacci(-406)를 구합니다.\n",
      "fibonacci(-407)를 구합니다.\n",
      "fibonacci(-408)를 구합니다.\n",
      "fibonacci(-409)를 구합니다.\n",
      "fibonacci(-410)를 구합니다.\n",
      "fibonacci(-411)를 구합니다.\n",
      "fibonacci(-412)를 구합니다.\n",
      "fibonacci(-413)를 구합니다.\n",
      "fibonacci(-414)를 구합니다.\n",
      "fibonacci(-415)를 구합니다.\n",
      "fibonacci(-416)를 구합니다.\n",
      "fibonacci(-417)를 구합니다.\n",
      "fibonacci(-418)를 구합니다.\n",
      "fibonacci(-419)를 구합니다.\n",
      "fibonacci(-420)를 구합니다.\n",
      "fibonacci(-421)를 구합니다.\n",
      "fibonacci(-422)를 구합니다.\n",
      "fibonacci(-423)를 구합니다.\n",
      "fibonacci(-424)를 구합니다.\n",
      "fibonacci(-425)를 구합니다.\n",
      "fibonacci(-426)를 구합니다.\n",
      "fibonacci(-427)를 구합니다.\n",
      "fibonacci(-428)를 구합니다.\n",
      "fibonacci(-429)를 구합니다.\n",
      "fibonacci(-430)를 구합니다.\n",
      "fibonacci(-431)를 구합니다.\n",
      "fibonacci(-432)를 구합니다.\n",
      "fibonacci(-433)를 구합니다.\n",
      "fibonacci(-434)를 구합니다.\n",
      "fibonacci(-435)를 구합니다.\n",
      "fibonacci(-436)를 구합니다.\n",
      "fibonacci(-437)를 구합니다.\n",
      "fibonacci(-438)를 구합니다.\n",
      "fibonacci(-439)를 구합니다.\n",
      "fibonacci(-440)를 구합니다.\n",
      "fibonacci(-441)를 구합니다.\n",
      "fibonacci(-442)를 구합니다.\n",
      "fibonacci(-443)를 구합니다.\n",
      "fibonacci(-444)를 구합니다.\n",
      "fibonacci(-445)를 구합니다.\n",
      "fibonacci(-446)를 구합니다.\n",
      "fibonacci(-447)를 구합니다.\n",
      "fibonacci(-448)를 구합니다.\n",
      "fibonacci(-449)를 구합니다.\n",
      "fibonacci(-450)를 구합니다.\n",
      "fibonacci(-451)를 구합니다.\n",
      "fibonacci(-452)를 구합니다.\n",
      "fibonacci(-453)를 구합니다.\n",
      "fibonacci(-454)를 구합니다.\n",
      "fibonacci(-455)를 구합니다.\n",
      "fibonacci(-456)를 구합니다.\n",
      "fibonacci(-457)를 구합니다.\n",
      "fibonacci(-458)를 구합니다.\n",
      "fibonacci(-459)를 구합니다.\n",
      "fibonacci(-460)를 구합니다.\n",
      "fibonacci(-461)를 구합니다.\n",
      "fibonacci(-462)를 구합니다.\n",
      "fibonacci(-463)를 구합니다.\n",
      "fibonacci(-464)를 구합니다.\n",
      "fibonacci(-465)를 구합니다.\n",
      "fibonacci(-466)를 구합니다.\n",
      "fibonacci(-467)를 구합니다.\n",
      "fibonacci(-468)를 구합니다.\n",
      "fibonacci(-469)를 구합니다.\n",
      "fibonacci(-470)를 구합니다.\n",
      "fibonacci(-471)를 구합니다.\n",
      "fibonacci(-472)를 구합니다.\n",
      "fibonacci(-473)를 구합니다.\n",
      "fibonacci(-474)를 구합니다.\n",
      "fibonacci(-475)를 구합니다.\n",
      "fibonacci(-476)를 구합니다.\n",
      "fibonacci(-477)를 구합니다.\n",
      "fibonacci(-478)를 구합니다.\n",
      "fibonacci(-479)를 구합니다.\n",
      "fibonacci(-480)를 구합니다.\n",
      "fibonacci(-481)를 구합니다.\n",
      "fibonacci(-482)를 구합니다.\n",
      "fibonacci(-483)를 구합니다.\n",
      "fibonacci(-484)를 구합니다.\n",
      "fibonacci(-485)를 구합니다.\n",
      "fibonacci(-486)를 구합니다.\n",
      "fibonacci(-487)를 구합니다.\n",
      "fibonacci(-488)를 구합니다.\n",
      "fibonacci(-489)를 구합니다.\n",
      "fibonacci(-490)를 구합니다.\n",
      "fibonacci(-491)를 구합니다.\n",
      "fibonacci(-492)를 구합니다.\n",
      "fibonacci(-493)를 구합니다.\n",
      "fibonacci(-494)를 구합니다.\n",
      "fibonacci(-495)를 구합니다.\n",
      "fibonacci(-496)를 구합니다.\n",
      "fibonacci(-497)를 구합니다.\n",
      "fibonacci(-498)를 구합니다.\n",
      "fibonacci(-499)를 구합니다.\n",
      "fibonacci(-500)를 구합니다.\n",
      "fibonacci(-501)를 구합니다.\n",
      "fibonacci(-502)를 구합니다.\n",
      "fibonacci(-503)를 구합니다.\n",
      "fibonacci(-504)를 구합니다.\n",
      "fibonacci(-505)를 구합니다.\n",
      "fibonacci(-506)를 구합니다.\n",
      "fibonacci(-507)를 구합니다.\n",
      "fibonacci(-508)를 구합니다.\n",
      "fibonacci(-509)를 구합니다.\n",
      "fibonacci(-510)를 구합니다.\n",
      "fibonacci(-511)를 구합니다.\n",
      "fibonacci(-512)를 구합니다.\n",
      "fibonacci(-513)를 구합니다.\n",
      "fibonacci(-514)를 구합니다.\n",
      "fibonacci(-515)를 구합니다.\n",
      "fibonacci(-516)를 구합니다.\n",
      "fibonacci(-517)를 구합니다.\n",
      "fibonacci(-518)를 구합니다.\n",
      "fibonacci(-519)를 구합니다.\n",
      "fibonacci(-520)를 구합니다.\n",
      "fibonacci(-521)를 구합니다.\n",
      "fibonacci(-522)를 구합니다.\n",
      "fibonacci(-523)를 구합니다.\n",
      "fibonacci(-524)를 구합니다.\n",
      "fibonacci(-525)를 구합니다.\n",
      "fibonacci(-526)를 구합니다.\n",
      "fibonacci(-527)를 구합니다.\n",
      "fibonacci(-528)를 구합니다.\n",
      "fibonacci(-529)를 구합니다.\n",
      "fibonacci(-530)를 구합니다.\n",
      "fibonacci(-531)를 구합니다.\n",
      "fibonacci(-532)를 구합니다.\n",
      "fibonacci(-533)를 구합니다.\n",
      "fibonacci(-534)를 구합니다.\n",
      "fibonacci(-535)를 구합니다.\n",
      "fibonacci(-536)를 구합니다.\n",
      "fibonacci(-537)를 구합니다.\n",
      "fibonacci(-538)를 구합니다.\n",
      "fibonacci(-539)를 구합니다.\n",
      "fibonacci(-540)를 구합니다.\n",
      "fibonacci(-541)를 구합니다.\n",
      "fibonacci(-542)를 구합니다.\n",
      "fibonacci(-543)를 구합니다.\n",
      "fibonacci(-544)를 구합니다.\n",
      "fibonacci(-545)를 구합니다.\n",
      "fibonacci(-546)를 구합니다.\n",
      "fibonacci(-547)를 구합니다.\n",
      "fibonacci(-548)를 구합니다.\n",
      "fibonacci(-549)를 구합니다.\n",
      "fibonacci(-550)를 구합니다.\n",
      "fibonacci(-551)를 구합니다.\n",
      "fibonacci(-552)를 구합니다.\n",
      "fibonacci(-553)를 구합니다.\n",
      "fibonacci(-554)를 구합니다.\n",
      "fibonacci(-555)를 구합니다.\n",
      "fibonacci(-556)를 구합니다.\n",
      "fibonacci(-557)를 구합니다.\n",
      "fibonacci(-558)를 구합니다.\n",
      "fibonacci(-559)를 구합니다.\n",
      "fibonacci(-560)를 구합니다.\n",
      "fibonacci(-561)를 구합니다.\n",
      "fibonacci(-562)를 구합니다.\n",
      "fibonacci(-563)를 구합니다.\n",
      "fibonacci(-564)를 구합니다.\n",
      "fibonacci(-565)를 구합니다.\n",
      "fibonacci(-566)를 구합니다.\n",
      "fibonacci(-567)를 구합니다.\n",
      "fibonacci(-568)를 구합니다.\n",
      "fibonacci(-569)를 구합니다.\n",
      "fibonacci(-570)를 구합니다.\n",
      "fibonacci(-571)를 구합니다.\n",
      "fibonacci(-572)를 구합니다.\n",
      "fibonacci(-573)를 구합니다.\n",
      "fibonacci(-574)를 구합니다.\n",
      "fibonacci(-575)를 구합니다.\n",
      "fibonacci(-576)를 구합니다.\n",
      "fibonacci(-577)를 구합니다.\n",
      "fibonacci(-578)를 구합니다.\n",
      "fibonacci(-579)를 구합니다.\n",
      "fibonacci(-580)를 구합니다.\n",
      "fibonacci(-581)를 구합니다.\n",
      "fibonacci(-582)를 구합니다.\n",
      "fibonacci(-583)를 구합니다.\n",
      "fibonacci(-584)를 구합니다.\n",
      "fibonacci(-585)를 구합니다.\n",
      "fibonacci(-586)를 구합니다.\n",
      "fibonacci(-587)를 구합니다.\n",
      "fibonacci(-588)를 구합니다.\n",
      "fibonacci(-589)를 구합니다.\n",
      "fibonacci(-590)를 구합니다.\n",
      "fibonacci(-591)를 구합니다.\n",
      "fibonacci(-592)를 구합니다.\n",
      "fibonacci(-593)를 구합니다.\n",
      "fibonacci(-594)를 구합니다.\n",
      "fibonacci(-595)를 구합니다.\n",
      "fibonacci(-596)를 구합니다.\n",
      "fibonacci(-597)를 구합니다.\n",
      "fibonacci(-598)를 구합니다.\n",
      "fibonacci(-599)를 구합니다.\n",
      "fibonacci(-600)를 구합니다.\n",
      "fibonacci(-601)를 구합니다.\n",
      "fibonacci(-602)를 구합니다.\n",
      "fibonacci(-603)를 구합니다.\n",
      "fibonacci(-604)를 구합니다.\n",
      "fibonacci(-605)를 구합니다.\n",
      "fibonacci(-606)를 구합니다.\n",
      "fibonacci(-607)를 구합니다.\n",
      "fibonacci(-608)를 구합니다.\n",
      "fibonacci(-609)를 구합니다.\n",
      "fibonacci(-610)를 구합니다.\n",
      "fibonacci(-611)를 구합니다.\n",
      "fibonacci(-612)를 구합니다.\n",
      "fibonacci(-613)를 구합니다.\n",
      "fibonacci(-614)를 구합니다.\n",
      "fibonacci(-615)를 구합니다.\n",
      "fibonacci(-616)를 구합니다.\n",
      "fibonacci(-617)를 구합니다.\n",
      "fibonacci(-618)를 구합니다.\n",
      "fibonacci(-619)를 구합니다.\n",
      "fibonacci(-620)를 구합니다.\n",
      "fibonacci(-621)를 구합니다.\n",
      "fibonacci(-622)를 구합니다.\n",
      "fibonacci(-623)를 구합니다.\n",
      "fibonacci(-624)를 구합니다.\n",
      "fibonacci(-625)를 구합니다.\n",
      "fibonacci(-626)를 구합니다.\n",
      "fibonacci(-627)를 구합니다.\n",
      "fibonacci(-628)를 구합니다.\n",
      "fibonacci(-629)를 구합니다.\n",
      "fibonacci(-630)를 구합니다.\n",
      "fibonacci(-631)를 구합니다.\n",
      "fibonacci(-632)를 구합니다.\n",
      "fibonacci(-633)를 구합니다.\n",
      "fibonacci(-634)를 구합니다.\n",
      "fibonacci(-635)를 구합니다.\n",
      "fibonacci(-636)를 구합니다.\n",
      "fibonacci(-637)를 구합니다.\n",
      "fibonacci(-638)를 구합니다.\n",
      "fibonacci(-639)를 구합니다.\n",
      "fibonacci(-640)를 구합니다.\n",
      "fibonacci(-641)를 구합니다.\n",
      "fibonacci(-642)를 구합니다.\n",
      "fibonacci(-643)를 구합니다.\n",
      "fibonacci(-644)를 구합니다.\n",
      "fibonacci(-645)를 구합니다.\n",
      "fibonacci(-646)를 구합니다.\n",
      "fibonacci(-647)를 구합니다.\n",
      "fibonacci(-648)를 구합니다.\n",
      "fibonacci(-649)를 구합니다.\n",
      "fibonacci(-650)를 구합니다.\n",
      "fibonacci(-651)를 구합니다.\n",
      "fibonacci(-652)를 구합니다.\n",
      "fibonacci(-653)를 구합니다.\n",
      "fibonacci(-654)를 구합니다.\n",
      "fibonacci(-655)를 구합니다.\n",
      "fibonacci(-656)를 구합니다.\n",
      "fibonacci(-657)를 구합니다.\n",
      "fibonacci(-658)를 구합니다.\n",
      "fibonacci(-659)를 구합니다.\n",
      "fibonacci(-660)를 구합니다.\n",
      "fibonacci(-661)를 구합니다.\n",
      "fibonacci(-662)를 구합니다.\n",
      "fibonacci(-663)를 구합니다.\n",
      "fibonacci(-664)를 구합니다.\n",
      "fibonacci(-665)를 구합니다.\n",
      "fibonacci(-666)를 구합니다.\n",
      "fibonacci(-667)를 구합니다.\n",
      "fibonacci(-668)를 구합니다.\n",
      "fibonacci(-669)를 구합니다.\n",
      "fibonacci(-670)를 구합니다.\n",
      "fibonacci(-671)를 구합니다.\n",
      "fibonacci(-672)를 구합니다.\n",
      "fibonacci(-673)를 구합니다.\n",
      "fibonacci(-674)를 구합니다.\n",
      "fibonacci(-675)를 구합니다.\n",
      "fibonacci(-676)를 구합니다.\n",
      "fibonacci(-677)를 구합니다.\n",
      "fibonacci(-678)를 구합니다.\n",
      "fibonacci(-679)를 구합니다.\n",
      "fibonacci(-680)를 구합니다.\n",
      "fibonacci(-681)를 구합니다.\n",
      "fibonacci(-682)를 구합니다.\n",
      "fibonacci(-683)를 구합니다.\n",
      "fibonacci(-684)를 구합니다.\n",
      "fibonacci(-685)를 구합니다.\n",
      "fibonacci(-686)를 구합니다.\n",
      "fibonacci(-687)를 구합니다.\n",
      "fibonacci(-688)를 구합니다.\n",
      "fibonacci(-689)를 구합니다.\n",
      "fibonacci(-690)를 구합니다.\n",
      "fibonacci(-691)를 구합니다.\n",
      "fibonacci(-692)를 구합니다.\n",
      "fibonacci(-693)를 구합니다.\n",
      "fibonacci(-694)를 구합니다.\n",
      "fibonacci(-695)를 구합니다.\n",
      "fibonacci(-696)를 구합니다.\n",
      "fibonacci(-697)를 구합니다.\n",
      "fibonacci(-698)를 구합니다.\n",
      "fibonacci(-699)를 구합니다.\n",
      "fibonacci(-700)를 구합니다.\n",
      "fibonacci(-701)를 구합니다.\n",
      "fibonacci(-702)를 구합니다.\n",
      "fibonacci(-703)를 구합니다.\n",
      "fibonacci(-704)를 구합니다.\n",
      "fibonacci(-705)를 구합니다.\n",
      "fibonacci(-706)를 구합니다.\n",
      "fibonacci(-707)를 구합니다.\n",
      "fibonacci(-708)를 구합니다.\n",
      "fibonacci(-709)를 구합니다.\n",
      "fibonacci(-710)를 구합니다.\n",
      "fibonacci(-711)를 구합니다.\n",
      "fibonacci(-712)를 구합니다.\n",
      "fibonacci(-713)를 구합니다.\n",
      "fibonacci(-714)를 구합니다.\n",
      "fibonacci(-715)를 구합니다.\n",
      "fibonacci(-716)를 구합니다.\n",
      "fibonacci(-717)를 구합니다.\n",
      "fibonacci(-718)를 구합니다.\n",
      "fibonacci(-719)를 구합니다.\n",
      "fibonacci(-720)를 구합니다.\n",
      "fibonacci(-721)를 구합니다.\n",
      "fibonacci(-722)를 구합니다.\n",
      "fibonacci(-723)를 구합니다.\n",
      "fibonacci(-724)를 구합니다.\n",
      "fibonacci(-725)를 구합니다.\n",
      "fibonacci(-726)를 구합니다.\n",
      "fibonacci(-727)를 구합니다.\n",
      "fibonacci(-728)를 구합니다.\n",
      "fibonacci(-729)를 구합니다.\n",
      "fibonacci(-730)를 구합니다.\n",
      "fibonacci(-731)를 구합니다.\n",
      "fibonacci(-732)를 구합니다.\n",
      "fibonacci(-733)를 구합니다.\n",
      "fibonacci(-734)를 구합니다.\n",
      "fibonacci(-735)를 구합니다.\n",
      "fibonacci(-736)를 구합니다.\n",
      "fibonacci(-737)를 구합니다.\n",
      "fibonacci(-738)를 구합니다.\n",
      "fibonacci(-739)를 구합니다.\n",
      "fibonacci(-740)를 구합니다.\n",
      "fibonacci(-741)를 구합니다.\n",
      "fibonacci(-742)를 구합니다.\n",
      "fibonacci(-743)를 구합니다.\n",
      "fibonacci(-744)를 구합니다.\n",
      "fibonacci(-745)를 구합니다.\n",
      "fibonacci(-746)를 구합니다.\n",
      "fibonacci(-747)를 구합니다.\n",
      "fibonacci(-748)를 구합니다.\n",
      "fibonacci(-749)를 구합니다.\n",
      "fibonacci(-750)를 구합니다.\n",
      "fibonacci(-751)를 구합니다.\n",
      "fibonacci(-752)를 구합니다.\n",
      "fibonacci(-753)를 구합니다.\n",
      "fibonacci(-754)를 구합니다.\n",
      "fibonacci(-755)를 구합니다.\n",
      "fibonacci(-756)를 구합니다.\n",
      "fibonacci(-757)를 구합니다.\n",
      "fibonacci(-758)를 구합니다.\n",
      "fibonacci(-759)를 구합니다.\n",
      "fibonacci(-760)를 구합니다.\n",
      "fibonacci(-761)를 구합니다.\n",
      "fibonacci(-762)를 구합니다.\n",
      "fibonacci(-763)를 구합니다.\n",
      "fibonacci(-764)를 구합니다.\n",
      "fibonacci(-765)를 구합니다.\n",
      "fibonacci(-766)를 구합니다.\n",
      "fibonacci(-767)를 구합니다.\n",
      "fibonacci(-768)를 구합니다.\n",
      "fibonacci(-769)를 구합니다.\n",
      "fibonacci(-770)를 구합니다.\n",
      "fibonacci(-771)를 구합니다.\n",
      "fibonacci(-772)를 구합니다.\n",
      "fibonacci(-773)를 구합니다.\n",
      "fibonacci(-774)를 구합니다.\n",
      "fibonacci(-775)를 구합니다.\n",
      "fibonacci(-776)를 구합니다.\n",
      "fibonacci(-777)를 구합니다.\n",
      "fibonacci(-778)를 구합니다.\n",
      "fibonacci(-779)를 구합니다.\n",
      "fibonacci(-780)를 구합니다.\n",
      "fibonacci(-781)를 구합니다.\n",
      "fibonacci(-782)를 구합니다.\n",
      "fibonacci(-783)를 구합니다.\n",
      "fibonacci(-784)를 구합니다.\n",
      "fibonacci(-785)를 구합니다.\n",
      "fibonacci(-786)를 구합니다.\n",
      "fibonacci(-787)를 구합니다.\n",
      "fibonacci(-788)를 구합니다.\n",
      "fibonacci(-789)를 구합니다.\n",
      "fibonacci(-790)를 구합니다.\n",
      "fibonacci(-791)를 구합니다.\n",
      "fibonacci(-792)를 구합니다.\n",
      "fibonacci(-793)를 구합니다.\n",
      "fibonacci(-794)를 구합니다.\n",
      "fibonacci(-795)를 구합니다.\n",
      "fibonacci(-796)를 구합니다.\n",
      "fibonacci(-797)를 구합니다.\n",
      "fibonacci(-798)를 구합니다.\n",
      "fibonacci(-799)를 구합니다.\n",
      "fibonacci(-800)를 구합니다.\n",
      "fibonacci(-801)를 구합니다.\n",
      "fibonacci(-802)를 구합니다.\n",
      "fibonacci(-803)를 구합니다.\n",
      "fibonacci(-804)를 구합니다.\n",
      "fibonacci(-805)를 구합니다.\n",
      "fibonacci(-806)를 구합니다.\n",
      "fibonacci(-807)를 구합니다.\n",
      "fibonacci(-808)를 구합니다.\n",
      "fibonacci(-809)를 구합니다.\n",
      "fibonacci(-810)를 구합니다.\n",
      "fibonacci(-811)를 구합니다.\n",
      "fibonacci(-812)를 구합니다.\n",
      "fibonacci(-813)를 구합니다.\n",
      "fibonacci(-814)를 구합니다.\n",
      "fibonacci(-815)를 구합니다.\n",
      "fibonacci(-816)를 구합니다.\n",
      "fibonacci(-817)를 구합니다.\n",
      "fibonacci(-818)를 구합니다.\n",
      "fibonacci(-819)를 구합니다.\n",
      "fibonacci(-820)를 구합니다.\n",
      "fibonacci(-821)를 구합니다.\n",
      "fibonacci(-822)를 구합니다.\n",
      "fibonacci(-823)를 구합니다.\n",
      "fibonacci(-824)를 구합니다.\n",
      "fibonacci(-825)를 구합니다.\n",
      "fibonacci(-826)를 구합니다.\n",
      "fibonacci(-827)를 구합니다.\n",
      "fibonacci(-828)를 구합니다.\n",
      "fibonacci(-829)를 구합니다.\n",
      "fibonacci(-830)를 구합니다.\n",
      "fibonacci(-831)를 구합니다.\n",
      "fibonacci(-832)를 구합니다.\n",
      "fibonacci(-833)를 구합니다.\n",
      "fibonacci(-834)를 구합니다.\n",
      "fibonacci(-835)를 구합니다.\n",
      "fibonacci(-836)를 구합니다.\n",
      "fibonacci(-837)를 구합니다.\n",
      "fibonacci(-838)를 구합니다.\n",
      "fibonacci(-839)를 구합니다.\n",
      "fibonacci(-840)를 구합니다.\n",
      "fibonacci(-841)를 구합니다.\n",
      "fibonacci(-842)를 구합니다.\n",
      "fibonacci(-843)를 구합니다.\n",
      "fibonacci(-844)를 구합니다.\n",
      "fibonacci(-845)를 구합니다.\n",
      "fibonacci(-846)를 구합니다.\n",
      "fibonacci(-847)를 구합니다.\n",
      "fibonacci(-848)를 구합니다.\n",
      "fibonacci(-849)를 구합니다.\n",
      "fibonacci(-850)를 구합니다.\n",
      "fibonacci(-851)를 구합니다.\n",
      "fibonacci(-852)를 구합니다.\n",
      "fibonacci(-853)를 구합니다.\n",
      "fibonacci(-854)를 구합니다.\n",
      "fibonacci(-855)를 구합니다.\n",
      "fibonacci(-856)를 구합니다.\n",
      "fibonacci(-857)를 구합니다.\n",
      "fibonacci(-858)를 구합니다.\n",
      "fibonacci(-859)를 구합니다.\n",
      "fibonacci(-860)를 구합니다.\n",
      "fibonacci(-861)를 구합니다.\n",
      "fibonacci(-862)를 구합니다.\n",
      "fibonacci(-863)를 구합니다.\n",
      "fibonacci(-864)를 구합니다.\n",
      "fibonacci(-865)를 구합니다.\n",
      "fibonacci(-866)를 구합니다.\n",
      "fibonacci(-867)를 구합니다.\n",
      "fibonacci(-868)를 구합니다.\n",
      "fibonacci(-869)를 구합니다.\n",
      "fibonacci(-870)를 구합니다.\n",
      "fibonacci(-871)를 구합니다.\n",
      "fibonacci(-872)를 구합니다.\n",
      "fibonacci(-873)를 구합니다.\n",
      "fibonacci(-874)를 구합니다.\n",
      "fibonacci(-875)를 구합니다.\n",
      "fibonacci(-876)를 구합니다.\n",
      "fibonacci(-877)를 구합니다.\n",
      "fibonacci(-878)를 구합니다.\n",
      "fibonacci(-879)를 구합니다.\n",
      "fibonacci(-880)를 구합니다.\n",
      "fibonacci(-881)를 구합니다.\n",
      "fibonacci(-882)를 구합니다.\n",
      "fibonacci(-883)를 구합니다.\n",
      "fibonacci(-884)를 구합니다.\n",
      "fibonacci(-885)를 구합니다.\n",
      "fibonacci(-886)를 구합니다.\n",
      "fibonacci(-887)를 구합니다.\n",
      "fibonacci(-888)를 구합니다.\n",
      "fibonacci(-889)를 구합니다.\n",
      "fibonacci(-890)를 구합니다.\n",
      "fibonacci(-891)를 구합니다.\n",
      "fibonacci(-892)를 구합니다.\n",
      "fibonacci(-893)를 구합니다.\n",
      "fibonacci(-894)를 구합니다.\n",
      "fibonacci(-895)를 구합니다.\n",
      "fibonacci(-896)를 구합니다.\n",
      "fibonacci(-897)를 구합니다.\n",
      "fibonacci(-898)를 구합니다.\n",
      "fibonacci(-899)를 구합니다.\n",
      "fibonacci(-900)를 구합니다.\n",
      "fibonacci(-901)를 구합니다.\n",
      "fibonacci(-902)를 구합니다.\n",
      "fibonacci(-903)를 구합니다.\n",
      "fibonacci(-904)를 구합니다.\n",
      "fibonacci(-905)를 구합니다.\n",
      "fibonacci(-906)를 구합니다.\n",
      "fibonacci(-907)를 구합니다.\n",
      "fibonacci(-908)를 구합니다.\n",
      "fibonacci(-909)를 구합니다.\n",
      "fibonacci(-910)를 구합니다.\n",
      "fibonacci(-911)를 구합니다.\n",
      "fibonacci(-912)를 구합니다.\n",
      "fibonacci(-913)를 구합니다.\n",
      "fibonacci(-914)를 구합니다.\n",
      "fibonacci(-915)를 구합니다.\n",
      "fibonacci(-916)를 구합니다.\n",
      "fibonacci(-917)를 구합니다.\n",
      "fibonacci(-918)를 구합니다.\n",
      "fibonacci(-919)를 구합니다.\n",
      "fibonacci(-920)를 구합니다.\n",
      "fibonacci(-921)를 구합니다.\n",
      "fibonacci(-922)를 구합니다.\n",
      "fibonacci(-923)를 구합니다.\n",
      "fibonacci(-924)를 구합니다.\n",
      "fibonacci(-925)를 구합니다.\n",
      "fibonacci(-926)를 구합니다.\n",
      "fibonacci(-927)를 구합니다.\n",
      "fibonacci(-928)를 구합니다.\n",
      "fibonacci(-929)를 구합니다.\n",
      "fibonacci(-930)를 구합니다.\n",
      "fibonacci(-931)를 구합니다.\n",
      "fibonacci(-932)를 구합니다.\n",
      "fibonacci(-933)를 구합니다.\n",
      "fibonacci(-934)를 구합니다.\n",
      "fibonacci(-935)를 구합니다.\n",
      "fibonacci(-936)를 구합니다.\n",
      "fibonacci(-937)를 구합니다.\n",
      "fibonacci(-938)를 구합니다.\n",
      "fibonacci(-939)를 구합니다.\n",
      "fibonacci(-940)를 구합니다.\n",
      "fibonacci(-941)를 구합니다.\n",
      "fibonacci(-942)를 구합니다.\n",
      "fibonacci(-943)를 구합니다.\n",
      "fibonacci(-944)를 구합니다.\n",
      "fibonacci(-945)를 구합니다.\n",
      "fibonacci(-946)를 구합니다.\n",
      "fibonacci(-947)를 구합니다.\n",
      "fibonacci(-948)를 구합니다.\n",
      "fibonacci(-949)를 구합니다.\n",
      "fibonacci(-950)를 구합니다.\n",
      "fibonacci(-951)를 구합니다.\n",
      "fibonacci(-952)를 구합니다.\n",
      "fibonacci(-953)를 구합니다.\n",
      "fibonacci(-954)를 구합니다.\n",
      "fibonacci(-955)를 구합니다.\n",
      "fibonacci(-956)를 구합니다.\n",
      "fibonacci(-957)를 구합니다.\n",
      "fibonacci(-958)를 구합니다.\n",
      "fibonacci(-959)를 구합니다.\n",
      "fibonacci(-960)를 구합니다.\n",
      "fibonacci(-961)를 구합니다.\n",
      "fibonacci(-962)를 구합니다.\n",
      "fibonacci(-963)를 구합니다.\n",
      "fibonacci(-964)를 구합니다.\n",
      "fibonacci(-965)를 구합니다.\n",
      "fibonacci(-966)를 구합니다.\n",
      "fibonacci(-967)를 구합니다.\n",
      "fibonacci(-968)를 구합니다.\n",
      "fibonacci(-969)를 구합니다.\n",
      "fibonacci(-970)를 구합니다.\n",
      "fibonacci(-971)를 구합니다.\n",
      "fibonacci(-972)를 구합니다.\n",
      "fibonacci(-973)를 구합니다.\n",
      "fibonacci(-974)를 구합니다.\n",
      "fibonacci(-975)를 구합니다.\n",
      "fibonacci(-976)를 구합니다.\n",
      "fibonacci(-977)를 구합니다.\n",
      "fibonacci(-978)를 구합니다.\n",
      "fibonacci(-979)를 구합니다.\n",
      "fibonacci(-980)를 구합니다.\n",
      "fibonacci(-981)를 구합니다.\n",
      "fibonacci(-982)를 구합니다.\n",
      "fibonacci(-983)를 구합니다.\n",
      "fibonacci(-984)를 구합니다.\n",
      "fibonacci(-985)를 구합니다.\n",
      "fibonacci(-986)를 구합니다.\n",
      "fibonacci(-987)를 구합니다.\n",
      "fibonacci(-988)를 구합니다.\n",
      "fibonacci(-989)를 구합니다.\n",
      "fibonacci(-990)를 구합니다.\n",
      "fibonacci(-991)를 구합니다.\n",
      "fibonacci(-992)를 구합니다.\n",
      "fibonacci(-993)를 구합니다.\n",
      "fibonacci(-994)를 구합니다.\n",
      "fibonacci(-995)를 구합니다.\n",
      "fibonacci(-996)를 구합니다.\n",
      "fibonacci(-997)를 구합니다.\n",
      "fibonacci(-998)를 구합니다.\n",
      "fibonacci(-999)를 구합니다.\n",
      "fibonacci(-1000)를 구합니다.\n",
      "fibonacci(-1001)를 구합니다.\n",
      "fibonacci(-1002)를 구합니다.\n",
      "fibonacci(-1003)를 구합니다.\n",
      "fibonacci(-1004)를 구합니다.\n",
      "fibonacci(-1005)를 구합니다.\n",
      "fibonacci(-1006)를 구합니다.\n",
      "fibonacci(-1007)를 구합니다.\n",
      "fibonacci(-1008)를 구합니다.\n",
      "fibonacci(-1009)를 구합니다.\n",
      "fibonacci(-1010)를 구합니다.\n",
      "fibonacci(-1011)를 구합니다.\n",
      "fibonacci(-1012)를 구합니다.\n",
      "fibonacci(-1013)를 구합니다.\n",
      "fibonacci(-1014)를 구합니다.\n",
      "fibonacci(-1015)를 구합니다.\n",
      "fibonacci(-1016)를 구합니다.\n",
      "fibonacci(-1017)를 구합니다.\n",
      "fibonacci(-1018)를 구합니다.\n",
      "fibonacci(-1019)를 구합니다.\n",
      "fibonacci(-1020)를 구합니다.\n",
      "fibonacci(-1021)를 구합니다.\n",
      "fibonacci(-1022)를 구합니다.\n",
      "fibonacci(-1023)를 구합니다.\n",
      "fibonacci(-1024)를 구합니다.\n",
      "fibonacci(-1025)를 구합니다.\n",
      "fibonacci(-1026)를 구합니다.\n",
      "fibonacci(-1027)를 구합니다.\n",
      "fibonacci(-1028)를 구합니다.\n",
      "fibonacci(-1029)를 구합니다.\n",
      "fibonacci(-1030)를 구합니다.\n",
      "fibonacci(-1031)를 구합니다.\n",
      "fibonacci(-1032)를 구합니다.\n",
      "fibonacci(-1033)를 구합니다.\n",
      "fibonacci(-1034)를 구합니다.\n",
      "fibonacci(-1035)를 구합니다.\n",
      "fibonacci(-1036)를 구합니다.\n",
      "fibonacci(-1037)를 구합니다.\n",
      "fibonacci(-1038)를 구합니다.\n",
      "fibonacci(-1039)를 구합니다.\n",
      "fibonacci(-1040)를 구합니다.\n",
      "fibonacci(-1041)를 구합니다.\n",
      "fibonacci(-1042)를 구합니다.\n",
      "fibonacci(-1043)를 구합니다.\n",
      "fibonacci(-1044)를 구합니다.\n",
      "fibonacci(-1045)를 구합니다.\n",
      "fibonacci(-1046)를 구합니다.\n",
      "fibonacci(-1047)를 구합니다.\n",
      "fibonacci(-1048)를 구합니다.\n",
      "fibonacci(-1049)를 구합니다.\n",
      "fibonacci(-1050)를 구합니다.\n",
      "fibonacci(-1051)를 구합니다.\n",
      "fibonacci(-1052)를 구합니다.\n",
      "fibonacci(-1053)를 구합니다.\n",
      "fibonacci(-1054)를 구합니다.\n",
      "fibonacci(-1055)를 구합니다.\n",
      "fibonacci(-1056)를 구합니다.\n",
      "fibonacci(-1057)를 구합니다.\n",
      "fibonacci(-1058)를 구합니다.\n",
      "fibonacci(-1059)를 구합니다.\n",
      "fibonacci(-1060)를 구합니다.\n",
      "fibonacci(-1061)를 구합니다.\n",
      "fibonacci(-1062)를 구합니다.\n",
      "fibonacci(-1063)를 구합니다.\n",
      "fibonacci(-1064)를 구합니다.\n",
      "fibonacci(-1065)를 구합니다.\n",
      "fibonacci(-1066)를 구합니다.\n",
      "fibonacci(-1067)를 구합니다.\n",
      "fibonacci(-1068)를 구합니다.\n",
      "fibonacci(-1069)를 구합니다.\n",
      "fibonacci(-1070)를 구합니다.\n",
      "fibonacci(-1071)를 구합니다.\n",
      "fibonacci(-1072)를 구합니다.\n",
      "fibonacci(-1073)를 구합니다.\n",
      "fibonacci(-1074)를 구합니다.\n",
      "fibonacci(-1075)를 구합니다.\n",
      "fibonacci(-1076)를 구합니다.\n",
      "fibonacci(-1077)를 구합니다.\n",
      "fibonacci(-1078)를 구합니다.\n",
      "fibonacci(-1079)를 구합니다.\n",
      "fibonacci(-1080)를 구합니다.\n",
      "fibonacci(-1081)를 구합니다.\n",
      "fibonacci(-1082)를 구합니다.\n",
      "fibonacci(-1083)를 구합니다.\n",
      "fibonacci(-1084)를 구합니다.\n",
      "fibonacci(-1085)를 구합니다.\n",
      "fibonacci(-1086)를 구합니다.\n",
      "fibonacci(-1087)를 구합니다.\n",
      "fibonacci(-1088)를 구합니다.\n",
      "fibonacci(-1089)를 구합니다.\n",
      "fibonacci(-1090)를 구합니다.\n",
      "fibonacci(-1091)를 구합니다.\n",
      "fibonacci(-1092)를 구합니다.\n",
      "fibonacci(-1093)를 구합니다.\n",
      "fibonacci(-1094)를 구합니다.\n",
      "fibonacci(-1095)를 구합니다.\n",
      "fibonacci(-1096)를 구합니다.\n",
      "fibonacci(-1097)를 구합니다.\n",
      "fibonacci(-1098)를 구합니다.\n",
      "fibonacci(-1099)를 구합니다.\n",
      "fibonacci(-1100)를 구합니다.\n",
      "fibonacci(-1101)를 구합니다.\n",
      "fibonacci(-1102)를 구합니다.\n",
      "fibonacci(-1103)를 구합니다.\n",
      "fibonacci(-1104)를 구합니다.\n",
      "fibonacci(-1105)를 구합니다.\n",
      "fibonacci(-1106)를 구합니다.\n",
      "fibonacci(-1107)를 구합니다.\n",
      "fibonacci(-1108)를 구합니다.\n",
      "fibonacci(-1109)를 구합니다.\n",
      "fibonacci(-1110)를 구합니다.\n",
      "fibonacci(-1111)를 구합니다.\n",
      "fibonacci(-1112)를 구합니다.\n",
      "fibonacci(-1113)를 구합니다.\n",
      "fibonacci(-1114)를 구합니다.\n",
      "fibonacci(-1115)를 구합니다.\n",
      "fibonacci(-1116)를 구합니다.\n",
      "fibonacci(-1117)를 구합니다.\n",
      "fibonacci(-1118)를 구합니다.\n",
      "fibonacci(-1119)를 구합니다.\n",
      "fibonacci(-1120)를 구합니다.\n",
      "fibonacci(-1121)를 구합니다.\n",
      "fibonacci(-1122)를 구합니다.\n",
      "fibonacci(-1123)를 구합니다.\n",
      "fibonacci(-1124)를 구합니다.\n",
      "fibonacci(-1125)를 구합니다.\n",
      "fibonacci(-1126)를 구합니다.\n",
      "fibonacci(-1127)를 구합니다.\n",
      "fibonacci(-1128)를 구합니다.\n",
      "fibonacci(-1129)를 구합니다.\n",
      "fibonacci(-1130)를 구합니다.\n",
      "fibonacci(-1131)를 구합니다.\n",
      "fibonacci(-1132)를 구합니다.\n",
      "fibonacci(-1133)를 구합니다.\n",
      "fibonacci(-1134)를 구합니다.\n",
      "fibonacci(-1135)를 구합니다.\n",
      "fibonacci(-1136)를 구합니다.\n",
      "fibonacci(-1137)를 구합니다.\n",
      "fibonacci(-1138)를 구합니다.\n",
      "fibonacci(-1139)를 구합니다.\n",
      "fibonacci(-1140)를 구합니다.\n",
      "fibonacci(-1141)를 구합니다.\n",
      "fibonacci(-1142)를 구합니다.\n",
      "fibonacci(-1143)를 구합니다.\n",
      "fibonacci(-1144)를 구합니다.\n",
      "fibonacci(-1145)를 구합니다.\n",
      "fibonacci(-1146)를 구합니다.\n",
      "fibonacci(-1147)를 구합니다.\n",
      "fibonacci(-1148)를 구합니다.\n",
      "fibonacci(-1149)를 구합니다.\n",
      "fibonacci(-1150)를 구합니다.\n",
      "fibonacci(-1151)를 구합니다.\n",
      "fibonacci(-1152)를 구합니다.\n",
      "fibonacci(-1153)를 구합니다.\n",
      "fibonacci(-1154)를 구합니다.\n",
      "fibonacci(-1155)를 구합니다.\n",
      "fibonacci(-1156)를 구합니다.\n",
      "fibonacci(-1157)를 구합니다.\n",
      "fibonacci(-1158)를 구합니다.\n",
      "fibonacci(-1159)를 구합니다.\n",
      "fibonacci(-1160)를 구합니다.\n",
      "fibonacci(-1161)를 구합니다.\n",
      "fibonacci(-1162)를 구합니다.\n",
      "fibonacci(-1163)를 구합니다.\n",
      "fibonacci(-1164)를 구합니다.\n",
      "fibonacci(-1165)를 구합니다.\n",
      "fibonacci(-1166)를 구합니다.\n",
      "fibonacci(-1167)를 구합니다.\n",
      "fibonacci(-1168)를 구합니다.\n",
      "fibonacci(-1169)를 구합니다.\n",
      "fibonacci(-1170)를 구합니다.\n",
      "fibonacci(-1171)를 구합니다.\n",
      "fibonacci(-1172)를 구합니다.\n",
      "fibonacci(-1173)를 구합니다.\n",
      "fibonacci(-1174)를 구합니다.\n",
      "fibonacci(-1175)를 구합니다.\n",
      "fibonacci(-1176)를 구합니다.\n",
      "fibonacci(-1177)를 구합니다.\n",
      "fibonacci(-1178)를 구합니다.\n",
      "fibonacci(-1179)를 구합니다.\n",
      "fibonacci(-1180)를 구합니다.\n",
      "fibonacci(-1181)를 구합니다.\n",
      "fibonacci(-1182)를 구합니다.\n",
      "fibonacci(-1183)를 구합니다.\n",
      "fibonacci(-1184)를 구합니다.\n",
      "fibonacci(-1185)를 구합니다.\n",
      "fibonacci(-1186)를 구합니다.\n",
      "fibonacci(-1187)를 구합니다.\n",
      "fibonacci(-1188)를 구합니다.\n",
      "fibonacci(-1189)를 구합니다.\n",
      "fibonacci(-1190)를 구합니다.\n",
      "fibonacci(-1191)를 구합니다.\n",
      "fibonacci(-1192)를 구합니다.\n",
      "fibonacci(-1193)를 구합니다.\n",
      "fibonacci(-1194)를 구합니다.\n",
      "fibonacci(-1195)를 구합니다.\n",
      "fibonacci(-1196)를 구합니다.\n",
      "fibonacci(-1197)를 구합니다.\n",
      "fibonacci(-1198)를 구합니다.\n",
      "fibonacci(-1199)를 구합니다.\n",
      "fibonacci(-1200)를 구합니다.\n",
      "fibonacci(-1201)를 구합니다.\n",
      "fibonacci(-1202)를 구합니다.\n",
      "fibonacci(-1203)를 구합니다.\n",
      "fibonacci(-1204)를 구합니다.\n",
      "fibonacci(-1205)를 구합니다.\n",
      "fibonacci(-1206)를 구합니다.\n",
      "fibonacci(-1207)를 구합니다.\n",
      "fibonacci(-1208)를 구합니다.\n",
      "fibonacci(-1209)를 구합니다.\n",
      "fibonacci(-1210)를 구합니다.\n",
      "fibonacci(-1211)를 구합니다.\n",
      "fibonacci(-1212)를 구합니다.\n",
      "fibonacci(-1213)를 구합니다.\n",
      "fibonacci(-1214)를 구합니다.\n",
      "fibonacci(-1215)를 구합니다.\n",
      "fibonacci(-1216)를 구합니다.\n",
      "fibonacci(-1217)를 구합니다.\n",
      "fibonacci(-1218)를 구합니다.\n",
      "fibonacci(-1219)를 구합니다.\n",
      "fibonacci(-1220)를 구합니다.\n",
      "fibonacci(-1221)를 구합니다.\n",
      "fibonacci(-1222)를 구합니다.\n",
      "fibonacci(-1223)를 구합니다.\n",
      "fibonacci(-1224)를 구합니다.\n",
      "fibonacci(-1225)를 구합니다.\n",
      "fibonacci(-1226)를 구합니다.\n",
      "fibonacci(-1227)를 구합니다.\n",
      "fibonacci(-1228)를 구합니다.\n",
      "fibonacci(-1229)를 구합니다.\n",
      "fibonacci(-1230)를 구합니다.\n",
      "fibonacci(-1231)를 구합니다.\n",
      "fibonacci(-1232)를 구합니다.\n",
      "fibonacci(-1233)를 구합니다.\n",
      "fibonacci(-1234)를 구합니다.\n",
      "fibonacci(-1235)를 구합니다.\n",
      "fibonacci(-1236)를 구합니다.\n",
      "fibonacci(-1237)를 구합니다.\n",
      "fibonacci(-1238)를 구합니다.\n",
      "fibonacci(-1239)를 구합니다.\n",
      "fibonacci(-1240)를 구합니다.\n",
      "fibonacci(-1241)를 구합니다.\n",
      "fibonacci(-1242)를 구합니다.\n",
      "fibonacci(-1243)를 구합니다.\n",
      "fibonacci(-1244)를 구합니다.\n",
      "fibonacci(-1245)를 구합니다.\n",
      "fibonacci(-1246)를 구합니다.\n",
      "fibonacci(-1247)를 구합니다.\n",
      "fibonacci(-1248)를 구합니다.\n",
      "fibonacci(-1249)를 구합니다.\n",
      "fibonacci(-1250)를 구합니다.\n",
      "fibonacci(-1251)를 구합니다.\n",
      "fibonacci(-1252)를 구합니다.\n",
      "fibonacci(-1253)를 구합니다.\n",
      "fibonacci(-1254)를 구합니다.\n",
      "fibonacci(-1255)를 구합니다.\n",
      "fibonacci(-1256)를 구합니다.\n",
      "fibonacci(-1257)를 구합니다.\n",
      "fibonacci(-1258)를 구합니다.\n",
      "fibonacci(-1259)를 구합니다.\n",
      "fibonacci(-1260)를 구합니다.\n",
      "fibonacci(-1261)를 구합니다.\n",
      "fibonacci(-1262)를 구합니다.\n",
      "fibonacci(-1263)를 구합니다.\n",
      "fibonacci(-1264)를 구합니다.\n",
      "fibonacci(-1265)를 구합니다.\n",
      "fibonacci(-1266)를 구합니다.\n",
      "fibonacci(-1267)를 구합니다.\n",
      "fibonacci(-1268)를 구합니다.\n",
      "fibonacci(-1269)를 구합니다.\n",
      "fibonacci(-1270)를 구합니다.\n",
      "fibonacci(-1271)를 구합니다.\n",
      "fibonacci(-1272)를 구합니다.\n",
      "fibonacci(-1273)를 구합니다.\n",
      "fibonacci(-1274)를 구합니다.\n",
      "fibonacci(-1275)를 구합니다.\n",
      "fibonacci(-1276)를 구합니다.\n",
      "fibonacci(-1277)를 구합니다.\n",
      "fibonacci(-1278)를 구합니다.\n",
      "fibonacci(-1279)를 구합니다.\n",
      "fibonacci(-1280)를 구합니다.\n",
      "fibonacci(-1281)를 구합니다.\n",
      "fibonacci(-1282)를 구합니다.\n",
      "fibonacci(-1283)를 구합니다.\n",
      "fibonacci(-1284)를 구합니다.\n",
      "fibonacci(-1285)를 구합니다.\n",
      "fibonacci(-1286)를 구합니다.\n",
      "fibonacci(-1287)를 구합니다.\n",
      "fibonacci(-1288)를 구합니다.\n",
      "fibonacci(-1289)를 구합니다.\n",
      "fibonacci(-1290)를 구합니다.\n",
      "fibonacci(-1291)를 구합니다.\n",
      "fibonacci(-1292)를 구합니다.\n",
      "fibonacci(-1293)를 구합니다.\n",
      "fibonacci(-1294)를 구합니다.\n",
      "fibonacci(-1295)를 구합니다.\n",
      "fibonacci(-1296)를 구합니다.\n",
      "fibonacci(-1297)를 구합니다.\n",
      "fibonacci(-1298)를 구합니다.\n",
      "fibonacci(-1299)를 구합니다.\n",
      "fibonacci(-1300)를 구합니다.\n",
      "fibonacci(-1301)를 구합니다.\n",
      "fibonacci(-1302)를 구합니다.\n",
      "fibonacci(-1303)를 구합니다.\n",
      "fibonacci(-1304)를 구합니다.\n",
      "fibonacci(-1305)를 구합니다.\n",
      "fibonacci(-1306)를 구합니다.\n",
      "fibonacci(-1307)를 구합니다.\n",
      "fibonacci(-1308)를 구합니다.\n",
      "fibonacci(-1309)를 구합니다.\n",
      "fibonacci(-1310)를 구합니다.\n",
      "fibonacci(-1311)를 구합니다.\n",
      "fibonacci(-1312)를 구합니다.\n",
      "fibonacci(-1313)를 구합니다.\n",
      "fibonacci(-1314)를 구합니다.\n",
      "fibonacci(-1315)를 구합니다.\n",
      "fibonacci(-1316)를 구합니다.\n",
      "fibonacci(-1317)를 구합니다.\n",
      "fibonacci(-1318)를 구합니다.\n",
      "fibonacci(-1319)를 구합니다.\n",
      "fibonacci(-1320)를 구합니다.\n",
      "fibonacci(-1321)를 구합니다.\n",
      "fibonacci(-1322)를 구합니다.\n",
      "fibonacci(-1323)를 구합니다.\n",
      "fibonacci(-1324)를 구합니다.\n",
      "fibonacci(-1325)를 구합니다.\n",
      "fibonacci(-1326)를 구합니다.\n",
      "fibonacci(-1327)를 구합니다.\n",
      "fibonacci(-1328)를 구합니다.\n",
      "fibonacci(-1329)를 구합니다.\n",
      "fibonacci(-1330)를 구합니다.\n",
      "fibonacci(-1331)를 구합니다.\n",
      "fibonacci(-1332)를 구합니다.\n",
      "fibonacci(-1333)를 구합니다.\n",
      "fibonacci(-1334)를 구합니다.\n",
      "fibonacci(-1335)를 구합니다.\n",
      "fibonacci(-1336)를 구합니다.\n",
      "fibonacci(-1337)를 구합니다.\n",
      "fibonacci(-1338)를 구합니다.\n",
      "fibonacci(-1339)를 구합니다.\n",
      "fibonacci(-1340)를 구합니다.\n",
      "fibonacci(-1341)를 구합니다.\n",
      "fibonacci(-1342)를 구합니다.\n",
      "fibonacci(-1343)를 구합니다.\n",
      "fibonacci(-1344)를 구합니다.\n",
      "fibonacci(-1345)를 구합니다.\n",
      "fibonacci(-1346)를 구합니다.\n",
      "fibonacci(-1347)를 구합니다.\n",
      "fibonacci(-1348)를 구합니다.\n",
      "fibonacci(-1349)를 구합니다.\n",
      "fibonacci(-1350)를 구합니다.\n",
      "fibonacci(-1351)를 구합니다.\n",
      "fibonacci(-1352)를 구합니다.\n",
      "fibonacci(-1353)를 구합니다.\n",
      "fibonacci(-1354)를 구합니다.\n",
      "fibonacci(-1355)를 구합니다.\n",
      "fibonacci(-1356)를 구합니다.\n",
      "fibonacci(-1357)를 구합니다.\n",
      "fibonacci(-1358)를 구합니다.\n",
      "fibonacci(-1359)를 구합니다.\n",
      "fibonacci(-1360)를 구합니다.\n",
      "fibonacci(-1361)를 구합니다.\n",
      "fibonacci(-1362)를 구합니다.\n",
      "fibonacci(-1363)를 구합니다.\n",
      "fibonacci(-1364)를 구합니다.\n",
      "fibonacci(-1365)를 구합니다.\n",
      "fibonacci(-1366)를 구합니다.\n",
      "fibonacci(-1367)를 구합니다.\n",
      "fibonacci(-1368)를 구합니다.\n",
      "fibonacci(-1369)를 구합니다.\n",
      "fibonacci(-1370)를 구합니다.\n",
      "fibonacci(-1371)를 구합니다.\n",
      "fibonacci(-1372)를 구합니다.\n",
      "fibonacci(-1373)를 구합니다.\n",
      "fibonacci(-1374)를 구합니다.\n",
      "fibonacci(-1375)를 구합니다.\n",
      "fibonacci(-1376)를 구합니다.\n",
      "fibonacci(-1377)를 구합니다.\n",
      "fibonacci(-1378)를 구합니다.\n",
      "fibonacci(-1379)를 구합니다.\n",
      "fibonacci(-1380)를 구합니다.\n",
      "fibonacci(-1381)를 구합니다.\n",
      "fibonacci(-1382)를 구합니다.\n",
      "fibonacci(-1383)를 구합니다.\n",
      "fibonacci(-1384)를 구합니다.\n",
      "fibonacci(-1385)를 구합니다.\n",
      "fibonacci(-1386)를 구합니다.\n",
      "fibonacci(-1387)를 구합니다.\n",
      "fibonacci(-1388)를 구합니다.\n",
      "fibonacci(-1389)를 구합니다.\n",
      "fibonacci(-1390)를 구합니다.\n",
      "fibonacci(-1391)를 구합니다.\n",
      "fibonacci(-1392)를 구합니다.\n",
      "fibonacci(-1393)를 구합니다.\n",
      "fibonacci(-1394)를 구합니다.\n",
      "fibonacci(-1395)를 구합니다.\n",
      "fibonacci(-1396)를 구합니다.\n",
      "fibonacci(-1397)를 구합니다.\n",
      "fibonacci(-1398)를 구합니다.\n",
      "fibonacci(-1399)를 구합니다.\n",
      "fibonacci(-1400)를 구합니다.\n",
      "fibonacci(-1401)를 구합니다.\n",
      "fibonacci(-1402)를 구합니다.\n",
      "fibonacci(-1403)를 구합니다.\n",
      "fibonacci(-1404)를 구합니다.\n",
      "fibonacci(-1405)를 구합니다.\n",
      "fibonacci(-1406)를 구합니다.\n",
      "fibonacci(-1407)를 구합니다.\n",
      "fibonacci(-1408)를 구합니다.\n",
      "fibonacci(-1409)를 구합니다.\n",
      "fibonacci(-1410)를 구합니다.\n",
      "fibonacci(-1411)를 구합니다.\n",
      "fibonacci(-1412)를 구합니다.\n",
      "fibonacci(-1413)를 구합니다.\n",
      "fibonacci(-1414)를 구합니다.\n",
      "fibonacci(-1415)를 구합니다.\n",
      "fibonacci(-1416)를 구합니다.\n",
      "fibonacci(-1417)를 구합니다.\n",
      "fibonacci(-1418)를 구합니다.\n",
      "fibonacci(-1419)를 구합니다.\n",
      "fibonacci(-1420)를 구합니다.\n",
      "fibonacci(-1421)를 구합니다.\n",
      "fibonacci(-1422)를 구합니다.\n",
      "fibonacci(-1423)를 구합니다.\n",
      "fibonacci(-1424)를 구합니다.\n",
      "fibonacci(-1425)를 구합니다.\n",
      "fibonacci(-1426)를 구합니다.\n",
      "fibonacci(-1427)를 구합니다.\n",
      "fibonacci(-1428)를 구합니다.\n",
      "fibonacci(-1429)를 구합니다.\n",
      "fibonacci(-1430)를 구합니다.\n",
      "fibonacci(-1431)를 구합니다.\n",
      "fibonacci(-1432)를 구합니다.\n",
      "fibonacci(-1433)를 구합니다.\n",
      "fibonacci(-1434)를 구합니다.\n",
      "fibonacci(-1435)를 구합니다.\n",
      "fibonacci(-1436)를 구합니다.\n",
      "fibonacci(-1437)를 구합니다.\n",
      "fibonacci(-1438)를 구합니다.\n",
      "fibonacci(-1439)를 구합니다.\n",
      "fibonacci(-1440)를 구합니다.\n",
      "fibonacci(-1441)를 구합니다.\n",
      "fibonacci(-1442)를 구합니다.\n",
      "fibonacci(-1443)를 구합니다.\n",
      "fibonacci(-1444)를 구합니다.\n",
      "fibonacci(-1445)를 구합니다.\n",
      "fibonacci(-1446)를 구합니다.\n",
      "fibonacci(-1447)를 구합니다.\n",
      "fibonacci(-1448)를 구합니다.\n",
      "fibonacci(-1449)를 구합니다.\n",
      "fibonacci(-1450)를 구합니다.\n",
      "fibonacci(-1451)를 구합니다.\n",
      "fibonacci(-1452)를 구합니다.\n",
      "fibonacci(-1453)를 구합니다.\n",
      "fibonacci(-1454)를 구합니다.\n",
      "fibonacci(-1455)를 구합니다.\n",
      "fibonacci(-1456)를 구합니다.\n",
      "fibonacci(-1457)를 구합니다.\n",
      "fibonacci(-1458)를 구합니다.\n",
      "fibonacci(-1459)를 구합니다.\n",
      "fibonacci(-1460)를 구합니다.\n",
      "fibonacci(-1461)를 구합니다.\n",
      "fibonacci(-1462)를 구합니다.\n",
      "fibonacci(-1463)를 구합니다.\n",
      "fibonacci(-1464)를 구합니다.\n",
      "fibonacci(-1465)를 구합니다.\n",
      "fibonacci(-1466)를 구합니다.\n",
      "fibonacci(-1467)를 구합니다.\n",
      "fibonacci(-1468)를 구합니다.\n",
      "fibonacci(-1469)를 구합니다.\n",
      "fibonacci(-1470)를 구합니다.\n",
      "fibonacci(-1471)를 구합니다.\n",
      "fibonacci(-1472)를 구합니다.\n",
      "fibonacci(-1473)를 구합니다.\n",
      "fibonacci(-1474)를 구합니다.\n",
      "fibonacci(-1475)를 구합니다.\n",
      "fibonacci(-1476)를 구합니다.\n",
      "fibonacci(-1477)를 구합니다.\n",
      "fibonacci(-1478)를 구합니다.\n",
      "fibonacci(-1479)를 구합니다.\n",
      "fibonacci(-1480)를 구합니다.\n",
      "fibonacci(-1481)를 구합니다.\n",
      "fibonacci(-1482)를 구합니다.\n",
      "fibonacci(-1483)를 구합니다.\n",
      "fibonacci(-1484)를 구합니다.\n",
      "fibonacci(-1485)를 구합니다.\n",
      "fibonacci(-1486)를 구합니다.\n",
      "fibonacci(-1487)를 구합니다.\n",
      "fibonacci(-1488)를 구합니다.\n",
      "fibonacci(-1489)를 구합니다.\n",
      "fibonacci(-1490)를 구합니다.\n",
      "fibonacci(-1491)를 구합니다.\n",
      "fibonacci(-1492)를 구합니다.\n",
      "fibonacci(-1493)를 구합니다.\n",
      "fibonacci(-1494)를 구합니다.\n",
      "fibonacci(-1495)를 구합니다.\n",
      "fibonacci(-1496)를 구합니다.\n",
      "fibonacci(-1497)를 구합니다.\n",
      "fibonacci(-1498)를 구합니다.\n",
      "fibonacci(-1499)를 구합니다.\n",
      "fibonacci(-1500)를 구합니다.\n",
      "fibonacci(-1501)를 구합니다.\n",
      "fibonacci(-1502)를 구합니다.\n",
      "fibonacci(-1503)를 구합니다.\n",
      "fibonacci(-1504)를 구합니다.\n",
      "fibonacci(-1505)를 구합니다.\n",
      "fibonacci(-1506)를 구합니다.\n",
      "fibonacci(-1507)를 구합니다.\n",
      "fibonacci(-1508)를 구합니다.\n",
      "fibonacci(-1509)를 구합니다.\n",
      "fibonacci(-1510)를 구합니다.\n",
      "fibonacci(-1511)를 구합니다.\n",
      "fibonacci(-1512)를 구합니다.\n",
      "fibonacci(-1513)를 구합니다.\n",
      "fibonacci(-1514)를 구합니다.\n",
      "fibonacci(-1515)를 구합니다.\n",
      "fibonacci(-1516)를 구합니다.\n",
      "fibonacci(-1517)를 구합니다.\n",
      "fibonacci(-1518)를 구합니다.\n",
      "fibonacci(-1519)를 구합니다.\n",
      "fibonacci(-1520)를 구합니다.\n",
      "fibonacci(-1521)를 구합니다.\n",
      "fibonacci(-1522)를 구합니다.\n",
      "fibonacci(-1523)를 구합니다.\n",
      "fibonacci(-1524)를 구합니다.\n",
      "fibonacci(-1525)를 구합니다.\n",
      "fibonacci(-1526)를 구합니다.\n",
      "fibonacci(-1527)를 구합니다.\n",
      "fibonacci(-1528)를 구합니다.\n",
      "fibonacci(-1529)를 구합니다.\n",
      "fibonacci(-1530)를 구합니다.\n",
      "fibonacci(-1531)를 구합니다.\n",
      "fibonacci(-1532)를 구합니다.\n",
      "fibonacci(-1533)를 구합니다.\n",
      "fibonacci(-1534)를 구합니다.\n",
      "fibonacci(-1535)를 구합니다.\n",
      "fibonacci(-1536)를 구합니다.\n",
      "fibonacci(-1537)를 구합니다.\n",
      "fibonacci(-1538)를 구합니다.\n",
      "fibonacci(-1539)를 구합니다.\n",
      "fibonacci(-1540)를 구합니다.\n",
      "fibonacci(-1541)를 구합니다.\n",
      "fibonacci(-1542)를 구합니다.\n",
      "fibonacci(-1543)를 구합니다.\n",
      "fibonacci(-1544)를 구합니다.\n",
      "fibonacci(-1545)를 구합니다.\n",
      "fibonacci(-1546)를 구합니다.\n",
      "fibonacci(-1547)를 구합니다.\n",
      "fibonacci(-1548)를 구합니다.\n",
      "fibonacci(-1549)를 구합니다.\n",
      "fibonacci(-1550)를 구합니다.\n",
      "fibonacci(-1551)를 구합니다.\n",
      "fibonacci(-1552)를 구합니다.\n",
      "fibonacci(-1553)를 구합니다.\n",
      "fibonacci(-1554)를 구합니다.\n",
      "fibonacci(-1555)를 구합니다.\n",
      "fibonacci(-1556)를 구합니다.\n",
      "fibonacci(-1557)를 구합니다.\n",
      "fibonacci(-1558)를 구합니다.\n",
      "fibonacci(-1559)를 구합니다.\n",
      "fibonacci(-1560)를 구합니다.\n",
      "fibonacci(-1561)를 구합니다.\n",
      "fibonacci(-1562)를 구합니다.\n",
      "fibonacci(-1563)를 구합니다.\n",
      "fibonacci(-1564)를 구합니다.\n",
      "fibonacci(-1565)를 구합니다.\n",
      "fibonacci(-1566)를 구합니다.\n",
      "fibonacci(-1567)를 구합니다.\n",
      "fibonacci(-1568)를 구합니다.\n",
      "fibonacci(-1569)를 구합니다.\n",
      "fibonacci(-1570)를 구합니다.\n",
      "fibonacci(-1571)를 구합니다.\n",
      "fibonacci(-1572)를 구합니다.\n",
      "fibonacci(-1573)를 구합니다.\n",
      "fibonacci(-1574)를 구합니다.\n",
      "fibonacci(-1575)를 구합니다.\n",
      "fibonacci(-1576)를 구합니다.\n",
      "fibonacci(-1577)를 구합니다.\n",
      "fibonacci(-1578)를 구합니다.\n",
      "fibonacci(-1579)를 구합니다.\n",
      "fibonacci(-1580)를 구합니다.\n",
      "fibonacci(-1581)를 구합니다.\n",
      "fibonacci(-1582)를 구합니다.\n",
      "fibonacci(-1583)를 구합니다.\n",
      "fibonacci(-1584)를 구합니다.\n",
      "fibonacci(-1585)를 구합니다.\n",
      "fibonacci(-1586)를 구합니다.\n",
      "fibonacci(-1587)를 구합니다.\n",
      "fibonacci(-1588)를 구합니다.\n",
      "fibonacci(-1589)를 구합니다.\n",
      "fibonacci(-1590)를 구합니다.\n",
      "fibonacci(-1591)를 구합니다.\n",
      "fibonacci(-1592)를 구합니다.\n",
      "fibonacci(-1593)를 구합니다.\n",
      "fibonacci(-1594)를 구합니다.\n",
      "fibonacci(-1595)를 구합니다.\n",
      "fibonacci(-1596)를 구합니다.\n",
      "fibonacci(-1597)를 구합니다.\n",
      "fibonacci(-1598)를 구합니다.\n",
      "fibonacci(-1599)를 구합니다.\n",
      "fibonacci(-1600)를 구합니다.\n",
      "fibonacci(-1601)를 구합니다.\n",
      "fibonacci(-1602)를 구합니다.\n",
      "fibonacci(-1603)를 구합니다.\n",
      "fibonacci(-1604)를 구합니다.\n",
      "fibonacci(-1605)를 구합니다.\n",
      "fibonacci(-1606)를 구합니다.\n",
      "fibonacci(-1607)를 구합니다.\n",
      "fibonacci(-1608)를 구합니다.\n",
      "fibonacci(-1609)를 구합니다.\n",
      "fibonacci(-1610)를 구합니다.\n",
      "fibonacci(-1611)를 구합니다.\n",
      "fibonacci(-1612)를 구합니다.\n",
      "fibonacci(-1613)를 구합니다.\n",
      "fibonacci(-1614)를 구합니다.\n",
      "fibonacci(-1615)를 구합니다.\n",
      "fibonacci(-1616)를 구합니다.\n",
      "fibonacci(-1617)를 구합니다.\n",
      "fibonacci(-1618)를 구합니다.\n",
      "fibonacci(-1619)를 구합니다.\n",
      "fibonacci(-1620)를 구합니다.\n",
      "fibonacci(-1621)를 구합니다.\n",
      "fibonacci(-1622)를 구합니다.\n",
      "fibonacci(-1623)를 구합니다.\n",
      "fibonacci(-1624)를 구합니다.\n",
      "fibonacci(-1625)를 구합니다.\n",
      "fibonacci(-1626)를 구합니다.\n",
      "fibonacci(-1627)를 구합니다.\n",
      "fibonacci(-1628)를 구합니다.\n",
      "fibonacci(-1629)를 구합니다.\n",
      "fibonacci(-1630)를 구합니다.\n",
      "fibonacci(-1631)를 구합니다.\n",
      "fibonacci(-1632)를 구합니다.\n",
      "fibonacci(-1633)를 구합니다.\n",
      "fibonacci(-1634)를 구합니다.\n",
      "fibonacci(-1635)를 구합니다.\n",
      "fibonacci(-1636)를 구합니다.\n",
      "fibonacci(-1637)를 구합니다.\n",
      "fibonacci(-1638)를 구합니다.\n",
      "fibonacci(-1639)를 구합니다.\n",
      "fibonacci(-1640)를 구합니다.\n",
      "fibonacci(-1641)를 구합니다.\n",
      "fibonacci(-1642)를 구합니다.\n",
      "fibonacci(-1643)를 구합니다.\n",
      "fibonacci(-1644)를 구합니다.\n",
      "fibonacci(-1645)를 구합니다.\n",
      "fibonacci(-1646)를 구합니다.\n",
      "fibonacci(-1647)를 구합니다.\n",
      "fibonacci(-1648)를 구합니다.\n",
      "fibonacci(-1649)를 구합니다.\n",
      "fibonacci(-1650)를 구합니다.\n",
      "fibonacci(-1651)를 구합니다.\n",
      "fibonacci(-1652)를 구합니다.\n",
      "fibonacci(-1653)를 구합니다.\n",
      "fibonacci(-1654)를 구합니다.\n",
      "fibonacci(-1655)를 구합니다.\n",
      "fibonacci(-1656)를 구합니다.\n",
      "fibonacci(-1657)를 구합니다.\n",
      "fibonacci(-1658)를 구합니다.\n",
      "fibonacci(-1659)를 구합니다.\n",
      "fibonacci(-1660)를 구합니다.\n",
      "fibonacci(-1661)를 구합니다.\n",
      "fibonacci(-1662)를 구합니다.\n",
      "fibonacci(-1663)를 구합니다.\n",
      "fibonacci(-1664)를 구합니다.\n",
      "fibonacci(-1665)를 구합니다.\n",
      "fibonacci(-1666)를 구합니다.\n",
      "fibonacci(-1667)를 구합니다.\n",
      "fibonacci(-1668)를 구합니다.\n",
      "fibonacci(-1669)를 구합니다.\n",
      "fibonacci(-1670)를 구합니다.\n",
      "fibonacci(-1671)를 구합니다.\n",
      "fibonacci(-1672)를 구합니다.\n",
      "fibonacci(-1673)를 구합니다.\n",
      "fibonacci(-1674)를 구합니다.\n",
      "fibonacci(-1675)를 구합니다.\n",
      "fibonacci(-1676)를 구합니다.\n",
      "fibonacci(-1677)를 구합니다.\n",
      "fibonacci(-1678)를 구합니다.\n",
      "fibonacci(-1679)를 구합니다.\n",
      "fibonacci(-1680)를 구합니다.\n",
      "fibonacci(-1681)를 구합니다.\n",
      "fibonacci(-1682)를 구합니다.\n",
      "fibonacci(-1683)를 구합니다.\n",
      "fibonacci(-1684)를 구합니다.\n",
      "fibonacci(-1685)를 구합니다.\n",
      "fibonacci(-1686)를 구합니다.\n",
      "fibonacci(-1687)를 구합니다.\n",
      "fibonacci(-1688)를 구합니다.\n",
      "fibonacci(-1689)를 구합니다.\n",
      "fibonacci(-1690)를 구합니다.\n",
      "fibonacci(-1691)를 구합니다.\n",
      "fibonacci(-1692)를 구합니다.\n",
      "fibonacci(-1693)를 구합니다.\n",
      "fibonacci(-1694)를 구합니다.\n",
      "fibonacci(-1695)를 구합니다.\n",
      "fibonacci(-1696)를 구합니다.\n",
      "fibonacci(-1697)를 구합니다.\n",
      "fibonacci(-1698)를 구합니다.\n",
      "fibonacci(-1699)를 구합니다.\n",
      "fibonacci(-1700)를 구합니다.\n",
      "fibonacci(-1701)를 구합니다.\n",
      "fibonacci(-1702)를 구합니다.\n",
      "fibonacci(-1703)를 구합니다.\n",
      "fibonacci(-1704)를 구합니다.\n",
      "fibonacci(-1705)를 구합니다.\n",
      "fibonacci(-1706)를 구합니다.\n",
      "fibonacci(-1707)를 구합니다.\n",
      "fibonacci(-1708)를 구합니다.\n",
      "fibonacci(-1709)를 구합니다.\n",
      "fibonacci(-1710)를 구합니다.\n",
      "fibonacci(-1711)를 구합니다.\n",
      "fibonacci(-1712)를 구합니다.\n",
      "fibonacci(-1713)를 구합니다.\n",
      "fibonacci(-1714)를 구합니다.\n",
      "fibonacci(-1715)를 구합니다.\n",
      "fibonacci(-1716)를 구합니다.\n",
      "fibonacci(-1717)를 구합니다.\n",
      "fibonacci(-1718)를 구합니다.\n",
      "fibonacci(-1719)를 구합니다.\n",
      "fibonacci(-1720)를 구합니다.\n",
      "fibonacci(-1721)를 구합니다.\n",
      "fibonacci(-1722)를 구합니다.\n",
      "fibonacci(-1723)를 구합니다.\n",
      "fibonacci(-1724)를 구합니다.\n",
      "fibonacci(-1725)를 구합니다.\n",
      "fibonacci(-1726)를 구합니다.\n",
      "fibonacci(-1727)를 구합니다.\n",
      "fibonacci(-1728)를 구합니다.\n",
      "fibonacci(-1729)를 구합니다.\n",
      "fibonacci(-1730)를 구합니다.\n",
      "fibonacci(-1731)를 구합니다.\n",
      "fibonacci(-1732)를 구합니다.\n",
      "fibonacci(-1733)를 구합니다.\n",
      "fibonacci(-1734)를 구합니다.\n",
      "fibonacci(-1735)를 구합니다.\n",
      "fibonacci(-1736)를 구합니다.\n",
      "fibonacci(-1737)를 구합니다.\n",
      "fibonacci(-1738)를 구합니다.\n",
      "fibonacci(-1739)를 구합니다.\n",
      "fibonacci(-1740)를 구합니다.\n",
      "fibonacci(-1741)를 구합니다.\n",
      "fibonacci(-1742)를 구합니다.\n",
      "fibonacci(-1743)를 구합니다.\n",
      "fibonacci(-1744)를 구합니다.\n",
      "fibonacci(-1745)를 구합니다.\n",
      "fibonacci(-1746)를 구합니다.\n",
      "fibonacci(-1747)를 구합니다.\n",
      "fibonacci(-1748)를 구합니다.\n",
      "fibonacci(-1749)를 구합니다.\n",
      "fibonacci(-1750)를 구합니다.\n",
      "fibonacci(-1751)를 구합니다.\n",
      "fibonacci(-1752)를 구합니다.\n",
      "fibonacci(-1753)를 구합니다.\n",
      "fibonacci(-1754)를 구합니다.\n",
      "fibonacci(-1755)를 구합니다.\n",
      "fibonacci(-1756)를 구합니다.\n",
      "fibonacci(-1757)를 구합니다.\n",
      "fibonacci(-1758)를 구합니다.\n",
      "fibonacci(-1759)를 구합니다.\n",
      "fibonacci(-1760)를 구합니다.\n",
      "fibonacci(-1761)를 구합니다.\n",
      "fibonacci(-1762)를 구합니다.\n",
      "fibonacci(-1763)를 구합니다.\n",
      "fibonacci(-1764)를 구합니다.\n",
      "fibonacci(-1765)를 구합니다.\n",
      "fibonacci(-1766)를 구합니다.\n",
      "fibonacci(-1767)를 구합니다.\n",
      "fibonacci(-1768)를 구합니다.\n",
      "fibonacci(-1769)를 구합니다.\n",
      "fibonacci(-1770)를 구합니다.\n",
      "fibonacci(-1771)를 구합니다.\n",
      "fibonacci(-1772)를 구합니다.\n",
      "fibonacci(-1773)를 구합니다.\n",
      "fibonacci(-1774)를 구합니다.\n",
      "fibonacci(-1775)를 구합니다.\n",
      "fibonacci(-1776)를 구합니다.\n",
      "fibonacci(-1777)를 구합니다.\n",
      "fibonacci(-1778)를 구합니다.\n",
      "fibonacci(-1779)를 구합니다.\n",
      "fibonacci(-1780)를 구합니다.\n",
      "fibonacci(-1781)를 구합니다.\n",
      "fibonacci(-1782)를 구합니다.\n",
      "fibonacci(-1783)를 구합니다.\n",
      "fibonacci(-1784)를 구합니다.\n",
      "fibonacci(-1785)를 구합니다.\n",
      "fibonacci(-1786)를 구합니다.\n",
      "fibonacci(-1787)를 구합니다.\n",
      "fibonacci(-1788)를 구합니다.\n",
      "fibonacci(-1789)를 구합니다.\n",
      "fibonacci(-1790)를 구합니다.\n",
      "fibonacci(-1791)를 구합니다.\n",
      "fibonacci(-1792)를 구합니다.\n",
      "fibonacci(-1793)를 구합니다.\n",
      "fibonacci(-1794)를 구합니다.\n",
      "fibonacci(-1795)를 구합니다.\n",
      "fibonacci(-1796)를 구합니다.\n",
      "fibonacci(-1797)를 구합니다.\n",
      "fibonacci(-1798)를 구합니다.\n",
      "fibonacci(-1799)를 구합니다.\n",
      "fibonacci(-1800)를 구합니다.\n",
      "fibonacci(-1801)를 구합니다.\n",
      "fibonacci(-1802)를 구합니다.\n",
      "fibonacci(-1803)를 구합니다.\n",
      "fibonacci(-1804)를 구합니다.\n",
      "fibonacci(-1805)를 구합니다.\n",
      "fibonacci(-1806)를 구합니다.\n",
      "fibonacci(-1807)를 구합니다.\n",
      "fibonacci(-1808)를 구합니다.\n",
      "fibonacci(-1809)를 구합니다.\n",
      "fibonacci(-1810)를 구합니다.\n",
      "fibonacci(-1811)를 구합니다.\n",
      "fibonacci(-1812)를 구합니다.\n",
      "fibonacci(-1813)를 구합니다.\n",
      "fibonacci(-1814)를 구합니다.\n",
      "fibonacci(-1815)를 구합니다.\n",
      "fibonacci(-1816)를 구합니다.\n",
      "fibonacci(-1817)를 구합니다.\n",
      "fibonacci(-1818)를 구합니다.\n",
      "fibonacci(-1819)를 구합니다.\n",
      "fibonacci(-1820)를 구합니다.\n",
      "fibonacci(-1821)를 구합니다.\n",
      "fibonacci(-1822)를 구합니다.\n",
      "fibonacci(-1823)를 구합니다.\n",
      "fibonacci(-1824)를 구합니다.\n",
      "fibonacci(-1825)를 구합니다.\n",
      "fibonacci(-1826)를 구합니다.\n",
      "fibonacci(-1827)를 구합니다.\n",
      "fibonacci(-1828)를 구합니다.\n",
      "fibonacci(-1829)를 구합니다.\n",
      "fibonacci(-1830)를 구합니다.\n",
      "fibonacci(-1831)를 구합니다.\n",
      "fibonacci(-1832)를 구합니다.\n",
      "fibonacci(-1833)를 구합니다.\n",
      "fibonacci(-1834)를 구합니다.\n",
      "fibonacci(-1835)를 구합니다.\n",
      "fibonacci(-1836)를 구합니다.\n",
      "fibonacci(-1837)를 구합니다.\n",
      "fibonacci(-1838)를 구합니다.\n",
      "fibonacci(-1839)를 구합니다.\n",
      "fibonacci(-1840)를 구합니다.\n",
      "fibonacci(-1841)를 구합니다.\n",
      "fibonacci(-1842)를 구합니다.\n",
      "fibonacci(-1843)를 구합니다.\n",
      "fibonacci(-1844)를 구합니다.\n",
      "fibonacci(-1845)를 구합니다.\n",
      "fibonacci(-1846)를 구합니다.\n",
      "fibonacci(-1847)를 구합니다.\n",
      "fibonacci(-1848)를 구합니다.\n",
      "fibonacci(-1849)를 구합니다.\n",
      "fibonacci(-1850)를 구합니다.\n",
      "fibonacci(-1851)를 구합니다.\n",
      "fibonacci(-1852)를 구합니다.\n",
      "fibonacci(-1853)를 구합니다.\n",
      "fibonacci(-1854)를 구합니다.\n",
      "fibonacci(-1855)를 구합니다.\n",
      "fibonacci(-1856)를 구합니다.\n",
      "fibonacci(-1857)를 구합니다.\n",
      "fibonacci(-1858)를 구합니다.\n",
      "fibonacci(-1859)를 구합니다.\n",
      "fibonacci(-1860)를 구합니다.\n",
      "fibonacci(-1861)를 구합니다.\n",
      "fibonacci(-1862)를 구합니다.\n",
      "fibonacci(-1863)를 구합니다.\n",
      "fibonacci(-1864)를 구합니다.\n",
      "fibonacci(-1865)를 구합니다.\n",
      "fibonacci(-1866)를 구합니다.\n",
      "fibonacci(-1867)를 구합니다.\n",
      "fibonacci(-1868)를 구합니다.\n",
      "fibonacci(-1869)를 구합니다.\n",
      "fibonacci(-1870)를 구합니다.\n",
      "fibonacci(-1871)를 구합니다.\n",
      "fibonacci(-1872)를 구합니다.\n",
      "fibonacci(-1873)를 구합니다.\n",
      "fibonacci(-1874)를 구합니다.\n",
      "fibonacci(-1875)를 구합니다.\n",
      "fibonacci(-1876)를 구합니다.\n",
      "fibonacci(-1877)를 구합니다.\n",
      "fibonacci(-1878)를 구합니다.\n",
      "fibonacci(-1879)를 구합니다.\n",
      "fibonacci(-1880)를 구합니다.\n",
      "fibonacci(-1881)를 구합니다.\n",
      "fibonacci(-1882)를 구합니다.\n",
      "fibonacci(-1883)를 구합니다.\n",
      "fibonacci(-1884)를 구합니다.\n",
      "fibonacci(-1885)를 구합니다.\n",
      "fibonacci(-1886)를 구합니다.\n",
      "fibonacci(-1887)를 구합니다.\n",
      "fibonacci(-1888)를 구합니다.\n",
      "fibonacci(-1889)를 구합니다.\n",
      "fibonacci(-1890)를 구합니다.\n",
      "fibonacci(-1891)를 구합니다.\n",
      "fibonacci(-1892)를 구합니다.\n",
      "fibonacci(-1893)를 구합니다.\n",
      "fibonacci(-1894)를 구합니다.\n",
      "fibonacci(-1895)를 구합니다.\n",
      "fibonacci(-1896)를 구합니다.\n",
      "fibonacci(-1897)를 구합니다.\n",
      "fibonacci(-1898)를 구합니다.\n",
      "fibonacci(-1899)를 구합니다.\n",
      "fibonacci(-1900)를 구합니다.\n",
      "fibonacci(-1901)를 구합니다.\n",
      "fibonacci(-1902)를 구합니다.\n",
      "fibonacci(-1903)를 구합니다.\n",
      "fibonacci(-1904)를 구합니다.\n",
      "fibonacci(-1905)를 구합니다.\n",
      "fibonacci(-1906)를 구합니다.\n",
      "fibonacci(-1907)를 구합니다.\n",
      "fibonacci(-1908)를 구합니다.\n",
      "fibonacci(-1909)를 구합니다.\n",
      "fibonacci(-1910)를 구합니다.\n",
      "fibonacci(-1911)를 구합니다.\n",
      "fibonacci(-1912)를 구합니다.\n",
      "fibonacci(-1913)를 구합니다.\n",
      "fibonacci(-1914)를 구합니다.\n",
      "fibonacci(-1915)를 구합니다.\n",
      "fibonacci(-1916)를 구합니다.\n",
      "fibonacci(-1917)를 구합니다.\n",
      "fibonacci(-1918)를 구합니다.\n",
      "fibonacci(-1919)를 구합니다.\n",
      "fibonacci(-1920)를 구합니다.\n",
      "fibonacci(-1921)를 구합니다.\n",
      "fibonacci(-1922)를 구합니다.\n",
      "fibonacci(-1923)를 구합니다.\n",
      "fibonacci(-1924)를 구합니다.\n",
      "fibonacci(-1925)를 구합니다.\n",
      "fibonacci(-1926)를 구합니다.\n",
      "fibonacci(-1927)를 구합니다.\n",
      "fibonacci(-1928)를 구합니다.\n",
      "fibonacci(-1929)를 구합니다.\n",
      "fibonacci(-1930)를 구합니다.\n",
      "fibonacci(-1931)를 구합니다.\n",
      "fibonacci(-1932)를 구합니다.\n",
      "fibonacci(-1933)를 구합니다.\n",
      "fibonacci(-1934)를 구합니다.\n",
      "fibonacci(-1935)를 구합니다.\n",
      "fibonacci(-1936)를 구합니다.\n",
      "fibonacci(-1937)를 구합니다.\n",
      "fibonacci(-1938)를 구합니다.\n",
      "fibonacci(-1939)를 구합니다.\n",
      "fibonacci(-1940)를 구합니다.\n",
      "fibonacci(-1941)를 구합니다.\n",
      "fibonacci(-1942)를 구합니다.\n",
      "fibonacci(-1943)를 구합니다.\n",
      "fibonacci(-1944)를 구합니다.\n",
      "fibonacci(-1945)를 구합니다.\n",
      "fibonacci(-1946)를 구합니다.\n",
      "fibonacci(-1947)를 구합니다.\n",
      "fibonacci(-1948)를 구합니다.\n",
      "fibonacci(-1949)를 구합니다.\n",
      "fibonacci(-1950)를 구합니다.\n",
      "fibonacci(-1951)를 구합니다.\n",
      "fibonacci(-1952)를 구합니다.\n",
      "fibonacci(-1953)를 구합니다.\n",
      "fibonacci(-1954)를 구합니다.\n",
      "fibonacci(-1955)를 구합니다.\n",
      "fibonacci(-1956)를 구합니다.\n",
      "fibonacci(-1957)를 구합니다.\n",
      "fibonacci(-1958)를 구합니다.\n",
      "fibonacci(-1959)를 구합니다.\n",
      "fibonacci(-1960)를 구합니다.\n",
      "fibonacci(-1961)를 구합니다.\n",
      "fibonacci(-1962)를 구합니다.\n",
      "fibonacci(-1963)를 구합니다.\n",
      "fibonacci(-1964)를 구합니다.\n",
      "fibonacci(-1965)를 구합니다.\n",
      "fibonacci(-1966)를 구합니다.\n",
      "fibonacci(-1967)를 구합니다.\n",
      "fibonacci(-1968)를 구합니다.\n",
      "fibonacci(-1969)를 구합니다.\n",
      "fibonacci(-1970)를 구합니다.\n",
      "fibonacci(-1971)를 구합니다.\n",
      "fibonacci(-1972)를 구합니다.\n",
      "fibonacci(-1973)를 구합니다.\n",
      "fibonacci(-1974)를 구합니다.\n",
      "fibonacci(-1975)를 구합니다.\n",
      "fibonacci(-1976)를 구합니다.\n",
      "fibonacci(-1977)를 구합니다.\n",
      "fibonacci(-1978)를 구합니다.\n",
      "fibonacci(-1979)를 구합니다.\n",
      "fibonacci(-1980)를 구합니다.\n",
      "fibonacci(-1981)를 구합니다.\n",
      "fibonacci(-1982)를 구합니다.\n",
      "fibonacci(-1983)를 구합니다.\n",
      "fibonacci(-1984)를 구합니다.\n",
      "fibonacci(-1985)를 구합니다.\n",
      "fibonacci(-1986)를 구합니다.\n",
      "fibonacci(-1987)를 구합니다.\n",
      "fibonacci(-1988)를 구합니다.\n",
      "fibonacci(-1989)를 구합니다.\n",
      "fibonacci(-1990)를 구합니다.\n",
      "fibonacci(-1991)를 구합니다.\n",
      "fibonacci(-1992)를 구합니다.\n",
      "fibonacci(-1993)를 구합니다.\n",
      "fibonacci(-1994)를 구합니다.\n",
      "fibonacci(-1995)를 구합니다.\n",
      "fibonacci(-1996)를 구합니다.\n",
      "fibonacci(-1997)를 구합니다.\n",
      "fibonacci(-1998)를 구합니다.\n",
      "fibonacci(-1999)를 구합니다.\n",
      "fibonacci(-2000)를 구합니다.\n",
      "fibonacci(-2001)를 구합니다.\n",
      "fibonacci(-2002)를 구합니다.\n",
      "fibonacci(-2003)를 구합니다.\n",
      "fibonacci(-2004)를 구합니다.\n",
      "fibonacci(-2005)를 구합니다.\n",
      "fibonacci(-2006)를 구합니다.\n",
      "fibonacci(-2007)를 구합니다.\n",
      "fibonacci(-2008)를 구합니다.\n",
      "fibonacci(-2009)를 구합니다.\n",
      "fibonacci(-2010)를 구합니다.\n",
      "fibonacci(-2011)를 구합니다.\n",
      "fibonacci(-2012)를 구합니다.\n",
      "fibonacci(-2013)를 구합니다.\n",
      "fibonacci(-2014)를 구합니다.\n",
      "fibonacci(-2015)를 구합니다.\n",
      "fibonacci(-2016)를 구합니다.\n",
      "fibonacci(-2017)를 구합니다.\n",
      "fibonacci(-2018)를 구합니다.\n",
      "fibonacci(-2019)를 구합니다.\n",
      "fibonacci(-2020)를 구합니다.\n",
      "fibonacci(-2021)를 구합니다.\n",
      "fibonacci(-2022)를 구합니다.\n",
      "fibonacci(-2023)를 구합니다.\n",
      "fibonacci(-2024)를 구합니다.\n",
      "fibonacci(-2025)를 구합니다.\n",
      "fibonacci(-2026)를 구합니다.\n",
      "fibonacci(-2027)를 구합니다.\n",
      "fibonacci(-2028)를 구합니다.\n",
      "fibonacci(-2029)를 구합니다.\n",
      "fibonacci(-2030)를 구합니다.\n",
      "fibonacci(-2031)를 구합니다.\n",
      "fibonacci(-2032)를 구합니다.\n",
      "fibonacci(-2033)를 구합니다.\n",
      "fibonacci(-2034)를 구합니다.\n",
      "fibonacci(-2035)를 구합니다.\n",
      "fibonacci(-2036)를 구합니다.\n",
      "fibonacci(-2037)를 구합니다.\n",
      "fibonacci(-2038)를 구합니다.\n",
      "fibonacci(-2039)를 구합니다.\n",
      "fibonacci(-2040)를 구합니다.\n",
      "fibonacci(-2041)를 구합니다.\n",
      "fibonacci(-2042)를 구합니다.\n",
      "fibonacci(-2043)를 구합니다.\n",
      "fibonacci(-2044)를 구합니다.\n",
      "fibonacci(-2045)를 구합니다.\n",
      "fibonacci(-2046)를 구합니다.\n",
      "fibonacci(-2047)를 구합니다.\n",
      "fibonacci(-2048)를 구합니다.\n",
      "fibonacci(-2049)를 구합니다.\n",
      "fibonacci(-2050)를 구합니다.\n",
      "fibonacci(-2051)를 구합니다.\n",
      "fibonacci(-2052)를 구합니다.\n",
      "fibonacci(-2053)를 구합니다.\n",
      "fibonacci(-2054)를 구합니다.\n",
      "fibonacci(-2055)를 구합니다.\n",
      "fibonacci(-2056)를 구합니다.\n",
      "fibonacci(-2057)를 구합니다.\n",
      "fibonacci(-2058)를 구합니다.\n",
      "fibonacci(-2059)를 구합니다.\n",
      "fibonacci(-2060)를 구합니다.\n",
      "fibonacci(-2061)를 구합니다.\n",
      "fibonacci(-2062)를 구합니다.\n",
      "fibonacci(-2063)를 구합니다.\n",
      "fibonacci(-2064)를 구합니다.\n",
      "fibonacci(-2065)를 구합니다.\n",
      "fibonacci(-2066)를 구합니다.\n",
      "fibonacci(-2067)를 구합니다.\n",
      "fibonacci(-2068)를 구합니다.\n",
      "fibonacci(-2069)를 구합니다.\n",
      "fibonacci(-2070)를 구합니다.\n",
      "fibonacci(-2071)를 구합니다.\n",
      "fibonacci(-2072)를 구합니다.\n",
      "fibonacci(-2073)를 구합니다.\n",
      "fibonacci(-2074)를 구합니다.\n",
      "fibonacci(-2075)를 구합니다.\n",
      "fibonacci(-2076)를 구합니다.\n",
      "fibonacci(-2077)를 구합니다.\n",
      "fibonacci(-2078)를 구합니다.\n",
      "fibonacci(-2079)를 구합니다.\n",
      "fibonacci(-2080)를 구합니다.\n",
      "fibonacci(-2081)를 구합니다.\n",
      "fibonacci(-2082)를 구합니다.\n",
      "fibonacci(-2083)를 구합니다.\n",
      "fibonacci(-2084)를 구합니다.\n",
      "fibonacci(-2085)를 구합니다.\n",
      "fibonacci(-2086)를 구합니다.\n",
      "fibonacci(-2087)를 구합니다.\n",
      "fibonacci(-2088)를 구합니다.\n",
      "fibonacci(-2089)를 구합니다.\n",
      "fibonacci(-2090)를 구합니다.\n",
      "fibonacci(-2091)를 구합니다.\n",
      "fibonacci(-2092)를 구합니다.\n",
      "fibonacci(-2093)를 구합니다.\n",
      "fibonacci(-2094)를 구합니다.\n",
      "fibonacci(-2095)를 구합니다.\n",
      "fibonacci(-2096)를 구합니다.\n",
      "fibonacci(-2097)를 구합니다.\n",
      "fibonacci(-2098)를 구합니다.\n",
      "fibonacci(-2099)를 구합니다.\n",
      "fibonacci(-2100)를 구합니다.\n",
      "fibonacci(-2101)를 구합니다.\n",
      "fibonacci(-2102)를 구합니다.\n",
      "fibonacci(-2103)를 구합니다.\n",
      "fibonacci(-2104)를 구합니다.\n",
      "fibonacci(-2105)를 구합니다.\n",
      "fibonacci(-2106)를 구합니다.\n",
      "fibonacci(-2107)를 구합니다.\n",
      "fibonacci(-2108)를 구합니다.\n",
      "fibonacci(-2109)를 구합니다.\n",
      "fibonacci(-2110)를 구합니다.\n",
      "fibonacci(-2111)를 구합니다.\n",
      "fibonacci(-2112)를 구합니다.\n",
      "fibonacci(-2113)를 구합니다.\n",
      "fibonacci(-2114)를 구합니다.\n",
      "fibonacci(-2115)를 구합니다.\n",
      "fibonacci(-2116)를 구합니다.\n",
      "fibonacci(-2117)를 구합니다.\n",
      "fibonacci(-2118)를 구합니다.\n",
      "fibonacci(-2119)를 구합니다.\n",
      "fibonacci(-2120)를 구합니다.\n",
      "fibonacci(-2121)를 구합니다.\n",
      "fibonacci(-2122)를 구합니다.\n",
      "fibonacci(-2123)를 구합니다.\n",
      "fibonacci(-2124)를 구합니다.\n",
      "fibonacci(-2125)를 구합니다.\n",
      "fibonacci(-2126)를 구합니다.\n",
      "fibonacci(-2127)를 구합니다.\n",
      "fibonacci(-2128)를 구합니다.\n",
      "fibonacci(-2129)를 구합니다.\n",
      "fibonacci(-2130)를 구합니다.\n",
      "fibonacci(-2131)를 구합니다.\n",
      "fibonacci(-2132)를 구합니다.\n",
      "fibonacci(-2133)를 구합니다.\n",
      "fibonacci(-2134)를 구합니다.\n",
      "fibonacci(-2135)를 구합니다.\n",
      "fibonacci(-2136)를 구합니다.\n",
      "fibonacci(-2137)를 구합니다.\n",
      "fibonacci(-2138)를 구합니다.\n",
      "fibonacci(-2139)를 구합니다.\n",
      "fibonacci(-2140)를 구합니다.\n",
      "fibonacci(-2141)를 구합니다.\n",
      "fibonacci(-2142)를 구합니다.\n",
      "fibonacci(-2143)를 구합니다.\n",
      "fibonacci(-2144)를 구합니다.\n",
      "fibonacci(-2145)를 구합니다.\n",
      "fibonacci(-2146)를 구합니다.\n",
      "fibonacci(-2147)를 구합니다.\n",
      "fibonacci(-2148)를 구합니다.\n",
      "fibonacci(-2149)를 구합니다.\n",
      "fibonacci(-2150)를 구합니다.\n",
      "fibonacci(-2151)를 구합니다.\n",
      "fibonacci(-2152)를 구합니다.\n",
      "fibonacci(-2153)를 구합니다.\n",
      "fibonacci(-2154)를 구합니다.\n",
      "fibonacci(-2155)를 구합니다.\n",
      "fibonacci(-2156)를 구합니다.\n",
      "fibonacci(-2157)를 구합니다.\n",
      "fibonacci(-2158)를 구합니다.\n",
      "fibonacci(-2159)를 구합니다.\n",
      "fibonacci(-2160)를 구합니다.\n",
      "fibonacci(-2161)를 구합니다.\n",
      "fibonacci(-2162)를 구합니다.\n",
      "fibonacci(-2163)를 구합니다.\n",
      "fibonacci(-2164)를 구합니다.\n",
      "fibonacci(-2165)를 구합니다.\n",
      "fibonacci(-2166)를 구합니다.\n",
      "fibonacci(-2167)를 구합니다.\n",
      "fibonacci(-2168)를 구합니다.\n",
      "fibonacci(-2169)를 구합니다.\n",
      "fibonacci(-2170)를 구합니다.\n",
      "fibonacci(-2171)를 구합니다.\n",
      "fibonacci(-2172)를 구합니다.\n",
      "fibonacci(-2173)를 구합니다.\n",
      "fibonacci(-2174)를 구합니다.\n",
      "fibonacci(-2175)를 구합니다.\n",
      "fibonacci(-2176)를 구합니다.\n",
      "fibonacci(-2177)를 구합니다.\n",
      "fibonacci(-2178)를 구합니다.\n",
      "fibonacci(-2179)를 구합니다.\n",
      "fibonacci(-2180)를 구합니다.\n",
      "fibonacci(-2181)를 구합니다.\n",
      "fibonacci(-2182)를 구합니다.\n",
      "fibonacci(-2183)를 구합니다.\n",
      "fibonacci(-2184)를 구합니다.\n",
      "fibonacci(-2185)를 구합니다.\n",
      "fibonacci(-2186)를 구합니다.\n",
      "fibonacci(-2187)를 구합니다.\n",
      "fibonacci(-2188)를 구합니다.\n",
      "fibonacci(-2189)를 구합니다.\n",
      "fibonacci(-2190)를 구합니다.\n",
      "fibonacci(-2191)를 구합니다.\n",
      "fibonacci(-2192)를 구합니다.\n",
      "fibonacci(-2193)를 구합니다.\n",
      "fibonacci(-2194)를 구합니다.\n",
      "fibonacci(-2195)를 구합니다.\n",
      "fibonacci(-2196)를 구합니다.\n",
      "fibonacci(-2197)를 구합니다.\n",
      "fibonacci(-2198)를 구합니다.\n",
      "fibonacci(-2199)를 구합니다.\n",
      "fibonacci(-2200)를 구합니다.\n",
      "fibonacci(-2201)를 구합니다.\n",
      "fibonacci(-2202)를 구합니다.\n",
      "fibonacci(-2203)를 구합니다.\n",
      "fibonacci(-2204)를 구합니다.\n",
      "fibonacci(-2205)를 구합니다.\n",
      "fibonacci(-2206)를 구합니다.\n",
      "fibonacci(-2207)를 구합니다.\n",
      "fibonacci(-2208)를 구합니다.\n",
      "fibonacci(-2209)를 구합니다.\n",
      "fibonacci(-2210)를 구합니다.\n",
      "fibonacci(-2211)를 구합니다.\n",
      "fibonacci(-2212)를 구합니다.\n",
      "fibonacci(-2213)를 구합니다.\n",
      "fibonacci(-2214)를 구합니다.\n",
      "fibonacci(-2215)를 구합니다.\n",
      "fibonacci(-2216)를 구합니다.\n",
      "fibonacci(-2217)를 구합니다.\n",
      "fibonacci(-2218)를 구합니다.\n",
      "fibonacci(-2219)를 구합니다.\n",
      "fibonacci(-2220)를 구합니다.\n",
      "fibonacci(-2221)를 구합니다.\n",
      "fibonacci(-2222)를 구합니다.\n",
      "fibonacci(-2223)를 구합니다.\n",
      "fibonacci(-2224)를 구합니다.\n",
      "fibonacci(-2225)를 구합니다.\n",
      "fibonacci(-2226)를 구합니다.\n",
      "fibonacci(-2227)를 구합니다.\n",
      "fibonacci(-2228)를 구합니다.\n",
      "fibonacci(-2229)를 구합니다.\n",
      "fibonacci(-2230)를 구합니다.\n",
      "fibonacci(-2231)를 구합니다.\n",
      "fibonacci(-2232)를 구합니다.\n",
      "fibonacci(-2233)를 구합니다.\n",
      "fibonacci(-2234)를 구합니다.\n",
      "fibonacci(-2235)를 구합니다.\n",
      "fibonacci(-2236)를 구합니다.\n",
      "fibonacci(-2237)를 구합니다.\n",
      "fibonacci(-2238)를 구합니다.\n",
      "fibonacci(-2239)를 구합니다.\n",
      "fibonacci(-2240)를 구합니다.\n",
      "fibonacci(-2241)를 구합니다.\n",
      "fibonacci(-2242)를 구합니다.\n",
      "fibonacci(-2243)를 구합니다.\n",
      "fibonacci(-2244)를 구합니다.\n",
      "fibonacci(-2245)를 구합니다.\n",
      "fibonacci(-2246)를 구합니다.\n",
      "fibonacci(-2247)를 구합니다.\n",
      "fibonacci(-2248)를 구합니다.\n",
      "fibonacci(-2249)를 구합니다.\n",
      "fibonacci(-2250)를 구합니다.\n",
      "fibonacci(-2251)를 구합니다.\n",
      "fibonacci(-2252)를 구합니다.\n",
      "fibonacci(-2253)를 구합니다.\n",
      "fibonacci(-2254)를 구합니다.\n",
      "fibonacci(-2255)를 구합니다.\n",
      "fibonacci(-2256)를 구합니다.\n",
      "fibonacci(-2257)를 구합니다.\n",
      "fibonacci(-2258)를 구합니다.\n",
      "fibonacci(-2259)를 구합니다.\n",
      "fibonacci(-2260)를 구합니다.\n",
      "fibonacci(-2261)를 구합니다.\n",
      "fibonacci(-2262)를 구합니다.\n",
      "fibonacci(-2263)를 구합니다.\n",
      "fibonacci(-2264)를 구합니다.\n",
      "fibonacci(-2265)를 구합니다.\n",
      "fibonacci(-2266)를 구합니다.\n",
      "fibonacci(-2267)를 구합니다.\n",
      "fibonacci(-2268)를 구합니다.\n",
      "fibonacci(-2269)를 구합니다.\n",
      "fibonacci(-2270)를 구합니다.\n",
      "fibonacci(-2271)를 구합니다.\n",
      "fibonacci(-2272)를 구합니다.\n",
      "fibonacci(-2273)를 구합니다.\n",
      "fibonacci(-2274)를 구합니다.\n",
      "fibonacci(-2275)를 구합니다.\n",
      "fibonacci(-2276)를 구합니다.\n",
      "fibonacci(-2277)를 구합니다.\n",
      "fibonacci(-2278)를 구합니다.\n",
      "fibonacci(-2279)를 구합니다.\n",
      "fibonacci(-2280)를 구합니다.\n",
      "fibonacci(-2281)를 구합니다.\n",
      "fibonacci(-2282)를 구합니다.\n",
      "fibonacci(-2283)를 구합니다.\n",
      "fibonacci(-2284)를 구합니다.\n",
      "fibonacci(-2285)를 구합니다.\n",
      "fibonacci(-2286)를 구합니다.\n",
      "fibonacci(-2287)를 구합니다.\n",
      "fibonacci(-2288)를 구합니다.\n",
      "fibonacci(-2289)를 구합니다.\n",
      "fibonacci(-2290)를 구합니다.\n",
      "fibonacci(-2291)를 구합니다.\n",
      "fibonacci(-2292)를 구합니다.\n",
      "fibonacci(-2293)를 구합니다.\n",
      "fibonacci(-2294)를 구합니다.\n",
      "fibonacci(-2295)를 구합니다.\n",
      "fibonacci(-2296)를 구합니다.\n",
      "fibonacci(-2297)를 구합니다.\n",
      "fibonacci(-2298)를 구합니다.\n",
      "fibonacci(-2299)를 구합니다.\n",
      "fibonacci(-2300)를 구합니다.\n",
      "fibonacci(-2301)를 구합니다.\n",
      "fibonacci(-2302)를 구합니다.\n",
      "fibonacci(-2303)를 구합니다.\n",
      "fibonacci(-2304)를 구합니다.\n",
      "fibonacci(-2305)를 구합니다.\n",
      "fibonacci(-2306)를 구합니다.\n",
      "fibonacci(-2307)를 구합니다.\n",
      "fibonacci(-2308)를 구합니다.\n",
      "fibonacci(-2309)를 구합니다.\n",
      "fibonacci(-2310)를 구합니다.\n",
      "fibonacci(-2311)를 구합니다.\n",
      "fibonacci(-2312)를 구합니다.\n",
      "fibonacci(-2313)를 구합니다.\n",
      "fibonacci(-2314)를 구합니다.\n",
      "fibonacci(-2315)를 구합니다.\n",
      "fibonacci(-2316)를 구합니다.\n",
      "fibonacci(-2317)를 구합니다.\n",
      "fibonacci(-2318)를 구합니다.\n",
      "fibonacci(-2319)를 구합니다.\n",
      "fibonacci(-2320)를 구합니다.\n",
      "fibonacci(-2321)를 구합니다.\n",
      "fibonacci(-2322)를 구합니다.\n",
      "fibonacci(-2323)를 구합니다.\n",
      "fibonacci(-2324)를 구합니다.\n",
      "fibonacci(-2325)를 구합니다.\n",
      "fibonacci(-2326)를 구합니다.\n",
      "fibonacci(-2327)를 구합니다.\n",
      "fibonacci(-2328)를 구합니다.\n",
      "fibonacci(-2329)를 구합니다.\n",
      "fibonacci(-2330)를 구합니다.\n",
      "fibonacci(-2331)를 구합니다.\n",
      "fibonacci(-2332)를 구합니다.\n",
      "fibonacci(-2333)를 구합니다.\n",
      "fibonacci(-2334)를 구합니다.\n",
      "fibonacci(-2335)를 구합니다.\n",
      "fibonacci(-2336)를 구합니다.\n",
      "fibonacci(-2337)를 구합니다.\n",
      "fibonacci(-2338)를 구합니다.\n",
      "fibonacci(-2339)를 구합니다.\n",
      "fibonacci(-2340)를 구합니다.\n",
      "fibonacci(-2341)를 구합니다.\n",
      "fibonacci(-2342)를 구합니다.\n",
      "fibonacci(-2343)를 구합니다.\n",
      "fibonacci(-2344)를 구합니다.\n",
      "fibonacci(-2345)를 구합니다.\n",
      "fibonacci(-2346)를 구합니다.\n",
      "fibonacci(-2347)를 구합니다.\n",
      "fibonacci(-2348)를 구합니다.\n",
      "fibonacci(-2349)를 구합니다.\n",
      "fibonacci(-2350)를 구합니다.\n",
      "fibonacci(-2351)를 구합니다.\n",
      "fibonacci(-2352)를 구합니다.\n",
      "fibonacci(-2353)를 구합니다.\n",
      "fibonacci(-2354)를 구합니다.\n",
      "fibonacci(-2355)를 구합니다.\n",
      "fibonacci(-2356)를 구합니다.\n",
      "fibonacci(-2357)를 구합니다.\n",
      "fibonacci(-2358)를 구합니다.\n",
      "fibonacci(-2359)를 구합니다.\n",
      "fibonacci(-2360)를 구합니다.\n",
      "fibonacci(-2361)를 구합니다.\n",
      "fibonacci(-2362)를 구합니다.\n",
      "fibonacci(-2363)를 구합니다.\n",
      "fibonacci(-2364)를 구합니다.\n",
      "fibonacci(-2365)를 구합니다.\n",
      "fibonacci(-2366)를 구합니다.\n",
      "fibonacci(-2367)를 구합니다.\n",
      "fibonacci(-2368)를 구합니다.\n",
      "fibonacci(-2369)를 구합니다.\n",
      "fibonacci(-2370)를 구합니다.\n",
      "fibonacci(-2371)를 구합니다.\n",
      "fibonacci(-2372)를 구합니다.\n",
      "fibonacci(-2373)를 구합니다.\n",
      "fibonacci(-2374)를 구합니다.\n",
      "fibonacci(-2375)를 구합니다.\n",
      "fibonacci(-2376)를 구합니다.\n",
      "fibonacci(-2377)를 구합니다.\n",
      "fibonacci(-2378)를 구합니다.\n",
      "fibonacci(-2379)를 구합니다.\n",
      "fibonacci(-2380)를 구합니다.\n",
      "fibonacci(-2381)를 구합니다.\n",
      "fibonacci(-2382)를 구합니다.\n",
      "fibonacci(-2383)를 구합니다.\n",
      "fibonacci(-2384)를 구합니다.\n",
      "fibonacci(-2385)를 구합니다.\n",
      "fibonacci(-2386)를 구합니다.\n",
      "fibonacci(-2387)를 구합니다.\n",
      "fibonacci(-2388)를 구합니다.\n",
      "fibonacci(-2389)를 구합니다.\n",
      "fibonacci(-2390)를 구합니다.\n",
      "fibonacci(-2391)를 구합니다.\n",
      "fibonacci(-2392)를 구합니다.\n",
      "fibonacci(-2393)를 구합니다.\n",
      "fibonacci(-2394)를 구합니다.\n",
      "fibonacci(-2395)를 구합니다.\n",
      "fibonacci(-2396)를 구합니다.\n",
      "fibonacci(-2397)를 구합니다.\n",
      "fibonacci(-2398)를 구합니다.\n",
      "fibonacci(-2399)를 구합니다.\n",
      "fibonacci(-2400)를 구합니다.\n",
      "fibonacci(-2401)를 구합니다.\n",
      "fibonacci(-2402)를 구합니다.\n",
      "fibonacci(-2403)를 구합니다.\n",
      "fibonacci(-2404)를 구합니다.\n",
      "fibonacci(-2405)를 구합니다.\n",
      "fibonacci(-2406)를 구합니다.\n",
      "fibonacci(-2407)를 구합니다.\n",
      "fibonacci(-2408)를 구합니다.\n",
      "fibonacci(-2409)를 구합니다.\n",
      "fibonacci(-2410)를 구합니다.\n",
      "fibonacci(-2411)를 구합니다.\n",
      "fibonacci(-2412)를 구합니다.\n",
      "fibonacci(-2413)를 구합니다.\n",
      "fibonacci(-2414)를 구합니다.\n",
      "fibonacci(-2415)를 구합니다.\n",
      "fibonacci(-2416)를 구합니다.\n",
      "fibonacci(-2417)를 구합니다.\n",
      "fibonacci(-2418)를 구합니다.\n",
      "fibonacci(-2419)를 구합니다.\n",
      "fibonacci(-2420)를 구합니다.\n",
      "fibonacci(-2421)를 구합니다.\n",
      "fibonacci(-2422)를 구합니다.\n",
      "fibonacci(-2423)를 구합니다.\n",
      "fibonacci(-2424)를 구합니다.\n",
      "fibonacci(-2425)를 구합니다.\n",
      "fibonacci(-2426)를 구합니다.\n",
      "fibonacci(-2427)를 구합니다.\n",
      "fibonacci(-2428)를 구합니다.\n",
      "fibonacci(-2429)를 구합니다.\n",
      "fibonacci(-2430)를 구합니다.\n",
      "fibonacci(-2431)를 구합니다.\n",
      "fibonacci(-2432)를 구합니다.\n",
      "fibonacci(-2433)를 구합니다.\n",
      "fibonacci(-2434)를 구합니다.\n",
      "fibonacci(-2435)를 구합니다.\n",
      "fibonacci(-2436)를 구합니다.\n",
      "fibonacci(-2437)를 구합니다.\n",
      "fibonacci(-2438)를 구합니다.\n",
      "fibonacci(-2439)를 구합니다.\n",
      "fibonacci(-2440)를 구합니다.\n",
      "fibonacci(-2441)를 구합니다.\n",
      "fibonacci(-2442)를 구합니다.\n",
      "fibonacci(-2443)를 구합니다.\n",
      "fibonacci(-2444)를 구합니다.\n",
      "fibonacci(-2445)를 구합니다.\n",
      "fibonacci(-2446)를 구합니다.\n",
      "fibonacci(-2447)를 구합니다.\n",
      "fibonacci(-2448)를 구합니다.\n",
      "fibonacci(-2449)를 구합니다.\n",
      "fibonacci(-2450)를 구합니다.\n",
      "fibonacci(-2451)를 구합니다.\n",
      "fibonacci(-2452)를 구합니다.\n",
      "fibonacci(-2453)를 구합니다.\n",
      "fibonacci(-2454)를 구합니다.\n",
      "fibonacci(-2455)를 구합니다.\n",
      "fibonacci(-2456)를 구합니다.\n",
      "fibonacci(-2457)를 구합니다.\n",
      "fibonacci(-2458)를 구합니다.\n",
      "fibonacci(-2459)를 구합니다.\n",
      "fibonacci(-2460)를 구합니다.\n",
      "fibonacci(-2461)를 구합니다.\n",
      "fibonacci(-2462)를 구합니다.\n",
      "fibonacci(-2463)를 구합니다.\n",
      "fibonacci(-2464)를 구합니다.\n",
      "fibonacci(-2465)를 구합니다.\n",
      "fibonacci(-2466)를 구합니다.\n",
      "fibonacci(-2467)를 구합니다.\n",
      "fibonacci(-2468)를 구합니다.\n",
      "fibonacci(-2469)를 구합니다.\n",
      "fibonacci(-2470)를 구합니다.\n",
      "fibonacci(-2471)를 구합니다.\n",
      "fibonacci(-2472)를 구합니다.\n",
      "fibonacci(-2473)를 구합니다.\n",
      "fibonacci(-2474)를 구합니다.\n",
      "fibonacci(-2475)를 구합니다.\n",
      "fibonacci(-2476)를 구합니다.\n",
      "fibonacci(-2477)를 구합니다.\n",
      "fibonacci(-2478)를 구합니다.\n",
      "fibonacci(-2479)를 구합니다.\n",
      "fibonacci(-2480)를 구합니다.\n",
      "fibonacci(-2481)를 구합니다.\n",
      "fibonacci(-2482)를 구합니다.\n",
      "fibonacci(-2483)를 구합니다.\n",
      "fibonacci(-2484)를 구합니다.\n",
      "fibonacci(-2485)를 구합니다.\n",
      "fibonacci(-2486)를 구합니다.\n",
      "fibonacci(-2487)를 구합니다.\n",
      "fibonacci(-2488)를 구합니다.\n",
      "fibonacci(-2489)를 구합니다.\n",
      "fibonacci(-2490)를 구합니다.\n",
      "fibonacci(-2491)를 구합니다.\n",
      "fibonacci(-2492)를 구합니다.\n",
      "fibonacci(-2493)를 구합니다.\n",
      "fibonacci(-2494)를 구합니다.\n",
      "fibonacci(-2495)를 구합니다.\n",
      "fibonacci(-2496)를 구합니다.\n",
      "fibonacci(-2497)를 구합니다.\n",
      "fibonacci(-2498)를 구합니다.\n",
      "fibonacci(-2499)를 구합니다.\n",
      "fibonacci(-2500)를 구합니다.\n",
      "fibonacci(-2501)를 구합니다.\n",
      "fibonacci(-2502)를 구합니다.\n",
      "fibonacci(-2503)를 구합니다.\n",
      "fibonacci(-2504)를 구합니다.\n",
      "fibonacci(-2505)를 구합니다.\n",
      "fibonacci(-2506)를 구합니다.\n",
      "fibonacci(-2507)를 구합니다.\n",
      "fibonacci(-2508)를 구합니다.\n",
      "fibonacci(-2509)를 구합니다.\n",
      "fibonacci(-2510)를 구합니다.\n",
      "fibonacci(-2511)를 구합니다.\n",
      "fibonacci(-2512)를 구합니다.\n",
      "fibonacci(-2513)를 구합니다.\n",
      "fibonacci(-2514)를 구합니다.\n",
      "fibonacci(-2515)를 구합니다.\n",
      "fibonacci(-2516)를 구합니다.\n",
      "fibonacci(-2517)를 구합니다.\n",
      "fibonacci(-2518)를 구합니다.\n",
      "fibonacci(-2519)를 구합니다.\n",
      "fibonacci(-2520)를 구합니다.\n",
      "fibonacci(-2521)를 구합니다.\n",
      "fibonacci(-2522)를 구합니다.\n",
      "fibonacci(-2523)를 구합니다.\n",
      "fibonacci(-2524)를 구합니다.\n",
      "fibonacci(-2525)를 구합니다.\n",
      "fibonacci(-2526)를 구합니다.\n",
      "fibonacci(-2527)를 구합니다.\n",
      "fibonacci(-2528)를 구합니다.\n",
      "fibonacci(-2529)를 구합니다.\n",
      "fibonacci(-2530)를 구합니다.\n",
      "fibonacci(-2531)를 구합니다.\n",
      "fibonacci(-2532)를 구합니다.\n",
      "fibonacci(-2533)를 구합니다.\n",
      "fibonacci(-2534)를 구합니다.\n",
      "fibonacci(-2535)를 구합니다.\n",
      "fibonacci(-2536)를 구합니다.\n",
      "fibonacci(-2537)를 구합니다.\n",
      "fibonacci(-2538)를 구합니다.\n",
      "fibonacci(-2539)를 구합니다.\n",
      "fibonacci(-2540)를 구합니다.\n",
      "fibonacci(-2541)를 구합니다.\n",
      "fibonacci(-2542)를 구합니다.\n",
      "fibonacci(-2543)를 구합니다.\n",
      "fibonacci(-2544)를 구합니다.\n",
      "fibonacci(-2545)를 구합니다.\n",
      "fibonacci(-2546)를 구합니다.\n",
      "fibonacci(-2547)를 구합니다.\n",
      "fibonacci(-2548)를 구합니다.\n",
      "fibonacci(-2549)를 구합니다.\n",
      "fibonacci(-2550)를 구합니다.\n",
      "fibonacci(-2551)를 구합니다.\n",
      "fibonacci(-2552)를 구합니다.\n",
      "fibonacci(-2553)를 구합니다.\n",
      "fibonacci(-2554)를 구합니다.\n",
      "fibonacci(-2555)를 구합니다.\n",
      "fibonacci(-2556)를 구합니다.\n",
      "fibonacci(-2557)를 구합니다.\n",
      "fibonacci(-2558)를 구합니다.\n",
      "fibonacci(-2559)를 구합니다.\n",
      "fibonacci(-2560)를 구합니다.\n",
      "fibonacci(-2561)를 구합니다.\n",
      "fibonacci(-2562)를 구합니다.\n",
      "fibonacci(-2563)를 구합니다.\n",
      "fibonacci(-2564)를 구합니다.\n",
      "fibonacci(-2565)를 구합니다.\n",
      "fibonacci(-2566)를 구합니다.\n",
      "fibonacci(-2567)를 구합니다.\n",
      "fibonacci(-2568)를 구합니다.\n",
      "fibonacci(-2569)를 구합니다.\n",
      "fibonacci(-2570)를 구합니다.\n",
      "fibonacci(-2571)를 구합니다.\n",
      "fibonacci(-2572)를 구합니다.\n",
      "fibonacci(-2573)를 구합니다.\n",
      "fibonacci(-2574)를 구합니다.\n",
      "fibonacci(-2575)를 구합니다.\n",
      "fibonacci(-2576)를 구합니다.\n",
      "fibonacci(-2577)를 구합니다.\n",
      "fibonacci(-2578)를 구합니다.\n",
      "fibonacci(-2579)를 구합니다.\n",
      "fibonacci(-2580)를 구합니다.\n",
      "fibonacci(-2581)를 구합니다.\n",
      "fibonacci(-2582)를 구합니다.\n",
      "fibonacci(-2583)를 구합니다.\n",
      "fibonacci(-2584)를 구합니다.\n",
      "fibonacci(-2585)를 구합니다.\n",
      "fibonacci(-2586)를 구합니다.\n",
      "fibonacci(-2587)를 구합니다.\n",
      "fibonacci(-2588)를 구합니다.\n",
      "fibonacci(-2589)를 구합니다.\n",
      "fibonacci(-2590)를 구합니다.\n",
      "fibonacci(-2591)를 구합니다.\n",
      "fibonacci(-2592)를 구합니다.\n",
      "fibonacci(-2593)를 구합니다.\n",
      "fibonacci(-2594)를 구합니다.\n",
      "fibonacci(-2595)를 구합니다.\n",
      "fibonacci(-2596)를 구합니다.\n",
      "fibonacci(-2597)를 구합니다.\n",
      "fibonacci(-2598)를 구합니다.\n",
      "fibonacci(-2599)를 구합니다.\n",
      "fibonacci(-2600)를 구합니다.\n",
      "fibonacci(-2601)를 구합니다.\n",
      "fibonacci(-2602)를 구합니다.\n",
      "fibonacci(-2603)를 구합니다.\n",
      "fibonacci(-2604)를 구합니다.\n",
      "fibonacci(-2605)를 구합니다.\n",
      "fibonacci(-2606)를 구합니다.\n",
      "fibonacci(-2607)를 구합니다.\n",
      "fibonacci(-2608)를 구합니다.\n",
      "fibonacci(-2609)를 구합니다.\n",
      "fibonacci(-2610)를 구합니다.\n",
      "fibonacci(-2611)를 구합니다.\n",
      "fibonacci(-2612)를 구합니다.\n",
      "fibonacci(-2613)를 구합니다.\n",
      "fibonacci(-2614)를 구합니다.\n",
      "fibonacci(-2615)를 구합니다.\n",
      "fibonacci(-2616)를 구합니다.\n",
      "fibonacci(-2617)를 구합니다.\n",
      "fibonacci(-2618)를 구합니다.\n",
      "fibonacci(-2619)를 구합니다.\n",
      "fibonacci(-2620)를 구합니다.\n",
      "fibonacci(-2621)를 구합니다.\n",
      "fibonacci(-2622)를 구합니다.\n",
      "fibonacci(-2623)를 구합니다.\n",
      "fibonacci(-2624)를 구합니다.\n",
      "fibonacci(-2625)를 구합니다.\n",
      "fibonacci(-2626)를 구합니다.\n",
      "fibonacci(-2627)를 구합니다.\n",
      "fibonacci(-2628)를 구합니다.\n",
      "fibonacci(-2629)를 구합니다.\n",
      "fibonacci(-2630)를 구합니다.\n",
      "fibonacci(-2631)를 구합니다.\n",
      "fibonacci(-2632)를 구합니다.\n",
      "fibonacci(-2633)를 구합니다.\n",
      "fibonacci(-2634)를 구합니다.\n",
      "fibonacci(-2635)를 구합니다.\n",
      "fibonacci(-2636)를 구합니다.\n",
      "fibonacci(-2637)를 구합니다.\n",
      "fibonacci(-2638)를 구합니다.\n",
      "fibonacci(-2639)를 구합니다.\n",
      "fibonacci(-2640)를 구합니다.\n",
      "fibonacci(-2641)를 구합니다.\n",
      "fibonacci(-2642)를 구합니다.\n",
      "fibonacci(-2643)를 구합니다.\n",
      "fibonacci(-2644)를 구합니다.\n",
      "fibonacci(-2645)를 구합니다.\n",
      "fibonacci(-2646)를 구합니다.\n",
      "fibonacci(-2647)를 구합니다.\n",
      "fibonacci(-2648)를 구합니다.\n",
      "fibonacci(-2649)를 구합니다.\n",
      "fibonacci(-2650)를 구합니다.\n",
      "fibonacci(-2651)를 구합니다.\n",
      "fibonacci(-2652)를 구합니다.\n",
      "fibonacci(-2653)를 구합니다.\n",
      "fibonacci(-2654)를 구합니다.\n",
      "fibonacci(-2655)를 구합니다.\n",
      "fibonacci(-2656)를 구합니다.\n",
      "fibonacci(-2657)를 구합니다.\n",
      "fibonacci(-2658)를 구합니다.\n",
      "fibonacci(-2659)를 구합니다.\n",
      "fibonacci(-2660)를 구합니다.\n",
      "fibonacci(-2661)를 구합니다.\n",
      "fibonacci(-2662)를 구합니다.\n",
      "fibonacci(-2663)를 구합니다.\n",
      "fibonacci(-2664)를 구합니다.\n",
      "fibonacci(-2665)를 구합니다.\n",
      "fibonacci(-2666)를 구합니다.\n",
      "fibonacci(-2667)를 구합니다.\n",
      "fibonacci(-2668)를 구합니다.\n",
      "fibonacci(-2669)를 구합니다.\n",
      "fibonacci(-2670)를 구합니다.\n",
      "fibonacci(-2671)를 구합니다.\n",
      "fibonacci(-2672)를 구합니다.\n",
      "fibonacci(-2673)를 구합니다.\n",
      "fibonacci(-2674)를 구합니다.\n",
      "fibonacci(-2675)를 구합니다.\n",
      "fibonacci(-2676)를 구합니다.\n",
      "fibonacci(-2677)를 구합니다.\n",
      "fibonacci(-2678)를 구합니다.\n",
      "fibonacci(-2679)를 구합니다.\n",
      "fibonacci(-2680)를 구합니다.\n",
      "fibonacci(-2681)를 구합니다.\n",
      "fibonacci(-2682)를 구합니다.\n",
      "fibonacci(-2683)를 구합니다.\n",
      "fibonacci(-2684)를 구합니다.\n",
      "fibonacci(-2685)를 구합니다.\n",
      "fibonacci(-2686)를 구합니다.\n",
      "fibonacci(-2687)를 구합니다.\n",
      "fibonacci(-2688)를 구합니다.\n",
      "fibonacci(-2689)를 구합니다.\n",
      "fibonacci(-2690)를 구합니다.\n",
      "fibonacci(-2691)를 구합니다.\n",
      "fibonacci(-2692)를 구합니다.\n",
      "fibonacci(-2693)를 구합니다.\n",
      "fibonacci(-2694)를 구합니다.\n",
      "fibonacci(-2695)를 구합니다.\n",
      "fibonacci(-2696)를 구합니다.\n",
      "fibonacci(-2697)를 구합니다.\n",
      "fibonacci(-2698)를 구합니다.\n",
      "fibonacci(-2699)를 구합니다.\n",
      "fibonacci(-2700)를 구합니다.\n",
      "fibonacci(-2701)를 구합니다.\n",
      "fibonacci(-2702)를 구합니다.\n",
      "fibonacci(-2703)를 구합니다.\n",
      "fibonacci(-2704)를 구합니다.\n",
      "fibonacci(-2705)를 구합니다.\n",
      "fibonacci(-2706)를 구합니다.\n",
      "fibonacci(-2707)를 구합니다.\n",
      "fibonacci(-2708)를 구합니다.\n",
      "fibonacci(-2709)를 구합니다.\n",
      "fibonacci(-2710)를 구합니다.\n",
      "fibonacci(-2711)를 구합니다.\n",
      "fibonacci(-2712)를 구합니다.\n",
      "fibonacci(-2713)를 구합니다.\n",
      "fibonacci(-2714)를 구합니다.\n",
      "fibonacci(-2715)를 구합니다.\n",
      "fibonacci(-2716)를 구합니다.\n",
      "fibonacci(-2717)를 구합니다.\n",
      "fibonacci(-2718)를 구합니다.\n",
      "fibonacci(-2719)를 구합니다.\n",
      "fibonacci(-2720)를 구합니다.\n",
      "fibonacci(-2721)를 구합니다.\n",
      "fibonacci(-2722)를 구합니다.\n",
      "fibonacci(-2723)를 구합니다.\n",
      "fibonacci(-2724)를 구합니다.\n",
      "fibonacci(-2725)를 구합니다.\n",
      "fibonacci(-2726)를 구합니다.\n",
      "fibonacci(-2727)를 구합니다.\n",
      "fibonacci(-2728)를 구합니다.\n",
      "fibonacci(-2729)를 구합니다.\n",
      "fibonacci(-2730)를 구합니다.\n",
      "fibonacci(-2731)를 구합니다.\n",
      "fibonacci(-2732)를 구합니다.\n",
      "fibonacci(-2733)를 구합니다.\n",
      "fibonacci(-2734)를 구합니다.\n",
      "fibonacci(-2735)를 구합니다.\n",
      "fibonacci(-2736)를 구합니다.\n",
      "fibonacci(-2737)를 구합니다.\n",
      "fibonacci(-2738)를 구합니다.\n",
      "fibonacci(-2739)를 구합니다.\n",
      "fibonacci(-2740)를 구합니다.\n",
      "fibonacci(-2741)를 구합니다.\n",
      "fibonacci(-2742)를 구합니다.\n",
      "fibonacci(-2743)를 구합니다.\n",
      "fibonacci(-2744)를 구합니다.\n",
      "fibonacci(-2745)를 구합니다.\n",
      "fibonacci(-2746)를 구합니다.\n",
      "fibonacci(-2747)를 구합니다.\n",
      "fibonacci(-2748)를 구합니다.\n",
      "fibonacci(-2749)를 구합니다.\n",
      "fibonacci(-2750)를 구합니다.\n",
      "fibonacci(-2751)를 구합니다.\n",
      "fibonacci(-2752)를 구합니다.\n",
      "fibonacci(-2753)를 구합니다.\n",
      "fibonacci(-2754)를 구합니다.\n",
      "fibonacci(-2755)를 구합니다.\n",
      "fibonacci(-2756)를 구합니다.\n",
      "fibonacci(-2757)를 구합니다.\n",
      "fibonacci(-2758)를 구합니다.\n",
      "fibonacci(-2759)를 구합니다.\n",
      "fibonacci(-2760)를 구합니다.\n",
      "fibonacci(-2761)를 구합니다.\n",
      "fibonacci(-2762)를 구합니다.\n",
      "fibonacci(-2763)를 구합니다.\n",
      "fibonacci(-2764)를 구합니다.\n",
      "fibonacci(-2765)를 구합니다.\n",
      "fibonacci(-2766)를 구합니다.\n",
      "fibonacci(-2767)를 구합니다.\n",
      "fibonacci(-2768)를 구합니다.\n",
      "fibonacci(-2769)를 구합니다.\n",
      "fibonacci(-2770)를 구합니다.\n",
      "fibonacci(-2771)를 구합니다.\n",
      "fibonacci(-2772)를 구합니다.\n",
      "fibonacci(-2773)를 구합니다.\n",
      "fibonacci(-2774)를 구합니다.\n",
      "fibonacci(-2775)를 구합니다.\n",
      "fibonacci(-2776)를 구합니다.\n",
      "fibonacci(-2777)를 구합니다.\n",
      "fibonacci(-2778)를 구합니다.\n",
      "fibonacci(-2779)를 구합니다.\n",
      "fibonacci(-2780)를 구합니다.\n",
      "fibonacci(-2781)를 구합니다.\n",
      "fibonacci(-2782)를 구합니다.\n",
      "fibonacci(-2783)를 구합니다.\n",
      "fibonacci(-2784)를 구합니다.\n",
      "fibonacci(-2785)를 구합니다.\n",
      "fibonacci(-2786)를 구합니다.\n",
      "fibonacci(-2787)를 구합니다.\n",
      "fibonacci(-2788)를 구합니다.\n",
      "fibonacci(-2789)를 구합니다.\n",
      "fibonacci(-2790)를 구합니다.\n",
      "fibonacci(-2791)를 구합니다.\n",
      "fibonacci(-2792)를 구합니다.\n",
      "fibonacci(-2793)를 구합니다.\n",
      "fibonacci(-2794)를 구합니다.\n",
      "fibonacci(-2795)를 구합니다.\n",
      "fibonacci(-2796)를 구합니다.\n",
      "fibonacci(-2797)를 구합니다.\n",
      "fibonacci(-2798)를 구합니다.\n",
      "fibonacci(-2799)를 구합니다.\n",
      "fibonacci(-2800)를 구합니다.\n",
      "fibonacci(-2801)를 구합니다.\n",
      "fibonacci(-2802)를 구합니다.\n",
      "fibonacci(-2803)를 구합니다.\n",
      "fibonacci(-2804)를 구합니다.\n",
      "fibonacci(-2805)를 구합니다.\n",
      "fibonacci(-2806)를 구합니다.\n",
      "fibonacci(-2807)를 구합니다.\n",
      "fibonacci(-2808)를 구합니다.\n",
      "fibonacci(-2809)를 구합니다.\n",
      "fibonacci(-2810)를 구합니다.\n",
      "fibonacci(-2811)를 구합니다.\n",
      "fibonacci(-2812)를 구합니다.\n",
      "fibonacci(-2813)를 구합니다.\n",
      "fibonacci(-2814)를 구합니다.\n",
      "fibonacci(-2815)를 구합니다.\n",
      "fibonacci(-2816)를 구합니다.\n",
      "fibonacci(-2817)를 구합니다.\n",
      "fibonacci(-2818)를 구합니다.\n",
      "fibonacci(-2819)를 구합니다.\n",
      "fibonacci(-2820)를 구합니다.\n",
      "fibonacci(-2821)를 구합니다.\n",
      "fibonacci(-2822)를 구합니다.\n",
      "fibonacci(-2823)를 구합니다.\n",
      "fibonacci(-2824)를 구합니다.\n",
      "fibonacci(-2825)를 구합니다.\n",
      "fibonacci(-2826)를 구합니다.\n",
      "fibonacci(-2827)를 구합니다.\n",
      "fibonacci(-2828)를 구합니다.\n",
      "fibonacci(-2829)를 구합니다.\n",
      "fibonacci(-2830)를 구합니다.\n",
      "fibonacci(-2831)를 구합니다.\n",
      "fibonacci(-2832)를 구합니다.\n",
      "fibonacci(-2833)를 구합니다.\n",
      "fibonacci(-2834)를 구합니다.\n",
      "fibonacci(-2835)를 구합니다.\n",
      "fibonacci(-2836)를 구합니다.\n",
      "fibonacci(-2837)를 구합니다.\n",
      "fibonacci(-2838)를 구합니다.\n",
      "fibonacci(-2839)를 구합니다.\n",
      "fibonacci(-2840)를 구합니다.\n",
      "fibonacci(-2841)를 구합니다.\n",
      "fibonacci(-2842)를 구합니다.\n",
      "fibonacci(-2843)를 구합니다.\n",
      "fibonacci(-2844)를 구합니다.\n",
      "fibonacci(-2845)를 구합니다.\n",
      "fibonacci(-2846)를 구합니다.\n",
      "fibonacci(-2847)를 구합니다.\n",
      "fibonacci(-2848)를 구합니다.\n",
      "fibonacci(-2849)를 구합니다.\n",
      "fibonacci(-2850)를 구합니다.\n",
      "fibonacci(-2851)를 구합니다.\n",
      "fibonacci(-2852)를 구합니다.\n",
      "fibonacci(-2853)를 구합니다.\n",
      "fibonacci(-2854)를 구합니다.\n",
      "fibonacci(-2855)를 구합니다.\n",
      "fibonacci(-2856)를 구합니다.\n",
      "fibonacci(-2857)를 구합니다.\n",
      "fibonacci(-2858)를 구합니다.\n",
      "fibonacci(-2859)를 구합니다.\n",
      "fibonacci(-2860)를 구합니다.\n",
      "fibonacci(-2861)를 구합니다.\n",
      "fibonacci(-2862)를 구합니다.\n",
      "fibonacci(-2863)를 구합니다.\n",
      "fibonacci(-2864)를 구합니다.\n",
      "fibonacci(-2865)를 구합니다.\n",
      "fibonacci(-2866)를 구합니다.\n",
      "fibonacci(-2867)를 구합니다.\n",
      "fibonacci(-2868)를 구합니다.\n",
      "fibonacci(-2869)를 구합니다.\n",
      "fibonacci(-2870)를 구합니다.\n",
      "fibonacci(-2871)를 구합니다.\n",
      "fibonacci(-2872)를 구합니다.\n",
      "fibonacci(-2873)를 구합니다.\n",
      "fibonacci(-2874)를 구합니다.\n",
      "fibonacci(-2875)를 구합니다.\n",
      "fibonacci(-2876)를 구합니다.\n",
      "fibonacci(-2877)를 구합니다.\n",
      "fibonacci(-2878)를 구합니다.\n",
      "fibonacci(-2879)를 구합니다.\n",
      "fibonacci(-2880)를 구합니다.\n",
      "fibonacci(-2881)를 구합니다.\n",
      "fibonacci(-2882)를 구합니다.\n",
      "fibonacci(-2883)를 구합니다.\n",
      "fibonacci(-2884)를 구합니다.\n",
      "fibonacci(-2885)를 구합니다.\n",
      "fibonacci(-2886)를 구합니다.\n",
      "fibonacci(-2887)를 구합니다.\n",
      "fibonacci(-2888)를 구합니다.\n",
      "fibonacci(-2889)를 구합니다.\n",
      "fibonacci(-2890)를 구합니다.\n",
      "fibonacci(-2891)를 구합니다.\n",
      "fibonacci(-2892)를 구합니다.\n",
      "fibonacci(-2893)를 구합니다.\n",
      "fibonacci(-2894)를 구합니다.\n",
      "fibonacci(-2895)를 구합니다.\n",
      "fibonacci(-2896)를 구합니다.\n",
      "fibonacci(-2897)를 구합니다.\n",
      "fibonacci(-2898)를 구합니다.\n",
      "fibonacci(-2899)를 구합니다.\n",
      "fibonacci(-2900)를 구합니다.\n",
      "fibonacci(-2901)를 구합니다.\n",
      "fibonacci(-2902)를 구합니다.\n",
      "fibonacci(-2903)를 구합니다.\n",
      "fibonacci(-2904)를 구합니다.\n",
      "fibonacci(-2905)를 구합니다.\n",
      "fibonacci(-2906)를 구합니다.\n",
      "fibonacci(-2907)를 구합니다.\n",
      "fibonacci(-2908)를 구합니다.\n",
      "fibonacci(-2909)를 구합니다.\n",
      "fibonacci(-2910)를 구합니다.\n",
      "fibonacci(-2911)를 구합니다.\n",
      "fibonacci(-2912)를 구합니다.\n",
      "fibonacci(-2913)를 구합니다.\n",
      "fibonacci(-2914)를 구합니다.\n",
      "fibonacci(-2915)를 구합니다.\n",
      "fibonacci(-2916)를 구합니다.\n",
      "fibonacci(-2917)를 구합니다.\n",
      "fibonacci(-2918)를 구합니다.\n",
      "fibonacci(-2919)를 구합니다.\n",
      "fibonacci(-2920)를 구합니다.\n",
      "fibonacci(-2921)를 구합니다.\n",
      "fibonacci(-2922)를 구합니다.\n",
      "fibonacci(-2923)를 구합니다.\n",
      "fibonacci(-2924)를 구합니다.\n",
      "fibonacci(-2925)를 구합니다.\n",
      "fibonacci(-2926)를 구합니다.\n",
      "fibonacci(-2927)를 구합니다.\n",
      "fibonacci(-2928)를 구합니다.\n",
      "fibonacci(-2929)를 구합니다.\n",
      "fibonacci(-2930)를 구합니다.\n",
      "fibonacci(-2931)를 구합니다.\n",
      "fibonacci(-2932)를 구합니다.\n",
      "fibonacci(-2933)를 구합니다.\n",
      "fibonacci(-2934)를 구합니다.\n",
      "fibonacci(-2935)를 구합니다.\n",
      "fibonacci(-2936)를 구합니다.\n",
      "fibonacci(-2937)를 구합니다.\n",
      "fibonacci(-2938)를 구합니다.\n",
      "fibonacci(-2939)를 구합니다.\n",
      "fibonacci(-2940)를 구합니다.\n",
      "fibonacci(-2941)를 구합니다.\n",
      "fibonacci(-2942)를 구합니다.\n",
      "fibonacci(-2943)를 구합니다.\n",
      "fibonacci(-2944)를 구합니다.\n",
      "fibonacci(-2945)를 구합니다.\n",
      "fibonacci(-2946)를 구합니다.\n",
      "fibonacci(-2947)를 구합니다.\n",
      "fibonacci(-2948)를 구합니다.\n",
      "fibonacci(-2949)를 구합니다.\n",
      "fibonacci(-2950)를 구합니다.\n",
      "fibonacci(-2951)를 구합니다.\n",
      "fibonacci(-2952)를 구합니다.\n",
      "fibonacci(-2953)를 구합니다.\n",
      "fibonacci(-2954)를 구합니다.\n",
      "fibonacci(-2955)를 구합니다.\n",
      "fibonacci(-2956)를 구합니다.\n",
      "fibonacci(-2957)를 구합니다.\n",
      "fibonacci(-2958)를 구합니다.\n",
      "fibonacci(-2959)를 구합니다.\n",
      "fibonacci(-2960)를 구합니다.\n",
      "fibonacci(-2961)를 구합니다.\n",
      "fibonacci(-2962)를 구합니다.\n",
      "fibonacci(-2963)를 구합니다.\n",
      "fibonacci(-2964)를 구합니다.\n",
      "fibonacci(-2965)를 구합니다.\n",
      "fibonacci(-2966)를 구합니다.\n",
      "fibonacci(-2967)를 구합니다.\n"
     ]
    },
    {
     "ename": "RecursionError",
     "evalue": "maximum recursion depth exceeded while calling a Python object",
     "output_type": "error",
     "traceback": [
      "\u001b[1;31m---------------------------------------------------------------------------\u001b[0m",
      "\u001b[1;31mRecursionError\u001b[0m                            Traceback (most recent call last)",
      "Cell \u001b[1;32mIn[1], line 14\u001b[0m\n\u001b[0;32m     11\u001b[0m     \u001b[38;5;28;01melse\u001b[39;00m:\n\u001b[0;32m     12\u001b[0m         \u001b[38;5;28;01mreturn\u001b[39;00m fibonacci(n\u001b[38;5;241m-\u001b[39m\u001b[38;5;241m1\u001b[39m) \u001b[38;5;241m+\u001b[39m fibonacci(n\u001b[38;5;241m-\u001b[39m\u001b[38;5;241m2\u001b[39m)\n\u001b[1;32m---> 14\u001b[0m \u001b[38;5;28mprint\u001b[39m(\u001b[43mfibonacci\u001b[49m\u001b[43m(\u001b[49m\u001b[38;5;241;43m0\u001b[39;49m\u001b[43m)\u001b[49m)\n\u001b[0;32m     15\u001b[0m \u001b[38;5;28mprint\u001b[39m(\u001b[38;5;124m\"\u001b[39m\u001b[38;5;124m---\u001b[39m\u001b[38;5;124m\"\u001b[39m)\n\u001b[0;32m     16\u001b[0m \u001b[38;5;28mprint\u001b[39m(\u001b[38;5;124m\"\u001b[39m\u001b[38;5;124mfibonacci(50) 계산에 사용된 덧셈 횟수는 \u001b[39m\u001b[38;5;132;01m{}\u001b[39;00m\u001b[38;5;124m번입니다.\u001b[39m\u001b[38;5;124m\"\u001b[39m\u001b[38;5;241m.\u001b[39mformat(counter))\n",
      "Cell \u001b[1;32mIn[1], line 12\u001b[0m, in \u001b[0;36mfibonacci\u001b[1;34m(n)\u001b[0m\n\u001b[0;32m     10\u001b[0m     \u001b[38;5;28;01mreturn\u001b[39;00m \u001b[38;5;241m1\u001b[39m\n\u001b[0;32m     11\u001b[0m \u001b[38;5;28;01melse\u001b[39;00m:\n\u001b[1;32m---> 12\u001b[0m     \u001b[38;5;28;01mreturn\u001b[39;00m \u001b[43mfibonacci\u001b[49m\u001b[43m(\u001b[49m\u001b[43mn\u001b[49m\u001b[38;5;241;43m-\u001b[39;49m\u001b[38;5;241;43m1\u001b[39;49m\u001b[43m)\u001b[49m \u001b[38;5;241m+\u001b[39m fibonacci(n\u001b[38;5;241m-\u001b[39m\u001b[38;5;241m2\u001b[39m)\n",
      "Cell \u001b[1;32mIn[1], line 12\u001b[0m, in \u001b[0;36mfibonacci\u001b[1;34m(n)\u001b[0m\n\u001b[0;32m     10\u001b[0m     \u001b[38;5;28;01mreturn\u001b[39;00m \u001b[38;5;241m1\u001b[39m\n\u001b[0;32m     11\u001b[0m \u001b[38;5;28;01melse\u001b[39;00m:\n\u001b[1;32m---> 12\u001b[0m     \u001b[38;5;28;01mreturn\u001b[39;00m \u001b[43mfibonacci\u001b[49m\u001b[43m(\u001b[49m\u001b[43mn\u001b[49m\u001b[38;5;241;43m-\u001b[39;49m\u001b[38;5;241;43m1\u001b[39;49m\u001b[43m)\u001b[49m \u001b[38;5;241m+\u001b[39m fibonacci(n\u001b[38;5;241m-\u001b[39m\u001b[38;5;241m2\u001b[39m)\n",
      "    \u001b[1;31m[... skipping similar frames: fibonacci at line 12 (2965 times)]\u001b[0m\n",
      "Cell \u001b[1;32mIn[1], line 12\u001b[0m, in \u001b[0;36mfibonacci\u001b[1;34m(n)\u001b[0m\n\u001b[0;32m     10\u001b[0m     \u001b[38;5;28;01mreturn\u001b[39;00m \u001b[38;5;241m1\u001b[39m\n\u001b[0;32m     11\u001b[0m \u001b[38;5;28;01melse\u001b[39;00m:\n\u001b[1;32m---> 12\u001b[0m     \u001b[38;5;28;01mreturn\u001b[39;00m \u001b[43mfibonacci\u001b[49m\u001b[43m(\u001b[49m\u001b[43mn\u001b[49m\u001b[38;5;241;43m-\u001b[39;49m\u001b[38;5;241;43m1\u001b[39;49m\u001b[43m)\u001b[49m \u001b[38;5;241m+\u001b[39m fibonacci(n\u001b[38;5;241m-\u001b[39m\u001b[38;5;241m2\u001b[39m)\n",
      "Cell \u001b[1;32mIn[1], line 4\u001b[0m, in \u001b[0;36mfibonacci\u001b[1;34m(n)\u001b[0m\n\u001b[0;32m      3\u001b[0m \u001b[38;5;28;01mdef\u001b[39;00m\u001b[38;5;250m \u001b[39m\u001b[38;5;21mfibonacci\u001b[39m(n):\n\u001b[1;32m----> 4\u001b[0m     \u001b[38;5;28;43mprint\u001b[39;49m\u001b[43m(\u001b[49m\u001b[38;5;124;43m\"\u001b[39;49m\u001b[38;5;124;43mfibonacci(\u001b[39;49m\u001b[38;5;132;43;01m{}\u001b[39;49;00m\u001b[38;5;124;43m)를 구합니다.\u001b[39;49m\u001b[38;5;124;43m\"\u001b[39;49m\u001b[38;5;241;43m.\u001b[39;49m\u001b[43mformat\u001b[49m\u001b[43m(\u001b[49m\u001b[43mn\u001b[49m\u001b[43m)\u001b[49m\u001b[43m)\u001b[49m\n\u001b[0;32m      5\u001b[0m     \u001b[38;5;28;01mglobal\u001b[39;00m counter\n\u001b[0;32m      6\u001b[0m     counter \u001b[38;5;241m+\u001b[39m\u001b[38;5;241m=\u001b[39m \u001b[38;5;241m1\u001b[39m\n",
      "File \u001b[1;32mc:\\Users\\aiet-pc\\anaconda3\\envs\\pyt310\\lib\\site-packages\\ipykernel\\iostream.py:664\u001b[0m, in \u001b[0;36mOutStream.write\u001b[1;34m(self, string)\u001b[0m\n\u001b[0;32m    655\u001b[0m \u001b[38;5;28;01mdef\u001b[39;00m\u001b[38;5;250m \u001b[39m\u001b[38;5;21mwrite\u001b[39m(\u001b[38;5;28mself\u001b[39m, string: \u001b[38;5;28mstr\u001b[39m) \u001b[38;5;241m-\u001b[39m\u001b[38;5;241m>\u001b[39m Optional[\u001b[38;5;28mint\u001b[39m]:  \u001b[38;5;66;03m# type:ignore[override]\u001b[39;00m\n\u001b[0;32m    656\u001b[0m \u001b[38;5;250m    \u001b[39m\u001b[38;5;124;03m\"\"\"Write to current stream after encoding if necessary\u001b[39;00m\n\u001b[0;32m    657\u001b[0m \n\u001b[0;32m    658\u001b[0m \u001b[38;5;124;03m    Returns\u001b[39;00m\n\u001b[1;32m   (...)\u001b[0m\n\u001b[0;32m    662\u001b[0m \n\u001b[0;32m    663\u001b[0m \u001b[38;5;124;03m    \"\"\"\u001b[39;00m\n\u001b[1;32m--> 664\u001b[0m     parent \u001b[38;5;241m=\u001b[39m \u001b[38;5;28;43mself\u001b[39;49m\u001b[38;5;241;43m.\u001b[39;49m\u001b[43mparent_header\u001b[49m\n\u001b[0;32m    666\u001b[0m     \u001b[38;5;28;01mif\u001b[39;00m \u001b[38;5;129;01mnot\u001b[39;00m \u001b[38;5;28misinstance\u001b[39m(string, \u001b[38;5;28mstr\u001b[39m):\n\u001b[0;32m    667\u001b[0m         msg \u001b[38;5;241m=\u001b[39m \u001b[38;5;124mf\u001b[39m\u001b[38;5;124m\"\u001b[39m\u001b[38;5;124mwrite() argument must be str, not \u001b[39m\u001b[38;5;132;01m{\u001b[39;00m\u001b[38;5;28mtype\u001b[39m(string)\u001b[38;5;132;01m}\u001b[39;00m\u001b[38;5;124m\"\u001b[39m  \u001b[38;5;66;03m# type:ignore[unreachable]\u001b[39;00m\n",
      "File \u001b[1;32mc:\\Users\\aiet-pc\\anaconda3\\envs\\pyt310\\lib\\site-packages\\ipykernel\\iostream.py:509\u001b[0m, in \u001b[0;36mOutStream.parent_header\u001b[1;34m(self)\u001b[0m\n\u001b[0;32m    505\u001b[0m \u001b[38;5;129m@property\u001b[39m\n\u001b[0;32m    506\u001b[0m \u001b[38;5;28;01mdef\u001b[39;00m\u001b[38;5;250m \u001b[39m\u001b[38;5;21mparent_header\u001b[39m(\u001b[38;5;28mself\u001b[39m):\n\u001b[0;32m    507\u001b[0m     \u001b[38;5;28;01mtry\u001b[39;00m:\n\u001b[0;32m    508\u001b[0m         \u001b[38;5;66;03m# asyncio-specific\u001b[39;00m\n\u001b[1;32m--> 509\u001b[0m         \u001b[38;5;28;01mreturn\u001b[39;00m \u001b[38;5;28;43mself\u001b[39;49m\u001b[38;5;241;43m.\u001b[39;49m\u001b[43m_parent_header\u001b[49m\u001b[38;5;241;43m.\u001b[39;49m\u001b[43mget\u001b[49m\u001b[43m(\u001b[49m\u001b[43m)\u001b[49m\n\u001b[0;32m    510\u001b[0m     \u001b[38;5;28;01mexcept\u001b[39;00m \u001b[38;5;167;01mLookupError\u001b[39;00m:\n\u001b[0;32m    511\u001b[0m         \u001b[38;5;28;01mtry\u001b[39;00m:\n\u001b[0;32m    512\u001b[0m             \u001b[38;5;66;03m# thread-specific\u001b[39;00m\n",
      "\u001b[1;31mRecursionError\u001b[0m: maximum recursion depth exceeded while calling a Python object"
     ]
    }
   ],
   "source": [
    "#피보나치 수열 계산이 느린 이유\n",
    "counter = 0\n",
    "def fibonacci(n):\n",
    "    print(\"fibonacci({})를 구합니다.\".format(n))\n",
    "    global counter\n",
    "    counter += 1\n",
    "    if n == 1:\n",
    "        return 1\n",
    "    if n == 2:\n",
    "        return 1\n",
    "    else:\n",
    "        return fibonacci(n-1) + fibonacci(n-2)\n",
    "\n",
    "print(fibonacci(0))\n",
    "print(\"---\")\n",
    "print(\"fibonacci(50) 계산에 사용된 덧셈 횟수는 {}번입니다.\".format(counter))"
   ]
  },
  {
   "cell_type": "code",
   "execution_count": 4,
   "id": "3e337980",
   "metadata": {},
   "outputs": [
    {
     "name": "stdout",
     "output_type": "stream",
     "text": [
      "12586269025\n"
     ]
    }
   ],
   "source": [
    "dictionary = {1:1,2:1}\n",
    "def fibonacci(n):\n",
    "    if n in dictionary:\n",
    "        return dictionary[n]\n",
    "    else:\n",
    "        output = fibonacci(n-1) + fibonacci(n-2)\n",
    "        dictionary[n] = output\n",
    "        return output\n",
    "\n",
    "print(fibonacci(50))\n"
   ]
  },
  {
   "cell_type": "code",
   "execution_count": 3,
   "id": "1ea5e5b1",
   "metadata": {},
   "outputs": [
    {
     "name": "stdout",
     "output_type": "stream",
     "text": [
      "원본: [[1, 2, 3], [4, [5, 6]], 7, [8, 9]]\n",
      "변환: [1, 2, 3, 4, 5, 6, 7, 8, 9]\n"
     ]
    }
   ],
   "source": [
    "example = [[1, 2, 3],\n",
    "           [4, [5, 6]],\n",
    "           7, [8, 9]]\n",
    "\n",
    "def flatten(date):\n",
    "    output = []\n",
    "    for element in date:\n",
    "        if type(element) is list:\n",
    "            output.extend(flatten(element))\n",
    "        else:\n",
    "            output.append(element)\n",
    "    return output \n",
    "\n",
    "print(\"원본:\", example)\n",
    "print(\"변환:\",flatten(example))\n",
    "\n"
   ]
  },
  {
   "cell_type": "code",
   "execution_count": 7,
   "id": "38c4794b",
   "metadata": {},
   "outputs": [
    {
     "ename": "SyntaxError",
     "evalue": "invalid syntax (2603068282.py, line 6)",
     "output_type": "error",
     "traceback": [
      "\u001b[1;36m  Cell \u001b[1;32mIn[7], line 6\u001b[1;36m\u001b[0m\n\u001b[1;33m    def test_a(i,so_what - i):\u001b[0m\n\u001b[1;37m                         ^\u001b[0m\n\u001b[1;31mSyntaxError\u001b[0m\u001b[1;31m:\u001b[0m invalid syntax\n"
     ]
    }
   ],
   "source": [
    "a = 2\n",
    "b = 10\n",
    "so_what = 100\n",
    "memo = {}\n",
    "\n",
    "def test_a(i,so_what - i):\n",
    "    key = str(i,so_what-i)\n",
    "    if key in memo:\n",
    "        return memo[key]\n",
    "    if  i == 0:\n",
    "        return 1\n",
    "    if  i < 0:\n",
    "        return 0\n",
    "    "
   ]
  },
  {
   "cell_type": "code",
   "execution_count": 3,
   "id": "0e98d565",
   "metadata": {},
   "outputs": [
    {
     "name": "stdout",
     "output_type": "stream",
     "text": [
      "437420\n"
     ]
    }
   ],
   "source": [
    "앉힐사람최소수 = 2\n",
    "앉힐사람최대수 = 10\n",
    "전체사람수 = 100\n",
    "memo = {}\n",
    "\n",
    "def 문제(남은사람수,앉힌사람수):\n",
    "    key = str([남은사람수,앉힌사람수])\n",
    "\n",
    "    if key in memo:\n",
    "        return memo[key]\n",
    "    if 남은사람수 < 0:\n",
    "        return 0\n",
    "    if 남은사람수 == 0:\n",
    "        return 1\n",
    "    \n",
    "    count = 0\n",
    "    for i in range(앉힌사람수, 앉힐사람최대수 + 1):\n",
    "        count += 문제(남은사람수 - i, i)\n",
    "\n",
    "    memo[key] = count\n",
    "    return count\n",
    "\n",
    "print(문제(전체사람수,앉힐사람최소수))"
   ]
  },
  {
   "cell_type": "code",
   "execution_count": 9,
   "id": "8b67d46b",
   "metadata": {},
   "outputs": [],
   "source": [
    "a=str([10,20])\n",
    "b=str({10,20}) "
   ]
  },
  {
   "cell_type": "code",
   "execution_count": 10,
   "id": "05465b51",
   "metadata": {},
   "outputs": [
    {
     "name": "stdout",
     "output_type": "stream",
     "text": [
      "[10, 20] {10, 20}\n"
     ]
    }
   ],
   "source": [
    "print(a,b)"
   ]
  },
  {
   "cell_type": "code",
   "execution_count": null,
   "id": "6e68ed2b",
   "metadata": {},
   "outputs": [
    {
     "name": "stdout",
     "output_type": "stream",
     "text": [
      "437420\n"
     ]
    }
   ],
   "source": [
    "Sit_Min = 2\n",
    "Sit_Max = 10\n",
    "Total_people = 100\n",
    "memo = {}\n",
    "\n",
    "def pro(stand_pip,sit_pip):\n",
    "    key = str([stand_pip,sit_pip])\n",
    "\n",
    "    if key in memo:\n",
    "        return memo[key]\n",
    "    if stand_pip < 0:\n",
    "        return 0\n",
    "    if stand_pip == 0:\n",
    "        return 1\n",
    "    \n",
    "    count = 0\n",
    "    for i in range(sit_pip,Sit_Max + 1):\n",
    "        count += pro(stand_pip - i, i)\n",
    "\n",
    "    memo[key] = count\n",
    "    return count\n",
    "\n",
    "print(pro(Total_people,Sit_Min))"
   ]
  },
  {
   "cell_type": "code",
   "execution_count": 5,
   "id": "3db71f1f",
   "metadata": {},
   "outputs": [],
   "source": [
    "a, b = 10, 20"
   ]
  },
  {
   "cell_type": "code",
   "execution_count": 6,
   "id": "4fb3135c",
   "metadata": {},
   "outputs": [
    {
     "name": "stdout",
     "output_type": "stream",
     "text": [
      "10\n"
     ]
    }
   ],
   "source": [
    "print(a)"
   ]
  },
  {
   "cell_type": "code",
   "execution_count": 8,
   "id": "9bbc5852",
   "metadata": {},
   "outputs": [],
   "source": [
    "a, b = b, a"
   ]
  },
  {
   "cell_type": "code",
   "execution_count": 9,
   "id": "19a0af17",
   "metadata": {},
   "outputs": [
    {
     "name": "stdout",
     "output_type": "stream",
     "text": [
      "20\n"
     ]
    }
   ],
   "source": [
    "print(a)"
   ]
  },
  {
   "cell_type": "code",
   "execution_count": 10,
   "id": "5f06be33",
   "metadata": {},
   "outputs": [],
   "source": [
    "def test():\n",
    "    return(10,20)\n",
    "a, b = test()"
   ]
  },
  {
   "cell_type": "code",
   "execution_count": 11,
   "id": "0c8818ad",
   "metadata": {},
   "outputs": [
    {
     "name": "stdout",
     "output_type": "stream",
     "text": [
      "10\n",
      "20\n"
     ]
    }
   ],
   "source": [
    "print(a)\n",
    "print(b)"
   ]
  },
  {
   "cell_type": "code",
   "execution_count": 12,
   "id": "d936ad16",
   "metadata": {},
   "outputs": [
    {
     "name": "stdout",
     "output_type": "stream",
     "text": [
      "Hello\n",
      "Hello\n",
      "Hello\n",
      "Hello\n",
      "Hello\n",
      "Hello\n",
      "Hello\n",
      "Hello\n",
      "Hello\n",
      "Hello\n"
     ]
    }
   ],
   "source": [
    "def call_10_times(func):\n",
    "    for i in range(10):\n",
    "        func()\n",
    "\n",
    "def print_hello():\n",
    "    print(\"Hello\")\n",
    "\n",
    "call_10_times(print_hello)"
   ]
  },
  {
   "cell_type": "code",
   "execution_count": 16,
   "id": "ca02accc",
   "metadata": {},
   "outputs": [
    {
     "name": "stdout",
     "output_type": "stream",
     "text": [
      "#map() 함수의 실행결과\n",
      "<map object at 0x000001DEF2B3ACE0>\n",
      "[1, 4, 9, 16, 25]\n",
      "\n",
      "#filter() 함수의 실행결과\n",
      "<filter object at 0x000001DEF2B3AE00>\n",
      "[1, 2]\n"
     ]
    }
   ],
   "source": [
    "def power(item):\n",
    "    return item * item\n",
    "def under_3(item):\n",
    "    return item < 3\n",
    "\n",
    "list_input_a = [1,2,3,4,5]\n",
    "\n",
    "output_a = map(power,list_input_a)\n",
    "print(\"#map() 함수의 실행결과\")\n",
    "print(output_a)\n",
    "print(list(output_a))\n",
    "print()\n",
    "\n",
    "output_b = filter(under_3, list_input_a)\n",
    "print(\"#filter() 함수의 실행결과\")\n",
    "print(output_b)\n",
    "print(list(output_b))"
   ]
  },
  {
   "cell_type": "code",
   "execution_count": 14,
   "id": "3b65cff4",
   "metadata": {},
   "outputs": [
    {
     "name": "stdout",
     "output_type": "stream",
     "text": [
      "#map() 함수의 실행결과\n",
      "<map object at 0x000001DEF2E77FA0>\n",
      "[1, 4, 9, 16, 25]\n",
      "\n",
      "#filter() 함수의 실행결과\n",
      "<filter object at 0x000001DEF2E745B0>\n",
      "[1, 2]\n"
     ]
    }
   ],
   "source": [
    "power = lambda x: x * x\n",
    "under_3 = lambda x: x < 3\n",
    "\n",
    "list_input_a = [1,2,3,4,5]\n",
    "\n",
    "output_a = map(power, list_input_a)\n",
    "print(\"#map() 함수의 실행결과\")\n",
    "print(output_a)\n",
    "print(list(output_a))\n",
    "print()\n",
    "\n",
    "output_b = filter(under_3, list_input_a)\n",
    "print(\"#filter() 함수의 실행결과\")\n",
    "print(output_b)\n",
    "print(list(output_b))"
   ]
  },
  {
   "cell_type": "code",
   "execution_count": 17,
   "id": "5dc36377",
   "metadata": {},
   "outputs": [
    {
     "ename": "SyntaxError",
     "evalue": "(unicode error) 'unicodeescape' codec can't decode bytes in position 2-3: truncated \\UXXXXXXXX escape (4108765311.py, line 1)",
     "output_type": "error",
     "traceback": [
      "\u001b[1;36m  Cell \u001b[1;32mIn[17], line 1\u001b[1;36m\u001b[0m\n\u001b[1;33m    file = open(\"C:\\Users\\aiet-pc\\Desktop\\Python\\python.pptx\",\"r\")\u001b[0m\n\u001b[1;37m                                                             ^\u001b[0m\n\u001b[1;31mSyntaxError\u001b[0m\u001b[1;31m:\u001b[0m (unicode error) 'unicodeescape' codec can't decode bytes in position 2-3: truncated \\UXXXXXXXX escape\n"
     ]
    }
   ],
   "source": [
    "file = open(\"C:\\Users\\aiet-pc\\Desktop\\Python\\python.pptx\",\"r\")"
   ]
  },
  {
   "cell_type": "code",
   "execution_count": 24,
   "id": "ecb63ffd",
   "metadata": {},
   "outputs": [],
   "source": [
    "python = open(\"C:/Users/aiet-pc/Desktop/Python/python.pptx\",\"rb\")"
   ]
  },
  {
   "cell_type": "code",
   "execution_count": 22,
   "id": "51a8d3fb",
   "metadata": {},
   "outputs": [],
   "source": [
    "python = open(r\"C:\\Users\\aiet-pc\\Desktop\\Python\\python.pptx\", \"rb\")"
   ]
  },
  {
   "cell_type": "code",
   "execution_count": 26,
   "id": "436ef54d",
   "metadata": {},
   "outputs": [],
   "source": [
    "python.close()"
   ]
  },
  {
   "cell_type": "code",
   "execution_count": 27,
   "id": "8dc64a76",
   "metadata": {},
   "outputs": [],
   "source": [
    "with open(\"basic.txt\",\"w\") as file:\n",
    "    file.write(\"Hello python Programming...!\")"
   ]
  },
  {
   "cell_type": "code",
   "execution_count": 28,
   "id": "0832ffda",
   "metadata": {},
   "outputs": [
    {
     "name": "stdout",
     "output_type": "stream",
     "text": [
      "Collecting python-pptx\n",
      "  Downloading python_pptx-1.0.2-py3-none-any.whl.metadata (2.5 kB)\n",
      "Collecting Pillow>=3.3.2 (from python-pptx)\n",
      "  Downloading pillow-11.2.1-cp310-cp310-win_amd64.whl.metadata (9.1 kB)\n",
      "Collecting XlsxWriter>=0.5.7 (from python-pptx)\n",
      "  Downloading xlsxwriter-3.2.5-py3-none-any.whl.metadata (2.7 kB)\n",
      "Collecting lxml>=3.1.0 (from python-pptx)\n",
      "  Downloading lxml-5.4.0-cp310-cp310-win_amd64.whl.metadata (3.6 kB)\n",
      "Requirement already satisfied: typing-extensions>=4.9.0 in c:\\users\\aiet-pc\\anaconda3\\envs\\pyt310\\lib\\site-packages (from python-pptx) (4.14.0)\n",
      "Downloading python_pptx-1.0.2-py3-none-any.whl (472 kB)\n",
      "Downloading lxml-5.4.0-cp310-cp310-win_amd64.whl (3.8 MB)\n",
      "   ---------------------------------------- 0.0/3.8 MB ? eta -:--:--\n",
      "   ---------------- ----------------------- 1.6/3.8 MB 7.6 MB/s eta 0:00:01\n",
      "   ----------------------------------- ---- 3.4/3.8 MB 8.4 MB/s eta 0:00:01\n",
      "   ---------------------------------------- 3.8/3.8 MB 8.4 MB/s eta 0:00:00\n",
      "Downloading pillow-11.2.1-cp310-cp310-win_amd64.whl (2.7 MB)\n",
      "   ---------------------------------------- 0.0/2.7 MB ? eta -:--:--\n",
      "   ----------------------- ---------------- 1.6/2.7 MB 6.5 MB/s eta 0:00:01\n",
      "   ---------------------------------------- 2.7/2.7 MB 7.4 MB/s eta 0:00:00\n",
      "Downloading xlsxwriter-3.2.5-py3-none-any.whl (172 kB)\n",
      "Installing collected packages: XlsxWriter, Pillow, lxml, python-pptx\n",
      "\n",
      "   ---------- ----------------------------- 1/4 [Pillow]\n",
      "   ---------- ----------------------------- 1/4 [Pillow]\n",
      "   -------------------- ------------------- 2/4 [lxml]\n",
      "   ------------------------------ --------- 3/4 [python-pptx]\n",
      "   ---------------------------------------- 4/4 [python-pptx]\n",
      "\n",
      "Successfully installed Pillow-11.2.1 XlsxWriter-3.2.5 lxml-5.4.0 python-pptx-1.0.2\n",
      "Note: you may need to restart the kernel to use updated packages.\n"
     ]
    }
   ],
   "source": [
    "pip install python-pptx"
   ]
  },
  {
   "cell_type": "code",
   "execution_count": 30,
   "id": "3f8d285b",
   "metadata": {},
   "outputs": [],
   "source": [
    "from pptx import Presentation\n",
    "\n",
    "prs = Presentation(r\"C:\\Users\\aiet-pc\\Desktop\\Python\\python.pptx\")"
   ]
  },
  {
   "cell_type": "code",
   "execution_count": 33,
   "id": "12434bd2",
   "metadata": {},
   "outputs": [
    {
     "ename": "UnicodeDecodeError",
     "evalue": "'utf-8' codec can't decode byte 0xe7 in position 17: invalid continuation byte",
     "output_type": "error",
     "traceback": [
      "\u001b[1;31m---------------------------------------------------------------------------\u001b[0m",
      "\u001b[1;31mUnicodeDecodeError\u001b[0m                        Traceback (most recent call last)",
      "Cell \u001b[1;32mIn[33], line 2\u001b[0m\n\u001b[0;32m      1\u001b[0m \u001b[38;5;28;01mwith\u001b[39;00m \u001b[38;5;28mopen\u001b[39m(\u001b[38;5;124m\"\u001b[39m\u001b[38;5;124mC:/Users/aiet-pc/Desktop/Python/python.pptx\u001b[39m\u001b[38;5;124m\"\u001b[39m,\u001b[38;5;124m\"\u001b[39m\u001b[38;5;124mr\u001b[39m\u001b[38;5;124m\"\u001b[39m) \u001b[38;5;28;01mas\u001b[39;00m file:\n\u001b[1;32m----> 2\u001b[0m     contents \u001b[38;5;241m=\u001b[39m \u001b[43mfile\u001b[49m\u001b[38;5;241;43m.\u001b[39;49m\u001b[43mread\u001b[49m\u001b[43m(\u001b[49m\u001b[43m)\u001b[49m\n\u001b[0;32m      3\u001b[0m \u001b[38;5;28mprint\u001b[39m(contents)\n",
      "File \u001b[1;32mc:\\Users\\aiet-pc\\anaconda3\\envs\\pyt310\\lib\\codecs.py:322\u001b[0m, in \u001b[0;36mBufferedIncrementalDecoder.decode\u001b[1;34m(self, input, final)\u001b[0m\n\u001b[0;32m    319\u001b[0m \u001b[38;5;28;01mdef\u001b[39;00m\u001b[38;5;250m \u001b[39m\u001b[38;5;21mdecode\u001b[39m(\u001b[38;5;28mself\u001b[39m, \u001b[38;5;28minput\u001b[39m, final\u001b[38;5;241m=\u001b[39m\u001b[38;5;28;01mFalse\u001b[39;00m):\n\u001b[0;32m    320\u001b[0m     \u001b[38;5;66;03m# decode input (taking the buffer into account)\u001b[39;00m\n\u001b[0;32m    321\u001b[0m     data \u001b[38;5;241m=\u001b[39m \u001b[38;5;28mself\u001b[39m\u001b[38;5;241m.\u001b[39mbuffer \u001b[38;5;241m+\u001b[39m \u001b[38;5;28minput\u001b[39m\n\u001b[1;32m--> 322\u001b[0m     (result, consumed) \u001b[38;5;241m=\u001b[39m \u001b[38;5;28;43mself\u001b[39;49m\u001b[38;5;241;43m.\u001b[39;49m\u001b[43m_buffer_decode\u001b[49m\u001b[43m(\u001b[49m\u001b[43mdata\u001b[49m\u001b[43m,\u001b[49m\u001b[43m \u001b[49m\u001b[38;5;28;43mself\u001b[39;49m\u001b[38;5;241;43m.\u001b[39;49m\u001b[43merrors\u001b[49m\u001b[43m,\u001b[49m\u001b[43m \u001b[49m\u001b[43mfinal\u001b[49m\u001b[43m)\u001b[49m\n\u001b[0;32m    323\u001b[0m     \u001b[38;5;66;03m# keep undecoded input until the next call\u001b[39;00m\n\u001b[0;32m    324\u001b[0m     \u001b[38;5;28mself\u001b[39m\u001b[38;5;241m.\u001b[39mbuffer \u001b[38;5;241m=\u001b[39m data[consumed:]\n",
      "\u001b[1;31mUnicodeDecodeError\u001b[0m: 'utf-8' codec can't decode byte 0xe7 in position 17: invalid continuation byte"
     ]
    }
   ],
   "source": [
    "with open(\"C:/Users/aiet-pc/Desktop/Python/python.pptx\",\"r\") as file:\n",
    "    contents = file.read()\n",
    "print(contents)"
   ]
  },
  {
   "cell_type": "code",
   "execution_count": 34,
   "id": "f4e3bd97",
   "metadata": {},
   "outputs": [
    {
     "name": "stdout",
     "output_type": "stream",
     "text": [
      "Hello python Programming...!\n"
     ]
    }
   ],
   "source": [
    "with open(\"basic.txt\",\"r\") as file:\n",
    "    contents = file.read()\n",
    "print(contents)"
   ]
  },
  {
   "cell_type": "code",
   "execution_count": 35,
   "id": "6a45030a",
   "metadata": {},
   "outputs": [],
   "source": [
    "import random"
   ]
  },
  {
   "cell_type": "code",
   "execution_count": 37,
   "id": "9f0bceb7",
   "metadata": {},
   "outputs": [],
   "source": [
    "hanguls = list(\"가나다라마바사아자차카타파하\")\n",
    "\n",
    "with open(\"info.txt\",\"w\") as file:\n",
    "    for i in range(10000):\n",
    "        name = random.choice(hanguls) + random.choice(hanguls) + random.choice(hanguls)\n",
    "        weight = random.randrange(40, 100)\n",
    "        height = random.randrange(140, 200)\n",
    "\n",
    "        file.write(\"{},{},{}\\n\".format(name, weight, height))"
   ]
  },
  {
   "cell_type": "code",
   "execution_count": 1,
   "id": "c0fb5be8",
   "metadata": {},
   "outputs": [
    {
     "name": "stdout",
     "output_type": "stream",
     "text": [
      "슬라이드 1\n",
      "혼자 공부하는 파이썬\n",
      "윤인성 지음\n",
      "슬라이드 2\n",
      "File = open(파일 경로, 읽기 모드)\n",
      "w : write(새로 쓰기 모드)\n",
      "\n",
      "a : append(뒤에 이어쓰기 모드)\n",
      "\n",
      "r : read(읽기 모드)\n",
      "슬라이드 3\n",
      "\n",
      "\n"
     ]
    }
   ],
   "source": [
    "from pptx import Presentation\n",
    "\n",
    "# 파일 열기\n",
    "ppt = Presentation(r\"C:\\Users\\aiet-pc\\Desktop\\Python\\python.pptx\")\n",
    "\n",
    "# 슬라이드와 텍스트 출력\n",
    "for i, slide in enumerate(ppt.slides):\n",
    "    print(f\"슬라이드 {i+1}\")\n",
    "    for shape in slide.shapes:\n",
    "        if hasattr(shape, \"text\"):\n",
    "            print(shape.text)"
   ]
  },
  {
   "cell_type": "code",
   "execution_count": null,
   "id": "0bffc505",
   "metadata": {},
   "outputs": [
    {
     "ename": "TypeError",
     "evalue": "str.join() takes exactly one argument (2 given)",
     "output_type": "error",
     "traceback": [
      "\u001b[1;31m---------------------------------------------------------------------------\u001b[0m",
      "\u001b[1;31mTypeError\u001b[0m                                 Traceback (most recent call last)",
      "Cell \u001b[1;32mIn[4], line 2\u001b[0m\n\u001b[0;32m      1\u001b[0m unmbers \u001b[38;5;241m=\u001b[39m [\u001b[38;5;241m1\u001b[39m, \u001b[38;5;241m2\u001b[39m, \u001b[38;5;241m3\u001b[39m, \u001b[38;5;241m4\u001b[39m, \u001b[38;5;241m5\u001b[39m, \u001b[38;5;241m6\u001b[39m]\n\u001b[1;32m----> 2\u001b[0m \u001b[38;5;28mprint\u001b[39m(\u001b[38;5;124;43m\"\u001b[39;49m\u001b[38;5;124;43m::\u001b[39;49m\u001b[38;5;124;43m\"\u001b[39;49m\u001b[38;5;241;43m.\u001b[39;49m\u001b[43mjoin\u001b[49m\u001b[43m(\u001b[49m\u001b[38;5;28;43mstr\u001b[39;49m\u001b[43m,\u001b[49m\u001b[43m \u001b[49m\u001b[43munmbers\u001b[49m\u001b[43m)\u001b[49m)\n",
      "\u001b[1;31mTypeError\u001b[0m: str.join() takes exactly one argument (2 given)"
     ]
    }
   ],
   "source": [
    "numbers = [1, 2, 3, 4, 5, 6]\n",
    "print(\"::\".join(str, numbers))"
   ]
  },
  {
   "cell_type": "code",
   "execution_count": 16,
   "id": "7e7d7897",
   "metadata": {},
   "outputs": [
    {
     "name": "stdout",
     "output_type": "stream",
     "text": [
      "#홀수만 추출하기\n",
      "[1, 3, 5, 7, 9]\n",
      "#3 이상, 7 미만 추출하기\n",
      "[3, 4, 5, 6]\n",
      "#제곱해서 50미만 추출하기\n",
      "[1, 2, 3, 4, 5, 6, 7]\n"
     ]
    }
   ],
   "source": [
    "numbers = list(range(1, 10 + 1))\n",
    "\n",
    "print(\"#홀수만 추출하기\")\n",
    "print(list(filter(lambda x: x % 2 == 1,numbers)))\n",
    "\n",
    "print(\"#3 이상, 7 미만 추출하기\")\n",
    "print(list(filter(lambda x: 3 <= x < 7,numbers)))\n",
    "\n",
    "print(\"#제곱해서 50미만 추출하기\")\n",
    "print(list(filter(lambda x: x ** 2 < 50,numbers)))"
   ]
  },
  {
   "cell_type": "code",
   "execution_count": 17,
   "id": "11ba1175",
   "metadata": {},
   "outputs": [
    {
     "ename": "SyntaxError",
     "evalue": "unterminated string literal (detected at line 2) (155140545.py, line 2)",
     "output_type": "error",
     "traceback": [
      "\u001b[1;36m  Cell \u001b[1;32mIn[17], line 2\u001b[1;36m\u001b[0m\n\u001b[1;33m    print(\"Hello, World!)\u001b[0m\n\u001b[1;37m          ^\u001b[0m\n\u001b[1;31mSyntaxError\u001b[0m\u001b[1;31m:\u001b[0m unterminated string literal (detected at line 2)\n"
     ]
    }
   ],
   "source": [
    "#구문오류\n",
    "print(\"Hello, World!)"
   ]
  },
  {
   "cell_type": "code",
   "execution_count": 18,
   "id": "52841381",
   "metadata": {},
   "outputs": [
    {
     "ename": "NameError",
     "evalue": "name 'list_a' is not defined",
     "output_type": "error",
     "traceback": [
      "\u001b[1;31m---------------------------------------------------------------------------\u001b[0m",
      "\u001b[1;31mNameError\u001b[0m                                 Traceback (most recent call last)",
      "Cell \u001b[1;32mIn[18], line 2\u001b[0m\n\u001b[0;32m      1\u001b[0m \u001b[38;5;66;03m#예외 발생, 런타임오류\u001b[39;00m\n\u001b[1;32m----> 2\u001b[0m \u001b[43mlist_a\u001b[49m[\u001b[38;5;241m1\u001b[39m]\n",
      "\u001b[1;31mNameError\u001b[0m: name 'list_a' is not defined"
     ]
    }
   ],
   "source": [
    "#예외 발생, 런타임오류\n",
    "list_a[1]"
   ]
  },
  {
   "cell_type": "code",
   "execution_count": 23,
   "id": "cee77d2b",
   "metadata": {},
   "outputs": [
    {
     "name": "stdout",
     "output_type": "stream",
     "text": [
      "정수를 입력해달라고 했잖아요?!\n",
      "프로그램을 종료합니다.\n"
     ]
    }
   ],
   "source": [
    "try:\n",
    "    number_input_a = int(input(\"정수 입력>\"))\n",
    "                         \n",
    "    print(\"반지름\", number_input_a)\n",
    "    print(\"둘레\", 2 * 3.14 * number_input_a)\n",
    "    print(\"넓이\", 3.14 * number_input_a ** 2)\n",
    "\n",
    "except:\n",
    "    print(\"정수를 입력해달라고 했잖아요?!\")\n",
    "\n",
    "else:\n",
    "    print(\"정수 입력 성공\")\n",
    "\n",
    "finally:\n",
    "    print(\"프로그램을 종료합니다.\")"
   ]
  },
  {
   "cell_type": "code",
   "execution_count": 27,
   "id": "c1715e1a",
   "metadata": {},
   "outputs": [
    {
     "name": "stdout",
     "output_type": "stream",
     "text": [
      "#(1) 요소 내부에 있는 값 찾기\n",
      "-52은(는) 1 위치에 있습니다\n",
      "\n",
      "#(2) 요소 내부에 없는 값 찾기\n",
      "-10000은(는) 리스트에 없는 값입니다.\n",
      "----------------\n"
     ]
    }
   ],
   "source": [
    "numbers = [52, 273, 32 ,103, 90, 10, 275]\n",
    "\n",
    "print(\"#(1) 요소 내부에 있는 값 찾기\")\n",
    "print(\"-{}은(는) {} 위치에 있습니다\".format(52,numbers.index(52)+1))\n",
    "print()\n",
    "\n",
    "print(\"#(2) 요소 내부에 없는 값 찾기\")\n",
    "number = 10000\n",
    "try:\n",
    "    print(\"-{}은(는) {} 위치에 있습니다\".format(number,numbers.index(number)+1))\n",
    "\n",
    "except:\n",
    "    print(\"-{}은(는) 리스트에 없는 값입니다.\".format(number))\n",
    "\n",
    "finally:\n",
    "    print(\"----------------\")"
   ]
  },
  {
   "cell_type": "code",
   "execution_count": 28,
   "id": "957a32af",
   "metadata": {},
   "outputs": [
    {
     "name": "stdout",
     "output_type": "stream",
     "text": [
      "<class 'ValueError'>\n",
      "invalid literal for int() with base 10: '정수'\n"
     ]
    }
   ],
   "source": [
    "try:\n",
    "    number_input_a = int(input(\"정수 입력>\"))\n",
    "\n",
    "    print(number_input_a)\n",
    "    print(2 * 3.14 * number_input_a)\n",
    "    print(3.14 * number_input_a ** 2)\n",
    "except Exception as exception:\n",
    "    print(type(exception))\n",
    "    print(exception)"
   ]
  },
  {
   "cell_type": "code",
   "execution_count": 29,
   "id": "0b244872",
   "metadata": {},
   "outputs": [
    {
     "ename": "NotImplementedError",
     "evalue": "",
     "output_type": "error",
     "traceback": [
      "\u001b[1;31m---------------------------------------------------------------------------\u001b[0m",
      "\u001b[1;31mNotImplementedError\u001b[0m                       Traceback (most recent call last)",
      "Cell \u001b[1;32mIn[29], line 5\u001b[0m\n\u001b[0;32m      2\u001b[0m number\u001b[38;5;241m=\u001b[39m\u001b[38;5;28mint\u001b[39m(number)\n\u001b[0;32m      4\u001b[0m \u001b[38;5;28;01mif\u001b[39;00m number \u001b[38;5;241m>\u001b[39m \u001b[38;5;241m0\u001b[39m:\n\u001b[1;32m----> 5\u001b[0m     \u001b[38;5;28;01mraise\u001b[39;00m \u001b[38;5;167;01mNotImplementedError\u001b[39;00m\n\u001b[0;32m      7\u001b[0m \u001b[38;5;28;01melse\u001b[39;00m:\n\u001b[0;32m      8\u001b[0m     \u001b[38;5;28;01mraise\u001b[39;00m \u001b[38;5;167;01mNotImplementedError\u001b[39;00m\n",
      "\u001b[1;31mNotImplementedError\u001b[0m: "
     ]
    }
   ],
   "source": [
    "number=input(\"정수 입력>\")\n",
    "number=int(number)\n",
    "\n",
    "if number > 0:\n",
    "    raise NotImplementedError\n",
    "\n",
    "else:\n",
    "    raise NotImplementedError"
   ]
  },
  {
   "cell_type": "code",
   "execution_count": null,
   "id": "e1f4dfb7",
   "metadata": {},
   "outputs": [],
   "source": []
  }
 ],
 "metadata": {
  "kernelspec": {
   "display_name": "pyt310",
   "language": "python",
   "name": "python3"
  },
  "language_info": {
   "codemirror_mode": {
    "name": "ipython",
    "version": 3
   },
   "file_extension": ".py",
   "mimetype": "text/x-python",
   "name": "python",
   "nbconvert_exporter": "python",
   "pygments_lexer": "ipython3",
   "version": "3.10.18"
  }
 },
 "nbformat": 4,
 "nbformat_minor": 5
}
