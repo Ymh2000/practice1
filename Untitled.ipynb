{
 "cells": [
  {
   "cell_type": "code",
   "execution_count": 1,
   "id": "1b0271c8-8168-491c-b068-f110376ba27f",
   "metadata": {},
   "outputs": [
    {
     "name": "stdout",
     "output_type": "stream",
     "text": [
      "hell\n"
     ]
    }
   ],
   "source": [
    "print(\"hell\")"
   ]
  },
  {
   "cell_type": "code",
   "execution_count": 2,
   "id": "02a0325c-7dbe-4c5e-98d6-8cd54c52f1c9",
   "metadata": {},
   "outputs": [
    {
     "name": "stdin",
     "output_type": "stream",
     "text": [
      "실수> 3.14\n"
     ]
    }
   ],
   "source": [
    "a=float(input(\"실수>\"))"
   ]
  },
  {
   "cell_type": "code",
   "execution_count": 3,
   "id": "a9206f11-be61-4ede-9670-a86fd13dc933",
   "metadata": {},
   "outputs": [
    {
     "name": "stdout",
     "output_type": "stream",
     "text": [
      "양수\n"
     ]
    }
   ],
   "source": [
    "if a > 0:\n",
    "    print(\"양수\")\n",
    "elif a < 0:\n",
    "    print(\"음수\")\n",
    "else:\n",
    "    print(\"0\")"
   ]
  },
  {
   "cell_type": "code",
   "execution_count": null,
   "id": "30e6d3ec-45a6-4b3f-834c-1ea7dbd24e6b",
   "metadata": {},
   "outputs": [],
   "source": []
  }
 ],
 "metadata": {
  "kernelspec": {
   "display_name": "Python 3 (ipykernel)",
   "language": "python",
   "name": "python3"
  },
  "language_info": {
   "codemirror_mode": {
    "name": "ipython",
    "version": 3
   },
   "file_extension": ".py",
   "mimetype": "text/x-python",
   "name": "python",
   "nbconvert_exporter": "python",
   "pygments_lexer": "ipython3",
   "version": "3.12.7"
  }
 },
 "nbformat": 4,
 "nbformat_minor": 5
}
